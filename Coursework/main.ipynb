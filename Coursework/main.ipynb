{
 "cells": [
  {
   "cell_type": "code",
   "execution_count": null,
   "metadata": {
    "ExecuteTime": {
     "end_time": "2020-01-26T20:32:49.465464Z",
     "start_time": "2020-01-26T20:32:48.972916Z"
    }
   },
   "outputs": [],
   "source": [
    "import numpy as np\n",
    "from math import exp\n",
    "import matplotlib.pyplot as plt\n",
    "from matplotlib import animation\n",
    "from tqdm.notebook import tnrange\n",
    "from scipy.linalg import solve_banded"
   ]
  },
  {
   "cell_type": "code",
   "execution_count": null,
   "metadata": {
    "ExecuteTime": {
     "end_time": "2020-01-26T20:32:49.475890Z",
     "start_time": "2020-01-26T20:32:49.466895Z"
    }
   },
   "outputs": [],
   "source": [
    "def solve_linear(a, b, c, d):\n",
    "    nf = len(d)\n",
    "    ac, bc, cc, dc = map(np.array, (a, b, c, d))\n",
    "    for it in range(1, nf):\n",
    "        mc = ac[it - 1] / bc[it - 1]\n",
    "        bc[it] = bc[it] - mc * cc[it - 1] \n",
    "        dc[it] = dc[it] - mc * dc[it - 1]\n",
    "    xc = bc\n",
    "    xc[-1] = dc[-1] / bc[-1]\n",
    "    for il in range(nf - 2, -1, -1):\n",
    "        xc[il] = (dc[il] - cc[il] * xc[il + 1]) / bc[il]\n",
    "    return xc"
   ]
  },
  {
   "cell_type": "code",
   "execution_count": null,
   "metadata": {
    "ExecuteTime": {
     "end_time": "2020-01-26T20:32:49.566955Z",
     "start_time": "2020-01-26T20:32:49.477890Z"
    }
   },
   "outputs": [],
   "source": [
    "K = 1.6e6\n",
    "E = 8e4\n",
    "alpha = 1.0 # непонятно\n",
    "Q = 7e5\n",
    "ro = 830\n",
    "C = 1990\n",
    "lambd = 0.13\n",
    "D = 8e-12\n",
    "R = 8.31\n",
    "T0 = 293 # начальная температура\n",
    "Tm = T0 + Q / C # вроде бы конечная температура\n",
    "kappa = lambd / (ro * C)\n",
    "U = (2 * K * lambd / (Q * ro * Q / C) * T0 / Tm * ((R * Tm * Tm / E) ** 2) * exp(-E / (R * Tm))) ** 0.5\n",
    "beta = R * Tm / E\n",
    "gamma = R * Tm * Tm / (E * Q / C)\n",
    "delta_h = kappa / U\n",
    "delta_r = beta * delta_h\n",
    "delta_d = D / U\n",
    "Le = delta_d / delta_h"
   ]
  },
  {
   "cell_type": "code",
   "execution_count": null,
   "metadata": {
    "ExecuteTime": {
     "end_time": "2020-01-26T20:32:49.656621Z",
     "start_time": "2020-01-26T20:32:49.568943Z"
    }
   },
   "outputs": [],
   "source": [
    "print(Le)"
   ]
  },
  {
   "cell_type": "code",
   "execution_count": null,
   "metadata": {
    "ExecuteTime": {
     "end_time": "2020-01-26T20:32:49.733537Z",
     "start_time": "2020-01-26T20:32:49.664615Z"
    }
   },
   "outputs": [],
   "source": [
    "a = 0\n",
    "b = 3e-2\n",
    "dz = 1e-4\n",
    "z_steps = int((b-a) / dz)\n",
    "\n",
    "teta = 500\n",
    "dt = 1e-1\n",
    "t_steps = int(teta / dt)\n",
    "\n",
    "r_X = D * dt / (dz ** 2)\n",
    "r_T = kappa * dt / (dz ** 2)"
   ]
  },
  {
   "cell_type": "code",
   "execution_count": null,
   "metadata": {
    "ExecuteTime": {
     "end_time": "2020-01-26T20:32:49.853858Z",
     "start_time": "2020-01-26T20:32:49.736552Z"
    }
   },
   "outputs": [],
   "source": [
    "print(r_X, r_T)"
   ]
  },
  {
   "cell_type": "code",
   "execution_count": null,
   "metadata": {
    "ExecuteTime": {
     "end_time": "2020-01-26T20:32:50.043525Z",
     "start_time": "2020-01-26T20:32:49.860838Z"
    }
   },
   "outputs": [],
   "source": [
    "t_start = np.zeros(z_steps, dtype=np.float64)\n",
    "x_start = np.zeros(z_steps, dtype=np.float64)\n",
    "\n",
    "for i in range(1):\n",
    "    t_start[i] = Tm\n",
    "    x_start[i] = 0\n",
    "for i in range(1, z_steps):\n",
    "    t_start[i] = T0\n",
    "    x_start[i] = 1"
   ]
  },
  {
   "cell_type": "code",
   "execution_count": null,
   "metadata": {
    "ExecuteTime": {
     "end_time": "2020-01-26T20:32:50.133841Z",
     "start_time": "2020-01-26T20:32:50.055519Z"
    }
   },
   "outputs": [],
   "source": [
    "def W(X, T):\n",
    "    return -K*(X ** alpha)*exp(-E/(R*T)) "
   ]
  },
  {
   "cell_type": "code",
   "execution_count": null,
   "metadata": {
    "ExecuteTime": {
     "end_time": "2020-01-26T20:32:50.219937Z",
     "start_time": "2020-01-26T20:32:50.137840Z"
    }
   },
   "outputs": [],
   "source": [
    "def W_vectorized(X, T):\n",
    "    return -K*np.multiply((X ** alpha), np.exp(-E * np.reciprocal(R*T)))"
   ]
  },
  {
   "cell_type": "code",
   "execution_count": null,
   "metadata": {
    "ExecuteTime": {
     "end_time": "2020-01-26T20:32:50.320141Z",
     "start_time": "2020-01-26T20:32:50.225945Z"
    }
   },
   "outputs": [],
   "source": [
    "def solve(solver):\n",
    "    Ts = [t_start]\n",
    "    Xs = [x_start]\n",
    "    \n",
    "    for cur_iter in tnrange(1, t_steps + 1):\n",
    "        t = dt * cur_iter\n",
    "        cur_t, cur_x = solver(t, Ts[-1], Xs[-1])\n",
    "        Ts.append(cur_t)\n",
    "        Xs.append(cur_x)\n",
    "\n",
    "    return Ts, Xs"
   ]
  },
  {
   "cell_type": "code",
   "execution_count": null,
   "metadata": {
    "ExecuteTime": {
     "end_time": "2020-01-26T20:32:50.438223Z",
     "start_time": "2020-01-26T20:32:50.326137Z"
    }
   },
   "outputs": [],
   "source": [
    "def evident_opposite(t, prevT, prevX):\n",
    "    next_t_row = np.zeros(z_steps, dtype=np.float64)\n",
    "    next_x_row = np.zeros(z_steps, dtype=np.float64)\n",
    "    \n",
    "    for i in range(1, z_steps - 1):\n",
    "        prev_t = prevT[i - 1]\n",
    "        next_t = prevT[i + 1]\n",
    "        cur_t = prevT[i]\n",
    "        \n",
    "        prev_x = prevX[i - 1]\n",
    "        next_x = prevX[i + 1]\n",
    "        cur_x = prevX[i]\n",
    "        \n",
    "        next_t_row[i] = cur_t + r_T * (prev_t + next_t - 2 * cur_t) - Q/C * dt * W(cur_x, cur_t)\n",
    "        next_x_row[i] = cur_x + r_X * (prev_x + next_x - 2 * cur_x) + dt * W(cur_x, cur_t)\n",
    "    \n",
    "    next_t_row[0] = Tm\n",
    "    next_t_row[z_steps - 1] = next_t_row[z_steps - 2]\n",
    "    \n",
    "    next_x_row[0] = 0\n",
    "    next_x_row[z_steps - 1] = next_x_row[z_steps - 2]\n",
    "    return next_t_row, next_x_row"
   ]
  },
  {
   "cell_type": "code",
   "execution_count": null,
   "metadata": {
    "ExecuteTime": {
     "end_time": "2020-01-26T20:32:50.544025Z",
     "start_time": "2020-01-26T20:32:50.444212Z"
    }
   },
   "outputs": [],
   "source": [
    "def non_evident(t, prevT, prevX):\n",
    "    T_r = dt * kappa / (dz ** 2)\n",
    "    X_r = dt * D / (dz ** 2)\n",
    "    \n",
    "    T_a = np.repeat(T_r, z_steps)\n",
    "    T_b = np.repeat(-1 - 2 * T_r, z_steps)\n",
    "    T_c = np.repeat(T_r, z_steps)\n",
    "    T_a[-2] = 0\n",
    "    T_b[0] = 1\n",
    "    T_b[z_steps - 1] = 1\n",
    "    T_c[1] = 0\n",
    "    \n",
    "    X_a = np.repeat(X_r, z_steps)\n",
    "    X_b = np.repeat(-1 - 2 * X_r, z_steps)\n",
    "    X_c = np.repeat(X_r, z_steps)\n",
    "    X_a[-2] = 0\n",
    "    X_b[0] = 1\n",
    "    X_b[z_steps - 1] = 1\n",
    "    X_c[1] = 0\n",
    "    \n",
    "    W_values = W_vectorized(prevX, prevT)\n",
    "    X_d = -dt * W_values - prevX\n",
    "    T_d = Q * dt / C * W_values - prevT\n",
    "    \n",
    "    X_d[0] = 0\n",
    "    T_d[0] = Tm\n",
    "    T_d[z_steps - 1] = T0    \n",
    "    X_d[z_steps - 1] = 1\n",
    "    \n",
    "    newT = solve_banded((1, 1), np.array([T_c, T_b, T_a]), T_d)\n",
    "    newX = solve_banded((1, 1), np.array([X_c, X_b, X_a]), X_d)\n",
    "    return newT, newX"
   ]
  },
  {
   "cell_type": "code",
   "execution_count": null,
   "metadata": {
    "ExecuteTime": {
     "end_time": "2020-01-26T20:32:51.681230Z",
     "start_time": "2020-01-26T20:32:50.551035Z"
    }
   },
   "outputs": [],
   "source": [
    "Ts, Xs = solve(non_evident)"
   ]
  },
  {
   "cell_type": "code",
   "execution_count": null,
   "metadata": {
    "ExecuteTime": {
     "end_time": "2020-01-26T20:32:57.356912Z",
     "start_time": "2020-01-26T20:32:51.682220Z"
    }
   },
   "outputs": [],
   "source": [
    "fig, ax = plt.subplots(figsize=(10,5))\n",
    "\n",
    "x = np.arange(a, b, dz)\n",
    "line, = ax.plot(x, Ts[0])\n",
    "\n",
    "def animate(i):\n",
    "    line.set_ydata(Ts[i])  # update the data\n",
    "    return line,\n",
    "\n",
    "# Init only required for blitting to give a clean slate.\n",
    "def init():\n",
    "    line.set_ydata(np.ma.array(x, mask=True))\n",
    "    return line,\n",
    "\n",
    "ani = animation.FuncAnimation(fig, animate, tnrange(0, t_steps, 50), init, blit=True)\n",
    "ani.save('./T.gif', writer='pillow', fps=150)"
   ]
  },
  {
   "cell_type": "code",
   "execution_count": null,
   "metadata": {
    "ExecuteTime": {
     "end_time": "2020-01-26T20:33:02.700864Z",
     "start_time": "2020-01-26T20:32:57.358910Z"
    }
   },
   "outputs": [],
   "source": [
    "fig, ax = plt.subplots(figsize=(10,5))\n",
    "\n",
    "x = np.arange(a, b, dz)\n",
    "line, = ax.plot(x, Xs[0])\n",
    "\n",
    "def animate(i):\n",
    "    line.set_ydata(Xs[i])  # update the data\n",
    "    return line,\n",
    "\n",
    "# Init only required for blitting to give a clean slate.\n",
    "def init():\n",
    "    line.set_ydata(np.ma.array(x, mask=True))\n",
    "    return line,\n",
    "\n",
    "ani = animation.FuncAnimation(fig, animate, tnrange(0, t_steps, 50), init, blit=True)\n",
    "ani.save('./X.gif', writer='pillow', fps=150)"
   ]
  },
  {
   "cell_type": "code",
   "execution_count": null,
   "metadata": {},
   "outputs": [],
   "source": []
  }
 ],
 "metadata": {
  "kernelspec": {
   "display_name": "Python 3",
   "language": "python",
   "name": "python3"
  },
  "language_info": {
   "codemirror_mode": {
    "name": "ipython",
    "version": 3
   },
   "file_extension": ".py",
   "mimetype": "text/x-python",
   "name": "python",
   "nbconvert_exporter": "python",
   "pygments_lexer": "ipython3",
   "version": "3.7.2"
  }
 },
 "nbformat": 4,
 "nbformat_minor": 2
}
