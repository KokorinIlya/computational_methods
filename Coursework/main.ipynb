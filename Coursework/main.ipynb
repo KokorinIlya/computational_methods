{
 "cells": [
  {
   "cell_type": "code",
   "execution_count": 211,
   "metadata": {
    "ExecuteTime": {
     "end_time": "2020-01-25T23:24:43.375754Z",
     "start_time": "2020-01-25T23:24:43.371756Z"
    }
   },
   "outputs": [],
   "source": [
    "import numpy as np\n",
    "from math import exp\n",
    "import matplotlib.pyplot as plt\n",
    "import imageio\n",
    "from tqdm.notebook import tnrange"
   ]
  },
  {
   "cell_type": "code",
   "execution_count": 325,
   "metadata": {
    "ExecuteTime": {
     "end_time": "2020-01-25T23:37:54.502532Z",
     "start_time": "2020-01-25T23:37:54.497524Z"
    }
   },
   "outputs": [],
   "source": [
    "K = 1.6e6\n",
    "E = 8e4\n",
    "alpha = 0.5 # непонятно\n",
    "Q = 7e5\n",
    "ro = 830\n",
    "C = 1990\n",
    "lambd = 0.13\n",
    "D = 8e-12\n",
    "R = 8.31\n",
    "T0 = 293 # начальная температура\n",
    "Tm = T0 + Q / C # вроде бы конечная температура\n",
    "kappa = lambd / (ro * C)"
   ]
  },
  {
   "cell_type": "code",
   "execution_count": 326,
   "metadata": {
    "ExecuteTime": {
     "end_time": "2020-01-25T23:37:56.496529Z",
     "start_time": "2020-01-25T23:37:56.491522Z"
    }
   },
   "outputs": [],
   "source": [
    "a = 0\n",
    "b = 1e-3\n",
    "dz = 4e-5\n",
    "z_steps = int((b-a) / dz)\n",
    "\n",
    "teta = 20\n",
    "dt = 0.01\n",
    "t_steps = int(teta / dt)\n",
    "\n",
    "r_X = D * dt / (dz ** 2)\n",
    "r_T = kappa * dt / (dz ** 2)"
   ]
  },
  {
   "cell_type": "code",
   "execution_count": 327,
   "metadata": {
    "ExecuteTime": {
     "end_time": "2020-01-25T23:37:56.862563Z",
     "start_time": "2020-01-25T23:37:56.859575Z"
    }
   },
   "outputs": [
    {
     "name": "stdout",
     "output_type": "stream",
     "text": [
      "4.999999999999999e-05 0.4919174184173881\n"
     ]
    }
   ],
   "source": [
    "print(r_X, r_T)"
   ]
  },
  {
   "cell_type": "code",
   "execution_count": 328,
   "metadata": {
    "ExecuteTime": {
     "end_time": "2020-01-25T23:37:57.378588Z",
     "start_time": "2020-01-25T23:37:57.373590Z"
    }
   },
   "outputs": [],
   "source": [
    "t_start = np.zeros(z_steps, dtype=np.float64)\n",
    "x_start = np.zeros(z_steps, dtype=np.float64)\n",
    "\n",
    "for i in range(z_steps // 2):\n",
    "    t_start[i] = Tm\n",
    "    x_start[i] = 0\n",
    "for i in range(z_steps // 2, z_steps):\n",
    "    t_start[i] = T0\n",
    "    x_start[i] = 1"
   ]
  },
  {
   "cell_type": "code",
   "execution_count": 329,
   "metadata": {
    "ExecuteTime": {
     "end_time": "2020-01-25T23:37:58.646482Z",
     "start_time": "2020-01-25T23:37:58.642484Z"
    }
   },
   "outputs": [],
   "source": [
    "def left_border(t):\n",
    "    return 0\n",
    "    \n",
    "def right_border(t):\n",
    "    return 0"
   ]
  },
  {
   "cell_type": "code",
   "execution_count": 330,
   "metadata": {
    "ExecuteTime": {
     "end_time": "2020-01-25T23:37:59.222601Z",
     "start_time": "2020-01-25T23:37:59.218603Z"
    }
   },
   "outputs": [],
   "source": [
    "def W(X, T):\n",
    "    return -K*(X ** alpha)*exp(-E/(R*T)) "
   ]
  },
  {
   "cell_type": "code",
   "execution_count": 336,
   "metadata": {
    "ExecuteTime": {
     "end_time": "2020-01-25T23:38:30.313480Z",
     "start_time": "2020-01-25T23:38:30.308483Z"
    }
   },
   "outputs": [],
   "source": [
    "def solve(solver):\n",
    "    Ts = [t_start]\n",
    "    Xs = [x_start]\n",
    "    \n",
    "    for cur_iter in tnrange(1, t_steps + 1):\n",
    "        t = dt * cur_iter\n",
    "        cur_t, cur_x = solver(t, Ts, Xs)\n",
    "        Ts.append(cur_t)\n",
    "        Xs.append(cur_x)\n",
    "\n",
    "    return Ts, Xs"
   ]
  },
  {
   "cell_type": "code",
   "execution_count": 337,
   "metadata": {
    "ExecuteTime": {
     "end_time": "2020-01-25T23:38:30.909457Z",
     "start_time": "2020-01-25T23:38:30.900452Z"
    }
   },
   "outputs": [],
   "source": [
    "def evident_opposite(t, Ts, Xs):\n",
    "    next_t_row = np.zeros(z_steps, dtype=np.float64)\n",
    "    next_x_row = np.zeros(z_steps, dtype=np.float64)\n",
    "\n",
    "    for i in range(z_steps):\n",
    "        prev_t = Ts[-1][i - 1] if i > 0 else left_border(t)\n",
    "        next_t = Ts[-1][i + 1] if i < z_steps - 1 else right_border(t)\n",
    "        cur_t = Ts[-1][i]\n",
    "        \n",
    "        prev_x = Xs[-1][i - 1] if i > 0 else left_border(t)\n",
    "        next_x = Xs[-1][i + 1] if i < z_steps - 1 else right_border(t)\n",
    "        cur_x = Xs[-1][i]\n",
    "        \n",
    "        next_t_row[i] = cur_t + r_T * (prev_t + next_t - 2 * cur_t) #- Q/C * dt * W(cur_x, cur_t)\n",
    "        next_x_row[i] = cur_x + r_X * (prev_x + next_x - 2 * cur_x) #+ dt * W(cur_x, cur_t)\n",
    "    \n",
    "    return next_t_row, next_x_row"
   ]
  },
  {
   "cell_type": "code",
   "execution_count": 338,
   "metadata": {
    "ExecuteTime": {
     "end_time": "2020-01-25T23:38:31.566629Z",
     "start_time": "2020-01-25T23:38:31.326751Z"
    }
   },
   "outputs": [
    {
     "data": {
      "application/vnd.jupyter.widget-view+json": {
       "model_id": "ca14959bde1342e4bf83cfa30aeced77",
       "version_major": 2,
       "version_minor": 0
      },
      "text/plain": [
       "HBox(children=(FloatProgress(value=0.0, max=2000.0), HTML(value='')))"
      ]
     },
     "metadata": {},
     "output_type": "display_data"
    },
    {
     "name": "stdout",
     "output_type": "stream",
     "text": [
      "\n"
     ]
    }
   ],
   "source": [
    "Ts, Xs = solve(evident_opposite)"
   ]
  },
  {
   "cell_type": "code",
   "execution_count": 298,
   "metadata": {
    "ExecuteTime": {
     "end_time": "2020-01-25T23:33:40.438148Z",
     "start_time": "2020-01-25T23:33:40.042375Z"
    }
   },
   "outputs": [
    {
     "data": {
      "application/vnd.jupyter.widget-view+json": {
       "model_id": "3d038a0a28954e57a35b62bad8954b5b",
       "version_major": 2,
       "version_minor": 0
      },
      "text/plain": [
       "HBox(children=(FloatProgress(value=0.0, max=2000.0), HTML(value='')))"
      ]
     },
     "metadata": {},
     "output_type": "display_data"
    },
    {
     "name": "stderr",
     "output_type": "stream",
     "text": [
      "c:\\users\\hanve\\appdata\\local\\programs\\python\\python37-32\\lib\\site-packages\\ipykernel_launcher.py:2: RuntimeWarning: invalid value encountered in double_scalars\n",
      "  \n"
     ]
    },
    {
     "name": "stdout",
     "output_type": "stream",
     "text": [
      "\n"
     ]
    }
   ],
   "source": [
    "Xs, Ts = solve(evident_opposite)"
   ]
  },
  {
   "cell_type": "code",
   "execution_count": 339,
   "metadata": {
    "ExecuteTime": {
     "end_time": "2020-01-25T23:38:47.654773Z",
     "start_time": "2020-01-25T23:38:33.572501Z"
    }
   },
   "outputs": [
    {
     "data": {
      "application/vnd.jupyter.widget-view+json": {
       "model_id": "911f83876e9f49fa94ee73987980ce63",
       "version_major": 2,
       "version_minor": 0
      },
      "text/plain": [
       "HBox(children=(FloatProgress(value=0.0, max=2001.0), HTML(value='')))"
      ]
     },
     "metadata": {},
     "output_type": "display_data"
    },
    {
     "name": "stdout",
     "output_type": "stream",
     "text": [
      "\n"
     ]
    }
   ],
   "source": [
    "xs = [\n",
    "    a + i * dz\n",
    "    for i in range(z_steps)\n",
    "]\n",
    "\n",
    "y_min = np.min(np.array(Ts))\n",
    "y_max = np.max(np.array(Ts))\n",
    "\n",
    "def plot_img(cur_index):\n",
    "    fig, ax = plt.subplots(figsize=(10,5))\n",
    "    ax.plot(xs, Ts[cur_index])\n",
    "\n",
    "    ax.set_ylim(y_min - 0.1, y_max + 0.1)\n",
    "\n",
    "    fig.canvas.draw()\n",
    "    image = np.frombuffer(fig.canvas.tostring_rgb(), dtype='uint8')\n",
    "    image = image.reshape(fig.canvas.get_width_height()[::-1] + (3,))\n",
    "    \n",
    "    plt.close(fig)\n",
    "\n",
    "    return image\n",
    "\n",
    "frames = [\n",
    "    plot_img(i)\n",
    "    for i in tnrange(len(Ts))\n",
    "    if i % 10 == 0\n",
    "]\n",
    "imageio.mimsave('./T.gif', frames, fps=24)"
   ]
  },
  {
   "cell_type": "code",
   "execution_count": null,
   "metadata": {},
   "outputs": [],
   "source": []
  },
  {
   "cell_type": "code",
   "execution_count": null,
   "metadata": {},
   "outputs": [],
   "source": []
  }
 ],
 "metadata": {
  "kernelspec": {
   "display_name": "Python 3",
   "language": "python",
   "name": "python3"
  },
  "language_info": {
   "codemirror_mode": {
    "name": "ipython",
    "version": 3
   },
   "file_extension": ".py",
   "mimetype": "text/x-python",
   "name": "python",
   "nbconvert_exporter": "python",
   "pygments_lexer": "ipython3",
   "version": "3.7.2"
  }
 },
 "nbformat": 4,
 "nbformat_minor": 2
}
