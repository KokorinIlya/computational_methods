{
 "cells": [
  {
   "cell_type": "code",
   "execution_count": 1,
   "metadata": {
    "ExecuteTime": {
     "end_time": "2020-01-26T15:21:05.608448Z",
     "start_time": "2020-01-26T15:21:05.130822Z"
    }
   },
   "outputs": [],
   "source": [
    "import numpy as np\n",
    "from math import exp\n",
    "import matplotlib.pyplot as plt\n",
    "from matplotlib import animation\n",
    "from tqdm.notebook import tnrange"
   ]
  },
  {
   "cell_type": "code",
   "execution_count": 2,
   "metadata": {},
   "outputs": [],
   "source": [
    "def solve_linear(a, b, c, d):\n",
    "    nf = len(d)\n",
    "    ac, bc, cc, dc = map(np.array, (a, b, c, d))\n",
    "    for it in range(1, nf):\n",
    "        mc = ac[it - 1] / bc[it - 1]\n",
    "        bc[it] = bc[it] - mc * cc[it - 1] \n",
    "        dc[it] = dc[it] - mc * dc[it - 1]\n",
    "    xc = bc\n",
    "    xc[-1] = dc[-1] / bc[-1]\n",
    "    for il in range(nf - 2, -1, -1):\n",
    "        xc[il] = (dc[il] - cc[il] * xc[il + 1]) / bc[il]\n",
    "    return xc"
   ]
  },
  {
   "cell_type": "code",
   "execution_count": 3,
   "metadata": {
    "ExecuteTime": {
     "end_time": "2020-01-26T15:21:05.617432Z",
     "start_time": "2020-01-26T15:21:05.610435Z"
    }
   },
   "outputs": [],
   "source": [
    "K = 1.6e6\n",
    "E = 8e4\n",
    "alpha = 1 # непонятно\n",
    "Q = 7e5\n",
    "ro = 830\n",
    "C = 1990\n",
    "lambd = 0.13\n",
    "D = 8e-8\n",
    "R = 8.31\n",
    "T0 = 293 # начальная температура\n",
    "Tm = T0 + Q / C # вроде бы конечная температура\n",
    "kappa = lambd / (ro * C)\n",
    "U = (2 * K * lambd / (Q * ro * Q / C) * T0 / Tm * ((R * Tm * Tm / E) ** 2) * exp(-E / (R * Tm))) ** 0.5\n",
    "beta = R * Tm / E\n",
    "gamma = R * Tm * Tm / (E * Q / C)\n",
    "delta_h = kappa / U\n",
    "delta_r = beta * delta_h\n",
    "delta_d = D / U\n",
    "Le = delta_d / delta_h"
   ]
  },
  {
   "cell_type": "code",
   "execution_count": 4,
   "metadata": {
    "ExecuteTime": {
     "end_time": "2020-01-26T15:21:05.699473Z",
     "start_time": "2020-01-26T15:21:05.619429Z"
    }
   },
   "outputs": [
    {
     "name": "stdout",
     "output_type": "stream",
     "text": [
      "1.0164307692307692\n"
     ]
    }
   ],
   "source": [
    "print(Le)"
   ]
  },
  {
   "cell_type": "code",
   "execution_count": 27,
   "metadata": {
    "ExecuteTime": {
     "end_time": "2020-01-26T15:21:05.798970Z",
     "start_time": "2020-01-26T15:21:05.707470Z"
    }
   },
   "outputs": [],
   "source": [
    "a = 0\n",
    "b = 3e-2\n",
    "dz = 5e-4\n",
    "z_steps = int((b-a) / dz)\n",
    "\n",
    "teta = 500\n",
    "dt = 5e-2\n",
    "t_steps = int(teta / dt)\n",
    "\n",
    "r_X = D * dt / (dz ** 2)\n",
    "r_T = kappa * dt / (dz ** 2)"
   ]
  },
  {
   "cell_type": "code",
   "execution_count": 28,
   "metadata": {
    "ExecuteTime": {
     "end_time": "2020-01-26T15:21:05.941991Z",
     "start_time": "2020-01-26T15:21:05.805962Z"
    }
   },
   "outputs": [
    {
     "name": "stdout",
     "output_type": "stream",
     "text": [
      "0.016 0.015741357389356423\n"
     ]
    }
   ],
   "source": [
    "print(r_X, r_T)"
   ]
  },
  {
   "cell_type": "code",
   "execution_count": 29,
   "metadata": {
    "ExecuteTime": {
     "end_time": "2020-01-26T15:21:06.022029Z",
     "start_time": "2020-01-26T15:21:05.948990Z"
    }
   },
   "outputs": [],
   "source": [
    "t_start = np.zeros(z_steps, dtype=np.float64)\n",
    "x_start = np.zeros(z_steps, dtype=np.float64)\n",
    "\n",
    "for i in range(1):\n",
    "    t_start[i] = Tm\n",
    "    x_start[i] = 0\n",
    "for i in range(1, z_steps):\n",
    "    t_start[i] = T0\n",
    "    x_start[i] = 1"
   ]
  },
  {
   "cell_type": "code",
   "execution_count": 30,
   "metadata": {
    "ExecuteTime": {
     "end_time": "2020-01-26T15:21:06.104778Z",
     "start_time": "2020-01-26T15:21:06.024045Z"
    }
   },
   "outputs": [],
   "source": [
    "def W(X, T):\n",
    "    return -K*(X ** alpha)*exp(-E/(R*T)) "
   ]
  },
  {
   "cell_type": "code",
   "execution_count": 31,
   "metadata": {
    "ExecuteTime": {
     "end_time": "2020-01-26T15:21:06.191122Z",
     "start_time": "2020-01-26T15:21:06.113774Z"
    }
   },
   "outputs": [],
   "source": [
    "def solve(solver):\n",
    "    Ts = [t_start]\n",
    "    Xs = [x_start]\n",
    "    \n",
    "    for cur_iter in tnrange(1, t_steps + 1):\n",
    "        t = dt * cur_iter\n",
    "        cur_t, cur_x = solver(t, Ts, Xs)\n",
    "        Ts.append(cur_t)\n",
    "        Xs.append(cur_x)\n",
    "\n",
    "    return Ts, Xs"
   ]
  },
  {
   "cell_type": "code",
   "execution_count": 32,
   "metadata": {
    "ExecuteTime": {
     "end_time": "2020-01-26T15:21:06.301963Z",
     "start_time": "2020-01-26T15:21:06.199106Z"
    }
   },
   "outputs": [],
   "source": [
    "def evident_opposite(t, Ts, Xs):\n",
    "    next_t_row = np.zeros(z_steps, dtype=np.float64)\n",
    "    next_x_row = np.zeros(z_steps, dtype=np.float64)\n",
    "\n",
    "    for i in range(1, z_steps - 1):\n",
    "        prev_t = Ts[-1][i - 1]\n",
    "        next_t = Ts[-1][i + 1]\n",
    "        cur_t = Ts[-1][i]\n",
    "        \n",
    "        prev_x = Xs[-1][i - 1]\n",
    "        next_x = Xs[-1][i + 1]\n",
    "        cur_x = Xs[-1][i]\n",
    "        \n",
    "        next_t_row[i] = cur_t + r_T * (prev_t + next_t - 2 * cur_t) - Q/C * dt * W(cur_x, cur_t)\n",
    "        next_x_row[i] = cur_x + r_X * (prev_x + next_x - 2 * cur_x) + dt * W(cur_x, cur_t)\n",
    "    \n",
    "    next_t_row[0] = Tm\n",
    "    next_t_row[z_steps - 1] = next_t_row[z_steps - 2]\n",
    "    \n",
    "    next_x_row[0] = 0\n",
    "    next_x_row[z_steps - 1] = next_x_row[z_steps - 2]\n",
    "    return next_t_row, next_x_row"
   ]
  },
  {
   "cell_type": "code",
   "execution_count": 33,
   "metadata": {},
   "outputs": [],
   "source": [
    "def non_evident(t, Ts, Xs):\n",
    "    T_r = dt * kappa / (dz ** 2)\n",
    "    X_r = dt * D / (dz ** 2)\n",
    "    prevT = Ts[-1]\n",
    "    prevX = Xs[-1]\n",
    "   \n",
    "    T_a = np.zeros(z_steps - 1, dtype=np.float64)\n",
    "    T_b = np.zeros(z_steps, dtype=np.float64)\n",
    "    T_c = np.zeros(z_steps - 1, dtype=np.float64)\n",
    "    T_d = np.zeros(z_steps, dtype=np.float64)\n",
    "    \n",
    "    X_a = np.zeros(z_steps - 1, dtype=np.float64)\n",
    "    X_b = np.zeros(z_steps, dtype=np.float64)\n",
    "    X_c = np.zeros(z_steps - 1, dtype=np.float64)\n",
    "    X_d = np.zeros(z_steps, dtype=np.float64)\n",
    "    \n",
    "    T_b[0] = 1\n",
    "    T_c[0] = 0\n",
    "    T_d[0] = Tm\n",
    "\n",
    "    X_b[0] = 1\n",
    "    X_c[0] = 0\n",
    "    X_d[0] = 0\n",
    "    \n",
    "    for i in range(1, z_steps - 1):\n",
    "        T_a[i - 1] = T_r\n",
    "        T_b[i] = -1 - 2 * T_r\n",
    "        T_c[i] = T_r\n",
    "        T_d[i] = Q * dt * W(prevX[i], prevT[i]) / C - prevT[i]\n",
    "\n",
    "        X_a[i - 1] = X_r\n",
    "        X_b[i] = -1 - 2 * X_r\n",
    "        X_c[i] = X_r\n",
    "        X_d[i] = -(prevX[i] + dt * W(prevX[i], prevT[i]))\n",
    "        \n",
    "    T_a[z_steps - 2] = 0\n",
    "    T_b[z_steps - 1] = 1\n",
    "    T_d[z_steps - 1] = T0\n",
    "    \n",
    "    X_a[z_steps - 2] = 0\n",
    "    X_b[z_steps - 1] = 1\n",
    "    X_d[z_steps - 1] = 1\n",
    "        \n",
    "    newT = solve_linear(T_a, T_b, T_c, T_d)\n",
    "    newX = solve_linear(X_a, X_b, X_c, X_d)\n",
    "    return newT, newX"
   ]
  },
  {
   "cell_type": "code",
   "execution_count": 34,
   "metadata": {},
   "outputs": [
    {
     "data": {
      "text/plain": [
       "array([0, 1, 2, 3, 7])"
      ]
     },
     "execution_count": 34,
     "metadata": {},
     "output_type": "execute_result"
    }
   ],
   "source": [
    "aaa = np.array([1, 2, 3])\n",
    "bbb = np.insert(aaa, 0, 0)\n",
    "np.append(bbb, 7)"
   ]
  },
  {
   "cell_type": "code",
   "execution_count": 35,
   "metadata": {
    "ExecuteTime": {
     "end_time": "2020-01-26T15:21:07.306473Z",
     "start_time": "2020-01-26T15:21:06.307958Z"
    }
   },
   "outputs": [
    {
     "data": {
      "application/vnd.jupyter.widget-view+json": {
       "model_id": "c779c430631740f3a32361f4f13b4dd7",
       "version_major": 2,
       "version_minor": 0
      },
      "text/plain": [
       "HBox(children=(IntProgress(value=0, max=10000), HTML(value='')))"
      ]
     },
     "metadata": {},
     "output_type": "display_data"
    },
    {
     "name": "stdout",
     "output_type": "stream",
     "text": [
      "\n"
     ]
    }
   ],
   "source": [
    "Ts, Xs = solve(non_evident)"
   ]
  },
  {
   "cell_type": "code",
   "execution_count": 38,
   "metadata": {
    "ExecuteTime": {
     "end_time": "2020-01-26T15:21:12.721579Z",
     "start_time": "2020-01-26T15:21:07.307458Z"
    }
   },
   "outputs": [
    {
     "data": {
      "application/vnd.jupyter.widget-view+json": {
       "model_id": "ac0c79913df3478aa0eb0e955b98bf7d",
       "version_major": 2,
       "version_minor": 0
      },
      "text/plain": [
       "HBox(children=(IntProgress(value=0, max=200), HTML(value='')))"
      ]
     },
     "metadata": {},
     "output_type": "display_data"
    },
    {
     "data": {
      "image/png": "[encoded data removed]",
      "text/plain": [
       "<Figure size 720x360 with 1 Axes>"
      ]
     },
     "metadata": {
      "needs_background": "light"
     },
     "output_type": "display_data"
    }
   ],
   "source": [
    "fig, ax = plt.subplots(figsize=(10,5))\n",
    "\n",
    "x = np.arange(a, b, dz)\n",
    "line, = ax.plot(x, Ts[0])\n",
    "\n",
    "def animate(i):\n",
    "    line.set_ydata(Ts[i])  # update the data\n",
    "    return line,\n",
    "\n",
    "# Init only required for blitting to give a clean slate.\n",
    "def init():\n",
    "    line.set_ydata(np.ma.array(x, mask=True))\n",
    "    return line,\n",
    "\n",
    "ani = animation.FuncAnimation(fig, animate, tnrange(0, t_steps, 50), init, blit=True)\n",
    "ani.save('./T.gif', writer='pillow', fps=150)"
   ]
  },
  {
   "cell_type": "code",
   "execution_count": 39,
   "metadata": {
    "ExecuteTime": {
     "end_time": "2020-01-26T15:21:17.962583Z",
     "start_time": "2020-01-26T15:21:12.723564Z"
    }
   },
   "outputs": [
    {
     "data": {
      "application/vnd.jupyter.widget-view+json": {
       "model_id": "37d65d0a94a740ca8450558a44f6004b",
       "version_major": 2,
       "version_minor": 0
      },
      "text/plain": [
       "HBox(children=(IntProgress(value=0, max=200), HTML(value='')))"
      ]
     },
     "metadata": {},
     "output_type": "display_data"
    },
    {
     "data": {
      "image/png": "[encoded data removed]",
      "text/plain": [
       "<Figure size 720x360 with 1 Axes>"
      ]
     },
     "metadata": {
      "needs_background": "light"
     },
     "output_type": "display_data"
    }
   ],
   "source": [
    "fig, ax = plt.subplots(figsize=(10,5))\n",
    "\n",
    "x = np.arange(a, b, dz)\n",
    "line, = ax.plot(x, Xs[0])\n",
    "\n",
    "def animate(i):\n",
    "    line.set_ydata(Xs[i])  # update the data\n",
    "    return line,\n",
    "\n",
    "# Init only required for blitting to give a clean slate.\n",
    "def init():\n",
    "    line.set_ydata(np.ma.array(x, mask=True))\n",
    "    return line,\n",
    "\n",
    "ani = animation.FuncAnimation(fig, animate, tnrange(0, t_steps, 50), init, blit=True)\n",
    "ani.save('./X.gif', writer='pillow', fps=150)"
   ]
  },
  {
   "cell_type": "code",
   "execution_count": null,
   "metadata": {},
   "outputs": [],
   "source": []
  }
 ],
 "metadata": {
  "kernelspec": {
   "display_name": "Python 3",
   "language": "python",
   "name": "python3"
  },
  "language_info": {
   "codemirror_mode": {
    "name": "ipython",
    "version": 3
   },
   "file_extension": ".py",
   "mimetype": "text/x-python",
   "name": "python",
   "nbconvert_exporter": "python",
   "pygments_lexer": "ipython3",
   "version": "3.7.3"
  }
 },
 "nbformat": 4,
 "nbformat_minor": 2
}
