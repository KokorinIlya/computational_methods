{
 "cells": [
  {
   "cell_type": "code",
   "execution_count": 1,
   "metadata": {
    "ExecuteTime": {
     "end_time": "2020-01-26T15:21:05.608448Z",
     "start_time": "2020-01-26T15:21:05.130822Z"
    }
   },
   "outputs": [],
   "source": [
    "import numpy as np\n",
    "from math import exp\n",
    "import matplotlib.pyplot as plt\n",
    "from matplotlib import animation\n",
    "from tqdm.notebook import tnrange"
   ]
  },
  {
   "cell_type": "code",
   "execution_count": 2,
   "metadata": {
    "ExecuteTime": {
     "end_time": "2020-01-26T15:21:05.617432Z",
     "start_time": "2020-01-26T15:21:05.610435Z"
    }
   },
   "outputs": [],
   "source": [
    "K = 1.6e6\n",
    "E = 8e4\n",
    "alpha = 1 # непонятно\n",
    "Q = 7e5\n",
    "ro = 830\n",
    "C = 1990\n",
    "lambd = 0.13\n",
    "D = 8e-8\n",
    "R = 8.31\n",
    "T0 = 293 # начальная температура\n",
    "Tm = T0 + Q / C # вроде бы конечная температура\n",
    "kappa = lambd / (ro * C)\n",
    "U = (2 * K * lambd / (Q * ro * Q / C) * T0 / Tm * ((R * Tm * Tm / E) ** 2) * exp(-E / (R * Tm))) ** 0.5\n",
    "beta = R * Tm / E\n",
    "gamma = R * Tm * Tm / (E * Q / C)\n",
    "delta_h = kappa / U\n",
    "delta_r = beta * delta_h\n",
    "delta_d = D / U\n",
    "Le = delta_d / delta_h"
   ]
  },
  {
   "cell_type": "code",
   "execution_count": 3,
   "metadata": {
    "ExecuteTime": {
     "end_time": "2020-01-26T15:21:05.699473Z",
     "start_time": "2020-01-26T15:21:05.619429Z"
    }
   },
   "outputs": [
    {
     "name": "stdout",
     "output_type": "stream",
     "text": [
      "1.0164307692307692\n"
     ]
    }
   ],
   "source": [
    "print(Le)"
   ]
  },
  {
   "cell_type": "code",
   "execution_count": 4,
   "metadata": {
    "ExecuteTime": {
     "end_time": "2020-01-26T15:21:05.798970Z",
     "start_time": "2020-01-26T15:21:05.707470Z"
    }
   },
   "outputs": [],
   "source": [
    "a = 0\n",
    "b = 3e-2\n",
    "dz = 1e-3\n",
    "z_steps = int((b-a) / dz)\n",
    "\n",
    "teta = 500\n",
    "dt = 1e-1\n",
    "t_steps = int(teta / dt)\n",
    "\n",
    "r_X = D * dt / (dz ** 2)\n",
    "r_T = kappa * dt / (dz ** 2)"
   ]
  },
  {
   "cell_type": "code",
   "execution_count": 5,
   "metadata": {
    "ExecuteTime": {
     "end_time": "2020-01-26T15:21:05.941991Z",
     "start_time": "2020-01-26T15:21:05.805962Z"
    }
   },
   "outputs": [
    {
     "name": "stdout",
     "output_type": "stream",
     "text": [
      "0.008 0.007870678694678212\n"
     ]
    }
   ],
   "source": [
    "print(r_X, r_T)"
   ]
  },
  {
   "cell_type": "code",
   "execution_count": 6,
   "metadata": {
    "ExecuteTime": {
     "end_time": "2020-01-26T15:21:06.022029Z",
     "start_time": "2020-01-26T15:21:05.948990Z"
    }
   },
   "outputs": [],
   "source": [
    "t_start = np.zeros(z_steps, dtype=np.float64)\n",
    "x_start = np.zeros(z_steps, dtype=np.float64)\n",
    "\n",
    "for i in range(1):\n",
    "    t_start[i] = Tm\n",
    "    x_start[i] = 0\n",
    "for i in range(1, z_steps):\n",
    "    t_start[i] = T0\n",
    "    x_start[i] = 1"
   ]
  },
  {
   "cell_type": "code",
   "execution_count": 7,
   "metadata": {
    "ExecuteTime": {
     "end_time": "2020-01-26T15:21:06.104778Z",
     "start_time": "2020-01-26T15:21:06.024045Z"
    }
   },
   "outputs": [],
   "source": [
    "def W(X, T):\n",
    "    return -K*(X ** alpha)*exp(-E/(R*T)) "
   ]
  },
  {
   "cell_type": "code",
   "execution_count": 8,
   "metadata": {
    "ExecuteTime": {
     "end_time": "2020-01-26T15:21:06.191122Z",
     "start_time": "2020-01-26T15:21:06.113774Z"
    }
   },
   "outputs": [],
   "source": [
    "def solve(solver):\n",
    "    Ts = [t_start]\n",
    "    Xs = [x_start]\n",
    "    \n",
    "    for cur_iter in tnrange(1, t_steps + 1):\n",
    "        t = dt * cur_iter\n",
    "        cur_t, cur_x = solver(t, Ts, Xs)\n",
    "        Ts.append(cur_t)\n",
    "        Xs.append(cur_x)\n",
    "\n",
    "    return Ts, Xs"
   ]
  },
  {
   "cell_type": "code",
   "execution_count": 9,
   "metadata": {
    "ExecuteTime": {
     "end_time": "2020-01-26T15:21:06.301963Z",
     "start_time": "2020-01-26T15:21:06.199106Z"
    }
   },
   "outputs": [],
   "source": [
    "def evident_opposite(t, Ts, Xs):\n",
    "    next_t_row = np.zeros(z_steps, dtype=np.float64)\n",
    "    next_x_row = np.zeros(z_steps, dtype=np.float64)\n",
    "\n",
    "    for i in range(1, z_steps - 1):\n",
    "        prev_t = Ts[-1][i - 1]\n",
    "        next_t = Ts[-1][i + 1]\n",
    "        cur_t = Ts[-1][i]\n",
    "        \n",
    "        prev_x = Xs[-1][i - 1]\n",
    "        next_x = Xs[-1][i + 1]\n",
    "        cur_x = Xs[-1][i]\n",
    "        \n",
    "        next_t_row[i] = cur_t + r_T * (prev_t + next_t - 2 * cur_t) - Q/C * dt * W(cur_x, cur_t)\n",
    "        next_x_row[i] = cur_x + r_X * (prev_x + next_x - 2 * cur_x) + dt * W(cur_x, cur_t)\n",
    "    \n",
    "    next_t_row[0] = Tm\n",
    "    next_t_row[z_steps - 1] = next_t_row[z_steps - 2]\n",
    "    \n",
    "    next_x_row[0] = 0\n",
    "    next_x_row[z_steps - 1] = next_x_row[z_steps - 2]\n",
    "    return next_t_row, next_x_row"
   ]
  },
  {
   "cell_type": "code",
   "execution_count": null,
   "metadata": {
    "ExecuteTime": {
     "end_time": "2020-01-26T15:21:07.306473Z",
     "start_time": "2020-01-26T15:21:06.307958Z"
    }
   },
   "outputs": [],
   "source": [
    "Ts, Xs = solve(evident_opposite)"
   ]
  },
  {
   "cell_type": "code",
   "execution_count": null,
   "metadata": {
    "ExecuteTime": {
     "end_time": "2020-01-26T15:21:12.721579Z",
     "start_time": "2020-01-26T15:21:07.307458Z"
    }
   },
   "outputs": [],
   "source": [
    "fig, ax = plt.subplots(figsize=(10,5))\n",
    "\n",
    "x = np.arange(a, b, dz)\n",
    "line, = ax.plot(x, Ts[0])\n",
    "\n",
    "def animate(i):\n",
    "    line.set_ydata(Ts[i])  # update the data\n",
    "    return line,\n",
    "\n",
    "# Init only required for blitting to give a clean slate.\n",
    "def init():\n",
    "    line.set_ydata(np.ma.array(x, mask=True))\n",
    "    return line,\n",
    "\n",
    "ani = animation.FuncAnimation(fig, animate, tnrange(0, t_steps, 50), init, blit=True)\n",
    "ani.save('./T.gif', writer='pillow', fps=100)"
   ]
  },
  {
   "cell_type": "code",
   "execution_count": null,
   "metadata": {
    "ExecuteTime": {
     "end_time": "2020-01-26T15:21:17.962583Z",
     "start_time": "2020-01-26T15:21:12.723564Z"
    }
   },
   "outputs": [],
   "source": [
    "fig, ax = plt.subplots(figsize=(10,5))\n",
    "\n",
    "x = np.arange(a, b, dz)\n",
    "line, = ax.plot(x, Xs[0])\n",
    "\n",
    "def animate(i):\n",
    "    line.set_ydata(Xs[i])  # update the data\n",
    "    return line,\n",
    "\n",
    "# Init only required for blitting to give a clean slate.\n",
    "def init():\n",
    "    line.set_ydata(np.ma.array(x, mask=True))\n",
    "    return line,\n",
    "\n",
    "ani = animation.FuncAnimation(fig, animate, tnrange(0, t_steps, 50), init, blit=True)\n",
    "ani.save('./X.gif', writer='pillow', fps=100)"
   ]
  },
  {
   "cell_type": "code",
   "execution_count": null,
   "metadata": {},
   "outputs": [],
   "source": []
  }
 ],
 "metadata": {
  "kernelspec": {
   "display_name": "Python 3",
   "language": "python",
   "name": "python3"
  },
  "language_info": {
   "codemirror_mode": {
    "name": "ipython",
    "version": 3
   },
   "file_extension": ".py",
   "mimetype": "text/x-python",
   "name": "python",
   "nbconvert_exporter": "python",
   "pygments_lexer": "ipython3",
   "version": "3.7.2"
  }
 },
 "nbformat": 4,
 "nbformat_minor": 2
}
