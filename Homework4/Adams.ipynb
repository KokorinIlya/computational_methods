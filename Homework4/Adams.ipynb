{
 "cells": [
  {
   "cell_type": "code",
   "execution_count": 3,
   "metadata": {},
   "outputs": [],
   "source": [
    "import matplotlib.pyplot as plt\n",
    "import plotly.graph_objects as go"
   ]
  },
  {
   "cell_type": "code",
   "execution_count": 4,
   "metadata": {},
   "outputs": [],
   "source": [
    "import warnings\n",
    "warnings.filterwarnings('ignore')"
   ]
  },
  {
   "cell_type": "code",
   "execution_count": 5,
   "metadata": {},
   "outputs": [],
   "source": [
    "def dx_dt(t, x, y, z, sigma, b, r):\n",
    "    return sigma * (y - x)\n",
    "\n",
    "def dy_dt(t, x, y, z, sigma, b, r):\n",
    "    return x * (r - z) - y\n",
    "\n",
    "def dz_dt(t, x, y, z, sigma, b, r):\n",
    "    return x * y - b * z"
   ]
  },
  {
   "cell_type": "code",
   "execution_count": 6,
   "metadata": {},
   "outputs": [],
   "source": [
    "sigma = 10\n",
    "b = 8/3\n",
    "rs = [0.5, 10, 24.06, 30]\n",
    "dt = 0.001\n",
    "max_t = 20"
   ]
  },
  {
   "cell_type": "code",
   "execution_count": 7,
   "metadata": {},
   "outputs": [],
   "source": [
    "def draw(solver):\n",
    "    for r in rs:\n",
    "        ts, xs, ys, zs = solver(r)\n",
    "\n",
    "        print('r = {0}'.format(r))\n",
    "        plt.plot(ts, xs, 'red')\n",
    "        plt.show()\n",
    "        plt.plot(ts, ys, 'green')\n",
    "        plt.show()\n",
    "        plt.plot(ts, zs, 'blue')\n",
    "        plt.show()\n",
    "\n",
    "        fig = go.Figure(\n",
    "            data=[\n",
    "                go.Scatter3d(\n",
    "                    x=xs,\n",
    "                    y=ys,\n",
    "                    z=zs,\n",
    "                    marker=go.Marker(\n",
    "                        size=1\n",
    "                    )\n",
    "                )\n",
    "            ]\n",
    "        )\n",
    "        fig.show()"
   ]
  },
  {
   "cell_type": "code",
   "execution_count": 8,
   "metadata": {},
   "outputs": [],
   "source": [
    "def RK4(r, t0=0, x0=13.41265629, y0=13.46430003, z0=33.46156416):\n",
    "    t = t0\n",
    "    x = x0\n",
    "    y = y0\n",
    "    z = z0\n",
    "    \n",
    "    ts = [t0]\n",
    "    xs = [x0]\n",
    "    ys = [y0]\n",
    "    zs = [z0]\n",
    "    \n",
    "    while t < max_t:       \n",
    "        k1 = dx_dt(t           , x                , y, z, sigma, b, r)\n",
    "        k2 = dx_dt(t + 0.5 * dt, x + 0.5 * dt * k1, y, z, sigma, b, r)\n",
    "        k3 = dx_dt(t + 0.5 * dt, x + 0.5 * dt * k2, y, z, sigma, b, r)\n",
    "        k4 = dx_dt(t + dt      , x + dt * k3      , y, z, sigma, b, r)\n",
    "        x_i = dt * (k1 + 2 * k2 + 2 * k3 + k4) / 6 \n",
    "        \n",
    "        k1 = dy_dt(t           , x, y                , z, sigma, b, r)\n",
    "        k2 = dy_dt(t + 0.5 * dt, x, y + 0.5 * dt * k1, z, sigma, b, r)\n",
    "        k3 = dy_dt(t + 0.5 * dt, x, y + 0.5 * dt * k2, z, sigma, b, r)\n",
    "        k4 = dy_dt(t + dt      , x, y + dt * k3      , z, sigma, b, r)\n",
    "        y_i = dt * (k1 + 2 * k2 + 2 * k3 + k4) / 6\n",
    "        \n",
    "        k1 = dz_dt(t           , x, y, z                , sigma, b, r)\n",
    "        k2 = dz_dt(t + 0.5 * dt, x, y, z + 0.5 * dt * k1, sigma, b, r)\n",
    "        k3 = dz_dt(t + 0.5 * dt, x, y, z + 0.5 * dt * k2, sigma, b, r)\n",
    "        k4 = dz_dt(t + dt      , x, y, z + dt * k3      , sigma, b, r)\n",
    "        z_i = dt * (k1 + 2 * k2 + 2 * k3 + k4) / 6 \n",
    "        \n",
    "        t += dt\n",
    "        x += x_i\n",
    "        y += y_i\n",
    "        z += z_i\n",
    "        \n",
    "        ts.append(t)\n",
    "        xs.append(x)\n",
    "        ys.append(y)\n",
    "        zs.append(z)\n",
    "    \n",
    "    return ts, xs, ys, zs"
   ]
  },
  {
   "cell_type": "code",
   "execution_count": 9,
   "metadata": {},
   "outputs": [],
   "source": [
    "def adams_y(x, y, z, t, h, step, f, r):\n",
    "    return h * (\n",
    "        55 * f(t[step - 1], x[step - 1], y[step - 1], z[step - 1], r) - \n",
    "        59 * f(t[step - 2], x[step - 2], y[step - 2], z[step - 2], r) + \n",
    "        37 * f(t[step - 3], x[step - 3], y[step - 3], z[step - 3], r) - \n",
    "        9 * f(t[step - 4], x[step - 4], y[step - 4], z[step - 4], r)\n",
    "    ) / 24\n",
    "\n",
    "def adams_dx_dt(t, x, y, z, r):\n",
    "    return dx_dt(t, x, y, z, sigma, b, r)\n",
    "\n",
    "def adams_dy_dt(t, x, y, z, r):\n",
    "    return dy_dt(t, x, y, z, sigma, b, r)\n",
    "\n",
    "def adams_dz_dt(t, x, y, z, r):\n",
    "    return dz_dt(t, x, y, z, sigma, b, r)\n",
    "\n",
    "def solve_adams(r, t0=0, x0=13.41265629, y0=13.46430003, z0=33.46156416):\n",
    "    t = t0\n",
    "    x = x0\n",
    "    y = y0\n",
    "    z = z0\n",
    "    \n",
    "    ts, xs, ys, zs = tuple(map(lambda x: x[:4], RK4(r)))\n",
    "    step = 4\n",
    "    \n",
    "    while t < max_t:\n",
    "        new_x = adams_y(xs, ys, zs, ts, dt, step, adams_dx_dt, r)\n",
    "        new_y = adams_y(xs, ys, zs, ts, dt, step, adams_dy_dt, r)\n",
    "        new_z = adams_y(xs, ys, zs, ts, dt, step, adams_dz_dt, r)\n",
    "        \n",
    "        t += dt\n",
    "        x += new_x\n",
    "        y += new_y\n",
    "        z += new_z\n",
    "        \n",
    "        ts.append(t)\n",
    "        xs.append(x)\n",
    "        ys.append(y)\n",
    "        zs.append(z)\n",
    "        \n",
    "        step += 1\n",
    "    \n",
    "    return ts, xs, ys, zs"
   ]
  },
  {
   "cell_type": "code",
   "execution_count": null,
   "metadata": {},
   "outputs": [],
   "source": [
    "draw(solve_adams)"
   ]
  },
  {
   "cell_type": "code",
   "execution_count": 13,
   "metadata": {},
   "outputs": [],
   "source": [
    "def adams_multan_y(x, y, z, t, h, step, f, r):\n",
    "    return h * (\n",
    "        9 * f(t[step], x[step], y[step], z[step], r) +\n",
    "        19 * f(t[step - 1], x[step - 1], y[step - 1], z[step - 1], r) - \n",
    "        5 * f(t[step - 2], x[step - 2], y[step - 2], z[step - 2], r) + \n",
    "        f(t[step - 3], x[step - 3], y[step - 3], z[step - 3], r)\n",
    "    ) / 24\n",
    "\n",
    "def solve_adams_non_evident(r, t0=0, x0=13.41265629, y0=13.46430003, z0=33.46156416):\n",
    "    t = t0\n",
    "    x = x0\n",
    "    y = y0\n",
    "    z = z0\n",
    "    \n",
    "    ts, xs, ys, zs = tuple(map(lambda x: x[:4], RK4(r)))\n",
    "    step = 4\n",
    "    \n",
    "    while t < max_t:\n",
    "        new_x = xs + [adams_y(xs, ys, zs, ts, dt, step, adams_dx_dt, r)]\n",
    "        new_y = ys + [adams_y(xs, ys, zs, ts, dt, step, adams_dy_dt, r)]\n",
    "        new_z = zs + [adams_y(xs, ys, zs, ts, dt, step, adams_dz_dt, r)]\n",
    "        new_t = ts + [t + dt]\n",
    "        t += dt\n",
    "        x += adams_multan_y(new_x, new_y, new_z, new_t, dt, step, adams_dx_dt, r)\n",
    "        y += adams_multan_y(new_x, new_y, new_z, new_t, dt, step, adams_dy_dt, r)\n",
    "        z += adams_multan_y(new_x, new_y, new_z, new_t, dt, step, adams_dz_dt, r)\n",
    "        \n",
    "        ts.append(t)\n",
    "        xs.append(x)\n",
    "        ys.append(y)\n",
    "        zs.append(z)\n",
    "        \n",
    "        step += 1\n",
    "    \n",
    "    return ts, xs, ys, zs"
   ]
  },
  {
   "cell_type": "code",
   "execution_count": null,
   "metadata": {},
   "outputs": [],
   "source": [
    "draw(solve_adams_non_evident)"
   ]
  },
  {
   "cell_type": "code",
   "execution_count": null,
   "metadata": {},
   "outputs": [],
   "source": []
  }
 ],
 "metadata": {
  "kernelspec": {
   "display_name": "Python 3",
   "language": "python",
   "name": "python3"
  },
  "language_info": {
   "codemirror_mode": {
    "name": "ipython",
    "version": 3
   },
   "file_extension": ".py",
   "mimetype": "text/x-python",
   "name": "python",
   "nbconvert_exporter": "python",
   "pygments_lexer": "ipython3",
   "version": "3.7.2"
  }
 },
 "nbformat": 4,
 "nbformat_minor": 2
}
