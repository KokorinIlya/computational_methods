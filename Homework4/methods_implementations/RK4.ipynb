{
 "cells": [
  {
   "cell_type": "code",
   "execution_count": 1,
   "metadata": {},
   "outputs": [],
   "source": [
    "from common import *"
   ]
  },
  {
   "cell_type": "code",
   "execution_count": 2,
   "metadata": {},
   "outputs": [],
   "source": [
    "import warnings\n",
    "warnings.filterwarnings('ignore')"
   ]
  },
  {
   "cell_type": "code",
   "execution_count": 3,
   "metadata": {},
   "outputs": [],
   "source": [
    "def RK4(r, t0, x0, y0, z0):\n",
    "    t = t0\n",
    "    x = x0\n",
    "    y = y0\n",
    "    z = z0\n",
    "    \n",
    "    ts = [t0]\n",
    "    xs = [x0]\n",
    "    ys = [y0]\n",
    "    zs = [z0]\n",
    "    \n",
    "    while t < max_t:       \n",
    "        k1 = dx_dt(t           , x                , y, z, sigma, b, r)\n",
    "        k2 = dx_dt(t + 0.5 * dt, x + 0.5 * dt * k1, y, z, sigma, b, r)\n",
    "        k3 = dx_dt(t + 0.5 * dt, x + 0.5 * dt * k2, y, z, sigma, b, r)\n",
    "        k4 = dx_dt(t + dt      , x + dt * k3      , y, z, sigma, b, r)\n",
    "        x_i = dt * (k1 + 2 * k2 + 2 * k3 + k4) / 6 \n",
    "        \n",
    "        k1 = dy_dt(t           , x, y                , z, sigma, b, r)\n",
    "        k2 = dy_dt(t + 0.5 * dt, x, y + 0.5 * dt * k1, z, sigma, b, r)\n",
    "        k3 = dy_dt(t + 0.5 * dt, x, y + 0.5 * dt * k2, z, sigma, b, r)\n",
    "        k4 = dy_dt(t + dt      , x, y + dt * k3      , z, sigma, b, r)\n",
    "        y_i = dt * (k1 + 2 * k2 + 2 * k3 + k4) / 6\n",
    "        \n",
    "        k1 = dz_dt(t           , x, y, z                , sigma, b, r)\n",
    "        k2 = dz_dt(t + 0.5 * dt, x, y, z + 0.5 * dt * k1, sigma, b, r)\n",
    "        k3 = dz_dt(t + 0.5 * dt, x, y, z + 0.5 * dt * k2, sigma, b, r)\n",
    "        k4 = dz_dt(t + dt      , x, y, z + dt * k3      , sigma, b, r)\n",
    "        z_i = dt * (k1 + 2 * k2 + 2 * k3 + k4) / 6 \n",
    "        \n",
    "        t += dt\n",
    "        x += x_i\n",
    "        y += y_i\n",
    "        z += z_i\n",
    "        \n",
    "        ts.append(t)\n",
    "        xs.append(x)\n",
    "        ys.append(y)\n",
    "        zs.append(z)\n",
    "    \n",
    "    return ts, xs, ys, zs"
   ]
  },
  {
   "cell_type": "code",
   "execution_count": null,
   "metadata": {},
   "outputs": [],
   "source": []
  }
 ],
 "metadata": {
  "kernelspec": {
   "display_name": "Python 3",
   "language": "python",
   "name": "python3"
  },
  "language_info": {
   "codemirror_mode": {
    "name": "ipython",
    "version": 3
   },
   "file_extension": ".py",
   "mimetype": "text/x-python",
   "name": "python",
   "nbconvert_exporter": "python",
   "pygments_lexer": "ipython3",
   "version": "3.7.3"
  }
 },
 "nbformat": 4,
 "nbformat_minor": 2
}
