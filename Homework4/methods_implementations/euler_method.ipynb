{
 "cells": [
  {
   "cell_type": "code",
   "execution_count": 1,
   "metadata": {
    "pycharm": {
     "is_executing": false
    }
   },
   "outputs": [],
   "source": [
    "from common import *"
   ]
  },
  {
   "cell_type": "code",
   "execution_count": 2,
   "metadata": {},
   "outputs": [],
   "source": [
    "import warnings\n",
    "warnings.filterwarnings('ignore')"
   ]
  },
  {
   "cell_type": "code",
   "execution_count": 3,
   "metadata": {},
   "outputs": [],
   "source": [
    "def solve_euler(r, t0, x0, y0, z0):\n",
    "    t = t0\n",
    "    x = x0\n",
    "    y = y0\n",
    "    z = z0\n",
    "    \n",
    "    ts = [t0]\n",
    "    xs = [x0]\n",
    "    ys = [y0]\n",
    "    zs = [z0]\n",
    "    \n",
    "    while t < max_t:\n",
    "        next_t = t + dt\n",
    "        next_x = x + dx_dt(t, x, y, z, sigma, b, r) * dt\n",
    "        next_y = y + dy_dt(t, x, y, z, sigma, b, r) * dt\n",
    "        next_z = z + dz_dt(t, x, y, z, sigma, b, r) * dt\n",
    "        \n",
    "        t = next_t\n",
    "        x = next_x\n",
    "        y = next_y\n",
    "        z = next_z\n",
    "        \n",
    "        ts.append(t)\n",
    "        xs.append(x)\n",
    "        ys.append(y)\n",
    "        zs.append(z)\n",
    "    \n",
    "    return ts, xs, ys, zs"
   ]
  },
  {
   "cell_type": "code",
   "execution_count": null,
   "metadata": {},
   "outputs": [],
   "source": []
  },
  {
   "cell_type": "code",
   "execution_count": 5,
   "metadata": {},
   "outputs": [],
   "source": [
    "def solve_euler_non_evident(r, t0, x0, y0, z0):\n",
    "    t = t0\n",
    "    x = x0\n",
    "    y = y0\n",
    "    z = z0\n",
    "    \n",
    "    ts = [t0]\n",
    "    xs = [x0]\n",
    "    ys = [y0]\n",
    "    zs = [z0]\n",
    "    \n",
    "    while t < max_t:\n",
    "        x0 = x + dx_dt(t, x, y, z, sigma, b, r) * dt\n",
    "        y0 = y + dy_dt(t, x, y, z, sigma, b, r) * dt\n",
    "        z0 = z + dz_dt(t, x, y, z, sigma, b, r) * dt\n",
    "        \n",
    "        x += dx_dt(t, x0, y0, z0, sigma, b, r) * dt\n",
    "        y += dy_dt(t, x0, y0, z0, sigma, b, r) * dt\n",
    "        z += dz_dt(t, x0, y0, z0, sigma, b, r) * dt\n",
    "        t += dt\n",
    "        \n",
    "        ts.append(t)\n",
    "        xs.append(x)\n",
    "        ys.append(y)\n",
    "        zs.append(z)\n",
    "    \n",
    "    return ts, xs, ys, zs"
   ]
  },
  {
   "cell_type": "markdown",
   "metadata": {},
   "source": [
    "draw(solve_euler_non_evident)"
   ]
  },
  {
   "cell_type": "code",
   "execution_count": null,
   "metadata": {},
   "outputs": [],
   "source": []
  }
 ],
 "metadata": {
  "kernelspec": {
   "display_name": "Python 3",
   "language": "python",
   "name": "python3"
  },
  "language_info": {
   "codemirror_mode": {
    "name": "ipython",
    "version": 3
   },
   "file_extension": ".py",
   "mimetype": "text/x-python",
   "name": "python",
   "nbconvert_exporter": "python",
   "pygments_lexer": "ipython3",
   "version": "3.7.3"
  }
 },
 "nbformat": 4,
 "nbformat_minor": 2
}
