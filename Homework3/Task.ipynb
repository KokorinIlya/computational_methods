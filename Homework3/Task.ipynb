{
 "cells": [
  {
   "cell_type": "markdown",
   "metadata": {},
   "source": [
    "Найдём выражения для констант равновесия:\n",
    "\n",
    "$$ K_1 = \\dfrac{\\exp \\left( \\dfrac{2 G_{AlCl} + G_{H_2} - 2 G_{Al} - 2 G_{HCl}}{RT} \\right)}{P_A}$$\n",
    "\t\n",
    "$$ K_2 = \\exp \\left( \\dfrac{G_{AlCl_2} + G_{H_2} - G_{Al} - 2 G_{HCl}}{RT} \\right)$$\n",
    "\n",
    "$$ K_3 = P_A \\cdot \\exp \\left( \\dfrac{2 G_{AlCl_3} + 3 G_{H_2} - 2 G_{Al} - 6 G_{HCl}}{RT} \\right)$$\n",
    "\n",
    "<br/>\n",
    "\n",
    "\n",
    "$$ K_4 = \\dfrac{\\exp \\left( \\dfrac{2 G_{GaCl} + G_{H_2} - 2 G_{Ga} - 2 G_{HCl}}{RT} \\right)}{P_A}$$\n",
    "\n",
    "$$ K_5 = \\exp \\left( \\dfrac{G_{GaCl_2} + G_{H_2} - G_{Ga} - 2 G_{HCl}}{RT} \\right)$$\n",
    "\n",
    "$$ K_6 = P_A \\cdot \\exp \\left( \\dfrac{2 G_{GaCl_3} + 3 G_{H_2} - 2 G_{Ga} - 6 G_{HCl}}{RT} \\right)$$\n",
    "\n",
    "<br/>\n",
    "\n",
    "$$ K_9 = \\dfrac{\\exp \\left( \\dfrac{G_{AlN} + 3 G_{HCl} - G_{NH_3} - G_{AlCl_3}}{RT} \\right)}{P_A} $$\n",
    "\n",
    "$$ K_{10} = \\exp \\left( \\dfrac{G_{GaN} + G_{HCl} + G_{H_2} - G_{GaCl} - G_{NH_3}}{RT} \\right) $$"
   ]
  },
  {
   "cell_type": "code",
   "execution_count": 9,
   "metadata": {},
   "outputs": [],
   "source": [
    "import math\n",
    "names = [\"AlCl\", \"AlCl2\", \"AlCl3\", \"GaCl\", \"GaCl2\", \"GaCl3\", \"NH3\", \"H2\", \"HCl\", \"N2\", \"Al\", \"Ga\", \"AlN\", \"GaN\"]\n",
    "R = 8.314\n",
    "PA = 100000\n",
    "H = dict(zip(names, [-51031, -259000, -584100, -70553, -241238, -431573, -45940, 0, -92310, 0, 0, 0, -319000, -114000]))\n",
    "f1 = dict(zip(names, [318.9948, 427.2137, 511.8114, 332.2718, 443.2976, 526.8113, 231.1183, 205.5368, 243.9878, 242.8156, 172.8289, 125.9597, 123.1132, 160.2647]))\n",
    "f2 = dict(zip(names, [36.94626, 56.56409, 81.15042, 37.11052, 57.745845, 82.03355, 20.52222, 29.50487, 23.15984, 21.47467, 50.51806, 26.03107, 44.98092, 52.86351]))\n",
    "f3 = dict(zip(names, [-0.001226431, -0.002961273, -0.004834879, -0.000746187, -0.002265112, -0.003486473, 0.000716251, 0.000168424, 0.001819985, 0.001748786, -0.00411847, 0.001178297, -0.00734504, -0.00799055]))\n",
    "f4 = dict(zip(names, [1.1881743, 1.893842, 2.752097, 1.1606512, 1.8755545, 2.6855923, 0.7677236, 0.86065612, 0.6147384, 0.5910039, 1.476107, 0.13976, 1.86107, 2.113389]))\n",
    "f5 = dict(zip(names, [5.638541, 12.40072, 13.40078, 4.891346, 3.66186, 8.278878, 244.6296, -14.95312, 51.16604, 81.08497, -458.1279, -0.5698425, 31.39626, 1.313428]))\n",
    "f6 = dict(zip(names, [-5.066135, -22.65441, -21.28001, -4.467591, -9.356338, -14.5678, -251.69, 78.18955, -36.89502, -103.6265, 2105.75, 0.04723008, -49.92139, -2.441129]))\n",
    "f7 = dict(zip(names, [5.219347, 21.29898, 16.92868, 5.506236, 15.88245, 12.8899, 146.6947, -82.78981, 9.174252, 71.30775, -4168.337, 7.212525, 81.22038, 1.945731]))\n",
    "mu = dict(zip(names, [62.4345, 97.8875, 133.3405, 105.173, 140.626, 176.080, 17.031, 2.016, 36.461, 28.0135, 26.9815, 69.723, 40.988, 83.730]))\n",
    "sigma = dict(zip(names, [3.58, 5.3, 5.13, 3.696, 4.293, 5.034, 3.0, 2.93, 2.737, 3.798]))\n",
    "epsil = dict(zip(names, [932.0, 825.0, 472.0, 348.2, 465.0, 548.24, 300.0, 34.1, 167.1, 71.4]))\n",
    "ro = dict([(\"Al\", 2690), (\"Ga\", 5900), (\"AlN\", 3200), (\"GaN\", 6150)])"
   ]
  },
  {
   "cell_type": "code",
   "execution_count": 10,
   "metadata": {},
   "outputs": [],
   "source": [
    "def PFI(name, T):\n",
    "    global f1, f2, f3, f4, f5, f6, f7\n",
    "    x = T / 10000\n",
    "    return f1[name] + f2[name] * math.log(x) + f3[name] / (x * x) + f4[name] / x + f5[name] * x + f6[name] * x * x + f7[name] * x * x * x\n",
    "\n",
    "def G(name, T):\n",
    "    global H\n",
    "    return H[name] - PFI(name, T) * T"
   ]
  },
  {
   "cell_type": "code",
   "execution_count": 15,
   "metadata": {},
   "outputs": [],
   "source": [
    "def K1(T):\n",
    "    global R, PA\n",
    "    return math.exp((2 * G(\"AlCl\", T) + G(\"H2\", T) - 2 * G(\"Al\", T) - 2 * G(\"HCl\", T)) / (R * T)) / PA\n",
    "\n",
    "def K2(T):\n",
    "    global R, PA\n",
    "    return math.exp((G(\"AlCl2\", T) + G(\"H2\", T) - G(\"Al\", T) - 2 * G(\"HCl\", T)) / (R * T))\n",
    "\n",
    "def K3(T):\n",
    "    global R, PA\n",
    "    return PA * math.exp((2 * G(\"AlCl3\", T) + 3 * G(\"H2\", T) - 2 * G(\"Al\", T) - 6 * G(\"HCl\", T)) / (R * T))\n",
    "\n",
    "def K4(T):\n",
    "    global R, PA\n",
    "    return math.exp((2 * G(\"GaCl\", T) + G(\"H2\", T) - 2 * G(\"Ga\", T) - 2 * G(\"HCl\", T)) / (R * T)) / PA\n",
    "\n",
    "def K5(T):\n",
    "    global R, PA\n",
    "    return math.exp((G(\"GaCl2\", T) + G(\"H2\", T) - G(\"Ga\", T) - 2 * G(\"HCl\", T)) / (R * T))\n",
    "\n",
    "def K6(T):\n",
    "    global R, PA\n",
    "    return PA * math.exp((2 * G(\"GaCl3\", T) + 3 * G(\"H2\", T) - 2 * G(\"Ga\", T) - 6 * G(\"HCl\", T)) / (R * T))\n",
    "\n",
    "def K9(T):\n",
    "    global R, PA\n",
    "    return math.exp((G(\"AlN\", T) + 3 * G(\"HCl\", T) - G(\"NH3\", T) - G(\"AlCl3\", T)) / (R * T)) / PA\n",
    "\n",
    "def K10(T):\n",
    "    global R, PA\n",
    "    return math.exp((G(\"GaN\", T) + G(\"HCl\", T) + G(\"H2\", T) - G(\"GaCl\", T) - G(\"NH3\", T)) / (R * T))"
   ]
  },
  {
   "cell_type": "code",
   "execution_count": 18,
   "metadata": {},
   "outputs": [],
   "source": [
    "def D(name, T):\n",
    "    global PA, epsilon, mu, sigma\n",
    "    P = PA\n",
    "    sigma_f = (sigma[name] + sigma[\"N2\"]) / 2\n",
    "    mu_f = 2 * mu[name] * mu[\"N2\"] / (mu[name] + mu[\"N2\"])\n",
    "    epsil_f = math.sqrt(epsil[name] * epsil[\"N2\"])\n",
    "    omega_f = 1.074 * math.pow(T / epsil_f, -0.1604)\n",
    "    return 0.02628 * math.pow(T, 1.5) / (P * sigma_f * omega_f * math.sqrt(mu_f))"
   ]
  },
  {
   "cell_type": "markdown",
   "metadata": {},
   "source": [
    "# Моделирования конвресии HCl в хлориды Al и Ga\n",
    "Для Al имеем систему относительн $P_{AlCl}^e, P_{AlCl_2}^e, P_{AlCl_3}^e, P_{HCl}^e, P_{H_2}^e$:\n",
    "\n",
    "$$ (P_{HCl}^e)^2 = K_1 (P_{AlCl}^e)^2 P_{H_2}^e $$\n",
    "\n",
    "$$ (P_{HCl}^e)^2 = K_2 P_{AlCl_2}^e P_{H_2}^e $$\n",
    "\n",
    "$$ (P_{HCl}^e)^6 = K_3 (P_{AlCl_3}^e)^2 (P_{H_2}^e)^3 $$\n",
    "\n",
    "$$ D_{HCl} (P_{HCl}^g - P_{HCl}^e) + 2 D_{H_2} (P_{H_2}^g - P_{H_2}^e) = 0 $$\n",
    "\n",
    "$$ D_{AlCl} (P_{AlCl}^g - P_{AlCl}^e) + 2 D_{AlCl_2} (P_{AlCl_2}^g - P_{AlCl_2}^e) + 3 D_{AlCl_3} (P_{AlCl_3}^g - P_{AlCl_3}^e) + D_{HCl} (P_{HCl}^g - P_{HCl}^e) = 0 $$\n",
    "\n",
    "После небольших эквивалетных преобразований получаем систему из 4 урванений:\n",
    "\n",
    "$$ K_1 (P_{AlCl}^e)^2 P_{H_2}^e (P_{HCl}^e)^{-2} - 1 = 0 $$\n",
    "\n",
    "$$ K_2 P_{AlCl_2}^e P_{H_2}^e (P_{HCl}^e)^{-2} - 1 = 0 $$\n",
    "\n",
    "$$ K_3 (P_{AlCl_3}^e)^2 (P_{H_2}^e)^3 (P_{HCl}^e)^{-6} - 1 = 0$$\n",
    "\n",
    "$$ D_{HCl} (P_{HCl}^g - P_{HCl}^e) + 2 D_{H_2} (P_{H_2}^g - P_{H_2}^e) = 0 $$\n",
    "\n",
    "$$ D_{AlCl} (P_{AlCl}^g - P_{AlCl}^e) + 2 D_{AlCl_2} (P_{AlCl_2}^g - P_{AlCl_2}^e) + 3 D_{AlCl_3} (P_{AlCl_3}^g - P_{AlCl_3}^e) + D_{HCl} (P_{HCl}^g - P_{HCl}^e) = 0 $$\n",
    "\n",
    "Матрица Якоби для неё:\n",
    "\n",
    "\\begin{vmatrix}\n",
    "2 K_1 P_{AlCl}^e P_{H_2}^e (P_{HCl}^e)^{-2} & 0 & 0 & -2 K_1 (P_{AlCl}^e)^2 P_{H_2}^e (P_{HCl}^e)^{-3} & K_1 (P_{AlCl}^e)^2 (P_{HCl}^e)^{-2} \\\\\n",
    "0 & K_2 P_{H_2}^e (P_{HCl}^e)^{-2} & 0 & -2 K_2 P_{AlCl_2}^e P_{H_2}^e (P_{HCl}^e)^{-3} & K_2 P_{AlCl_2}^e (P_{HCl}^e)^{-2} \\\\\n",
    "0 & 0 & 2 K_3 P_{AlCl_3}^e (P_{H_2}^e)^3 (P_{HCl}^e)^{-6} & -6 K_3 (P_{AlCl_3}^e)^2 (P_{H_2}^e)^3 (P_{HCl}^e)^{-7} & 3 K_3 (P_{AlCl_3}^e)^2 (P_{H_2}^e)^2 (P_{HCl}^e)^{-6} \\\\\n",
    "0 & 0 & 0 & - D_{HCl} & -2 D_{H_2} \\\\\n",
    "-D_{AlCl} & -2 D_{AlCl_2} & -3 D_{AlCl_3} & -D_{HCl} & 0\n",
    "\\end{vmatrix}"
   ]
  },
  {
   "cell_type": "code",
   "execution_count": null,
   "metadata": {},
   "outputs": [],
   "source": []
  }
 ],
 "metadata": {
  "kernelspec": {
   "display_name": "Python 3",
   "language": "python",
   "name": "python3"
  },
  "language_info": {
   "codemirror_mode": {
    "name": "ipython",
    "version": 3
   },
   "file_extension": ".py",
   "mimetype": "text/x-python",
   "name": "python",
   "nbconvert_exporter": "python",
   "pygments_lexer": "ipython3",
   "version": "3.7.3"
  }
 },
 "nbformat": 4,
 "nbformat_minor": 2
}
