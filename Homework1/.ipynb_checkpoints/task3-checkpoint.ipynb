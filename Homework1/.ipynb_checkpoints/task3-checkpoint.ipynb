{
 "cells": [
  {
   "cell_type": "code",
   "execution_count": 1,
   "metadata": {
    "ExecuteTime": {
     "end_time": "2019-03-14T12:24:46.835998Z",
     "start_time": "2019-03-14T12:24:42.628482Z"
    }
   },
   "outputs": [],
   "source": [
    "import matplotlib\n",
    "import matplotlib.pyplot as plt\n",
    "import numpy as np\n",
    "import math"
   ]
  },
  {
   "cell_type": "code",
   "execution_count": 2,
   "metadata": {
    "ExecuteTime": {
     "end_time": "2019-03-14T12:24:46.842979Z",
     "start_time": "2019-03-14T12:24:46.837982Z"
    }
   },
   "outputs": [],
   "source": [
    "def isEqualComplex(a, b):\n",
    "    return math.isclose(a.real, b.real) and math.isclose(a.imag, b.imag)"
   ]
  },
  {
   "cell_type": "code",
   "execution_count": 3,
   "metadata": {
    "ExecuteTime": {
     "end_time": "2019-03-14T12:24:46.921257Z",
     "start_time": "2019-03-14T12:24:46.844978Z"
    }
   },
   "outputs": [
    {
     "ename": "SyntaxError",
     "evalue": "invalid syntax (<ipython-input-3-864e1515fe08>, line 1)",
     "output_type": "error",
     "traceback": [
      "\u001b[1;36m  File \u001b[1;32m\"<ipython-input-3-864e1515fe08>\"\u001b[1;36m, line \u001b[1;32m1\u001b[0m\n\u001b[1;33m    0def get_root(init_root):\u001b[0m\n\u001b[1;37m       ^\u001b[0m\n\u001b[1;31mSyntaxError\u001b[0m\u001b[1;31m:\u001b[0m invalid syntax\n"
     ]
    }
   ],
   "source": [
    "def get_root(init_root):\n",
    "    cur_root = init_root\n",
    "    for _ in range(100):\n",
    "        new_root = 2 * cur_root / 3 + 1/(3*cur_root*cur_root)        \n",
    "        if isEqualComplex(new_root, cur_root):\n",
    "            return new_root\n",
    "        cur_root = new_root\n",
    "    return cur_root"
   ]
  },
  {
   "cell_type": "code",
   "execution_count": null,
   "metadata": {
    "ExecuteTime": {
     "end_time": "2019-03-14T12:24:46.927242Z",
     "start_time": "2019-03-14T12:24:42.632Z"
    }
   },
   "outputs": [],
   "source": [
    "roots = [complex(1, 0), complex(-0.5, math.sqrt(3)/2), complex(-0.5, -math.sqrt(3)/2)]"
   ]
  },
  {
   "cell_type": "code",
   "execution_count": null,
   "metadata": {
    "ExecuteTime": {
     "end_time": "2019-03-14T12:24:46.930240Z",
     "start_time": "2019-03-14T12:24:42.634Z"
    }
   },
   "outputs": [],
   "source": [
    "def get_class_by_root(cur_root):\n",
    "    for i, root in enumerate(roots):\n",
    "        if isEqualComplex(root, cur_root):\n",
    "            return i\n",
    "    return -1"
   ]
  },
  {
   "cell_type": "code",
   "execution_count": null,
   "metadata": {
    "ExecuteTime": {
     "end_time": "2019-03-14T12:24:46.932239Z",
     "start_time": "2019-03-14T12:24:42.635Z"
    }
   },
   "outputs": [],
   "source": [
    "def get_class_by_point(i, j):\n",
    "    try:\n",
    "        return get_class_by_root(get_root(complex((i - 500)/250, (j - 500)/250)))  \n",
    "    except ZeroDivisionError:\n",
    "        return -1"
   ]
  },
  {
   "cell_type": "code",
   "execution_count": null,
   "metadata": {
    "ExecuteTime": {
     "end_time": "2019-03-14T12:24:46.934237Z",
     "start_time": "2019-03-14T12:24:42.637Z"
    }
   },
   "outputs": [],
   "source": [
    "result = np.fromfunction(np.vectorize(lambda i, j: get_class_by_point(i, j)), (1000, 1000), dtype = int)"
   ]
  },
  {
   "cell_type": "code",
   "execution_count": null,
   "metadata": {
    "ExecuteTime": {
     "end_time": "2019-03-14T12:24:46.936238Z",
     "start_time": "2019-03-14T12:24:42.638Z"
    }
   },
   "outputs": [],
   "source": [
    "x = np.repeat(np.linspace(-2, 2, 1000), 1000)\n",
    "y = np.tile(np.linspace(-2, 2, 1000), 1000)\n",
    "result_plot = plt.scatter(x, y, c=np.ravel(np.asarray(result)))"
   ]
  },
  {
   "cell_type": "code",
   "execution_count": null,
   "metadata": {
    "ExecuteTime": {
     "end_time": "2019-03-14T12:24:46.938235Z",
     "start_time": "2019-03-14T12:24:42.641Z"
    }
   },
   "outputs": [],
   "source": [
    "fig = result_plot.get_figure()\n",
    "fig.savefig(\"res.png\")"
   ]
  }
 ],
 "metadata": {
  "kernelspec": {
   "display_name": "Python 3",
   "language": "python",
   "name": "python3"
  },
  "language_info": {
   "codemirror_mode": {
    "name": "ipython",
    "version": 3
   },
   "file_extension": ".py",
   "mimetype": "text/x-python",
   "name": "python",
   "nbconvert_exporter": "python",
   "pygments_lexer": "ipython3",
   "version": "3.7.2"
  }
 },
 "nbformat": 4,
 "nbformat_minor": 2
}
