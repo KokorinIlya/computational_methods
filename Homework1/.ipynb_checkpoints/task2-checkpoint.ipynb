{
 "cells": [
  {
   "cell_type": "code",
   "execution_count": 1,
   "metadata": {},
   "outputs": [],
   "source": [
    "import matplotlib.pyplot as plt\n",
    "import numpy as np\n",
    "import matplotlib.ticker as ticker\n",
    "import math"
   ]
  },
  {
   "cell_type": "code",
   "execution_count": 2,
   "metadata": {},
   "outputs": [],
   "source": [
    "def y(x, r):\n",
    "    return r * x * (1 - x)\n",
    "\n",
    "def phi(x, r):\n",
    "    return y(x, r) + x"
   ]
  },
  {
   "cell_type": "code",
   "execution_count": null,
   "metadata": {},
   "outputs": [],
   "source": [
    "def simple_iterations(epsilon):\n",
    "    left_border = -4.0\n",
    "    right_border = -1.5\n",
    "    iterations = 0\n",
    "    \n",
    "    cur_x = (left_border + right_border) / 2.0\n",
    "    next_x = phi(cur_x)\n",
    "    \n",
    "    while (abs(cur_x - next_x) > epsilon):\n",
    "        print(cur_x, next_x)\n",
    "        cur_x = next_x\n",
    "        next_x = phi(cur_x)\n",
    "        iterations += 1\n",
    "    return (next_x, y(next_x), iterations)  "
   ]
  }
 ],
 "metadata": {
  "kernelspec": {
   "display_name": "Python 3",
   "language": "python",
   "name": "python3"
  },
  "language_info": {
   "codemirror_mode": {
    "name": "ipython",
    "version": 3
   },
   "file_extension": ".py",
   "mimetype": "text/x-python",
   "name": "python",
   "nbconvert_exporter": "python",
   "pygments_lexer": "ipython3",
   "version": "3.7.2"
  }
 },
 "nbformat": 4,
 "nbformat_minor": 2
}
