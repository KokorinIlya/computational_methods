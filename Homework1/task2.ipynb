{
 "cells": [
  {
   "cell_type": "code",
   "execution_count": 1,
   "metadata": {},
   "outputs": [],
   "source": [
    "import matplotlib.pyplot as plt\n",
    "import numpy as np\n",
    "import matplotlib.ticker as ticker\n",
    "import math\n",
    "import random"
   ]
  },
  {
   "cell_type": "code",
   "execution_count": 2,
   "metadata": {},
   "outputs": [],
   "source": [
    "def phi(x, r):\n",
    "    return r * x * (1 - x)\n",
    "\n",
    "def get_window(r):\n",
    "    return ((r - 1) / (2 * r), (r + 1) / (2 * r))"
   ]
  },
  {
   "cell_type": "code",
   "execution_count": 3,
   "metadata": {},
   "outputs": [],
   "source": [
    "def simple_iterations(epsilon, r):\n",
    "    (left_border, right_border) = get_window(r)\n",
    "    iterations = 0\n",
    "    \n",
    "    cur_x = random.uniform(left_border, right_border)\n",
    "    next_x = phi(cur_x, r) \n",
    "    \n",
    "    while (abs(cur_x - next_x) > epsilon):\n",
    "        cur_x = next_x\n",
    "        next_x = phi(cur_x, r)\n",
    "        iterations += 1\n",
    "        if (iterations > 1000):\n",
    "            return (-100, 1000)\n",
    "        \n",
    "    return (next_x, iterations)"
   ]
  },
  {
   "cell_type": "code",
   "execution_count": 4,
   "metadata": {},
   "outputs": [
    {
     "name": "stdout",
     "output_type": "stream",
     "text": [
      "[9999, 0]\n"
     ]
    }
   ],
   "source": [
    "roots = []\n",
    "roots.append(0)\n",
    "roots.append(0)\n",
    "\n",
    "for i in range(1, 10**4):\n",
    "    cur_r = random.uniform(0.01, 0.99)\n",
    "    (answer, iters) = simple_iterations(1e-8, cur_r)\n",
    "    x1 = 0.0\n",
    "    x2 = 1 - (1 / cur_r)\n",
    "    if (answer > -50):\n",
    "        if (abs(answer - x1) < abs(answer - x2) and abs(answer - x1) < 1e-6):\n",
    "            roots[0] += 1\n",
    "        elif (abs(answer - x2) < 1e-6):\n",
    "            roots[1] += 1\n",
    "print(roots)"
   ]
  },
  {
   "cell_type": "code",
   "execution_count": 5,
   "metadata": {},
   "outputs": [
    {
     "name": "stdout",
     "output_type": "stream",
     "text": [
      "[0, 9969]\n",
      "[2.988960160494271, 2.9863340307315553, 2.98974874211265, 2.9869293551021867, 2.984471728313693, 2.987285770559456, 2.984587436664672, 2.9869421585747125, 2.985807817119656, 2.98650768312027, 2.9891279778054853, 2.98828188316665, 2.985375753165715, 2.9886682261139224, 2.989390604103881, 2.9899441717278297, 2.9892306033506895, 2.9865963094335672, 2.989534078768523, 2.9878872129813026, 2.9884802995646855, 2.9869369601719, 2.9845544121731375, 2.9850335970883277, 2.989636417476947, 2.9881969600263756, 2.9892491532313445, 2.9880488033820045, 2.9852377817069016, 2.98894880307831]\n"
     ]
    }
   ],
   "source": [
    "roots = []\n",
    "roots.append(0)\n",
    "roots.append(0)\n",
    "\n",
    "undefined_roots = []\n",
    "\n",
    "for i in range(1, 10**4):\n",
    "    cur_r = random.uniform(1.01, 2.99)\n",
    "    (answer, iters) = simple_iterations(1e-8, cur_r)\n",
    "    x1 = 0.0\n",
    "    x2 = 1 - (1 / cur_r)\n",
    "    if (answer > -50):\n",
    "        if (abs(answer - x1) < abs(answer - x2) and abs(answer - x1) < 1e-6):\n",
    "            roots[0] += 1\n",
    "        elif (abs(answer - x2) < 1e-6):\n",
    "            roots[1] += 1\n",
    "    else:\n",
    "        undefined_roots.append(cur_r)\n",
    "print(roots) \n",
    "print(undefined_roots)"
   ]
  },
  {
   "cell_type": "code",
   "execution_count": 6,
   "metadata": {},
   "outputs": [
    {
     "name": "stdout",
     "output_type": "stream",
     "text": [
      "9999\n"
     ]
    }
   ],
   "source": [
    "count = 0\n",
    "\n",
    "for i in range(1, 10**4):\n",
    "    cur_r = random.uniform(3.01, 10.0)\n",
    "    (answer, iters) = simple_iterations(1e-8, cur_r)\n",
    "    if (answer < -50):\n",
    "        count += 1\n",
    "print(count)"
   ]
  },
  {
   "cell_type": "markdown",
   "metadata": {},
   "source": [
    "x = r * x * (1 - x)\n",
    "\n",
    "phi(x) = r * x * (1 - x)\n",
    "\n",
    "phi'(x) = r - 2rx\n",
    "\n",
    "чтобы решение сходилось к корню, первое приближение должно лежать в окрестности корня, удовлетворяющей условию\n",
    "\n",
    "|phi'(x)| <= 1\n",
    "\n",
    "|phi'(x)| <= 1 => max(0.0, (r - 1) / (2 * r)) < x < (r + 1) / (2 * r)\n",
    "\n",
    "Если r > 1, то 0 в этой области не содержится, и сходиться к нему не будет\n",
    "\n",
    "x0 = 0\n",
    "\n",
    "x1 = 1 - 1/r\n",
    "\n",
    "Рассмотрим phi'(x0) = r\n",
    "\n",
    "Чтобы в окрестности корня выполнялось |phi'(x)| < 1, должно быть |r| < 1 => r < 1\n",
    "\n",
    "Значит, при 0 < r < 1 сходимость к x0 = 0 возможна\n",
    "\n",
    "Рассмотрим phi'(x1) = 2 - r\n",
    "\n",
    "|phi'(x)| < 1 => |2 - r| < 1 => 1 < r < 3\n",
    "\n",
    "При 1 < r < 3 сходимость к x1 = 1 - 1/r возможна\n",
    "\n",
    "Заметим, что области сходимости к x0 (0; 1) и к x1 (1; 3) не пересекаются"
   ]
  },
  {
   "cell_type": "code",
   "execution_count": 7,
   "metadata": {},
   "outputs": [],
   "source": [
    "def simple_iterations_with_dir_detection(epsilon, r):\n",
    "    (left_border, right_border) = get_window(r)\n",
    "    points = []\n",
    "    \n",
    "    dir_changed = 0\n",
    "    dir_saved = 0\n",
    "        \n",
    "    cur_x = random.uniform(left_border, right_border)\n",
    "    next_x = phi(cur_x, r) \n",
    "    points.append(cur_x)\n",
    "    points.append(next_x)\n",
    "    iterations = 2\n",
    "    \n",
    "    while (abs(cur_x - next_x) > epsilon):\n",
    "        cur_x = next_x\n",
    "        next_x = phi(cur_x, r)\n",
    "        points.append(next_x)\n",
    "        iterations += 1\n",
    "        if (iterations > 1000):\n",
    "            return (-100, -100, -100)\n",
    "        \n",
    "    if (abs(next_x) > 1e-6 and abs(next_x - (1 - 1/r)) > 1e-6):\n",
    "        return (-100, -100, next_x)\n",
    "    root = next_x\n",
    "    for i in range (0, len(points) - 1):\n",
    "        cur_point = points[i]\n",
    "        next_point = points[i + 1]\n",
    "        d = (cur_point - root) * (next_point - root)\n",
    "        if d > 0:\n",
    "            dir_saved += 1\n",
    "        elif d < 0:\n",
    "            dir_changed += 1\n",
    "            \n",
    "    return (dir_saved, dir_changed, root)"
   ]
  },
  {
   "cell_type": "code",
   "execution_count": 8,
   "metadata": {},
   "outputs": [
    {
     "name": "stdout",
     "output_type": "stream",
     "text": [
      "528113 2539\n",
      "[]\n"
     ]
    }
   ],
   "source": [
    "total_dir_saves = 0\n",
    "total_dir_changes = 0\n",
    "\n",
    "errors = []\n",
    "\n",
    "for i in range(1, 10**4):\n",
    "    cur_r = random.uniform(0.01, 0.99)\n",
    "    (dir_saved, dir_changed, answer) = simple_iterations_with_dir_detection(1e-8, cur_r)\n",
    "    if (abs(answer) < 1e-6):\n",
    "        total_dir_saves += dir_saved\n",
    "        total_dir_changes += dir_changed\n",
    "    else:\n",
    "        errors.append((cur_r, answer))\n",
    "\n",
    "print(total_dir_saves, total_dir_changes)\n",
    "print(errors)"
   ]
  },
  {
   "cell_type": "code",
   "execution_count": 9,
   "metadata": {},
   "outputs": [
    {
     "name": "stdout",
     "output_type": "stream",
     "text": [
      "507241 2481\n",
      "[]\n"
     ]
    }
   ],
   "source": [
    "total_dir_saves = 0\n",
    "total_dir_changes = 0\n",
    "\n",
    "errors = []\n",
    "\n",
    "for i in range(1, 10**4):\n",
    "    cur_r = random.uniform(1.01, 1.99)\n",
    "    (dir_saved, dir_changed, answer) = simple_iterations_with_dir_detection(1e-8, cur_r)\n",
    "    if (abs(answer - (1 - 1 / cur_r)) < 1e-6):\n",
    "        total_dir_saves += dir_saved\n",
    "        total_dir_changes += dir_changed\n",
    "    else:\n",
    "        errors.append((cur_r, answer))\n",
    "\n",
    "print(total_dir_saves, total_dir_changes)\n",
    "print(errors)"
   ]
  },
  {
   "cell_type": "code",
   "execution_count": 10,
   "metadata": {},
   "outputs": [
    {
     "name": "stdout",
     "output_type": "stream",
     "text": [
      "3327 553223\n",
      "[(2.9849359580236428, -100), (2.9857703523221697, -100), (2.9850498040728235, -100), (2.9856967477186296, -100), (2.989472980959873, -100), (2.9899340612746497, -100), (2.987413567925448, -100), (2.989208764124913, -100), (2.9846739872118735, -100), (2.986349300886608, -100), (2.9868054789761125, -100), (2.9844092032387843, -100), (2.987437301341629, -100), (2.985820358025607, -100), (2.9891930657131227, -100), (2.9891912696048415, -100), (2.9863598990469757, -100), (2.989260801528649, -100), (2.9887296930031697, -100), (2.9847341189240133, -100), (2.985298716622744, -100), (2.989740044222911, -100), (2.985365280511323, -100), (2.989337434545777, -100), (2.9856754933517378, -100), (2.984472558990903, -100), (2.989492336388679, -100), (2.987172556279704, -100), (2.986480757592478, -100), (2.9889942248947867, -100), (2.986105387783484, -100), (2.9889725525103015, -100), (2.986021197839344, -100), (2.9891507122311487, -100)]\n"
     ]
    }
   ],
   "source": [
    "total_dir_saves = 0\n",
    "total_dir_changes = 0\n",
    "\n",
    "errors = []\n",
    "\n",
    "for i in range(1, 10**4):\n",
    "    cur_r = random.uniform(2.01, 2.99)\n",
    "    (dir_saved, dir_changed, answer) = simple_iterations_with_dir_detection(1e-8, cur_r)\n",
    "    if (abs(answer - (1 - 1 / cur_r)) < 1e-6):\n",
    "        total_dir_saves += dir_saved\n",
    "        total_dir_changes += dir_changed\n",
    "    else:\n",
    "                errors.append((cur_r, answer))\n",
    "\n",
    "print(total_dir_saves, total_dir_changes)\n",
    "print(errors)"
   ]
  },
  {
   "cell_type": "markdown",
   "metadata": {},
   "source": [
    "При 0 < r < 1 сходится в точку x0 = 0.\n",
    "\n",
    "phi'(x0) = r => 0 < phi' < 1 => монотонная сходимость\n",
    "\n",
    "При 1 < r < 2 сходится в точку x1 = 1 - 1/r\n",
    "\n",
    "phi'(x1) = 2 - r => 0 < phi' < 1 => монотонная сходимость\n",
    "\n",
    "При 2 < r < 3 сходится в точку x1 = 1 - 1/r\n",
    "\n",
    "phi'(x1) = 2 - r => -1 < phi' < 0 => колебательная сходимость"
   ]
  },
  {
   "cell_type": "code",
   "execution_count": null,
   "metadata": {},
   "outputs": [],
   "source": []
  }
 ],
 "metadata": {
  "kernelspec": {
   "display_name": "Python 3",
   "language": "python",
   "name": "python3"
  },
  "language_info": {
   "codemirror_mode": {
    "name": "ipython",
    "version": 3
   },
   "file_extension": ".py",
   "mimetype": "text/x-python",
   "name": "python",
   "nbconvert_exporter": "python",
   "pygments_lexer": "ipython3",
   "version": "3.7.0"
  }
 },
 "nbformat": 4,
 "nbformat_minor": 2
}
