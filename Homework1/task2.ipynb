{
 "cells": [
  {
   "cell_type": "code",
   "execution_count": 1,
   "metadata": {},
   "outputs": [],
   "source": [
    "import matplotlib.pyplot as plt\n",
    "import numpy as np\n",
    "import matplotlib.ticker as ticker\n",
    "import math\n",
    "import random"
   ]
  },
  {
   "cell_type": "code",
   "execution_count": 2,
   "metadata": {},
   "outputs": [],
   "source": [
    "def phi(x, r):\n",
    "    return r * x * (1 - x)\n",
    "\n",
    "def get_window(r):\n",
    "    return (max(0.0, (r - 1) / (2 * r)), (r + 1) / (2 * r))"
   ]
  },
  {
   "cell_type": "code",
   "execution_count": 3,
   "metadata": {},
   "outputs": [],
   "source": [
    "def simple_iterations(epsilon, r):\n",
    "    (left_border, right_border) = get_window(r)\n",
    "    iterations = 0\n",
    "    \n",
    "    cur_x = random.uniform(left_border, right_border)\n",
    "    next_x = phi(cur_x, r) \n",
    "    \n",
    "    while (abs(cur_x - next_x) > epsilon):\n",
    "        cur_x = next_x\n",
    "        next_x = phi(cur_x, r)\n",
    "        iterations += 1\n",
    "        if (iterations > 1000):\n",
    "            return (-100, 1000)\n",
    "        \n",
    "    return (next_x, iterations)"
   ]
  },
  {
   "cell_type": "code",
   "execution_count": 4,
   "metadata": {},
   "outputs": [
    {
     "name": "stdout",
     "output_type": "stream",
     "text": [
      "[9999, 0]\n"
     ]
    }
   ],
   "source": [
    "roots = []\n",
    "roots.append(0)\n",
    "roots.append(0)\n",
    "\n",
    "for i in range(1, 10**4):\n",
    "    cur_r = random.uniform(0.01, 0.99)\n",
    "    (answer, iters) = simple_iterations(1e-8, cur_r)\n",
    "    x1 = 0.0\n",
    "    x2 = 1 - (1 / cur_r)\n",
    "    if (answer > -50):\n",
    "        if (abs(answer - x1) < abs(answer - x2) and abs(answer - x1) < 1e-6):\n",
    "            roots[0] += 1\n",
    "        elif (abs(answer - x2) < 1e-6):\n",
    "            roots[1] += 1\n",
    "print(roots)"
   ]
  },
  {
   "cell_type": "code",
   "execution_count": 5,
   "metadata": {},
   "outputs": [
    {
     "name": "stdout",
     "output_type": "stream",
     "text": [
      "[0, 9972]\n",
      "[2.9884389933972137, 2.9891840131178027, 2.9892874327180197, 2.9860662991990505, 2.9872373551603495, 2.9862315329806908, 2.985017439048111, 2.9878006253773948, 2.9897173118982625, 2.985950682441941, 2.988324706992932, 2.987961701376669, 2.9854551211590916, 2.986014288956162, 2.9874069315777914, 2.989380399144546, 2.988404091834407, 2.986868804259476, 2.9876614553421024, 2.9867879977530345, 2.989612653646445, 2.9870676494452333, 2.9865190777926154, 2.98975888292263, 2.986963477088587, 2.9861960885691907, 2.9890004616804333]\n"
     ]
    }
   ],
   "source": [
    "roots = []\n",
    "roots.append(0)\n",
    "roots.append(0)\n",
    "\n",
    "undefined_roots = []\n",
    "\n",
    "for i in range(1, 10**4):\n",
    "    cur_r = random.uniform(1.01, 2.99)\n",
    "    (answer, iters) = simple_iterations(1e-8, cur_r)\n",
    "    x1 = 0.0\n",
    "    x2 = 1 - (1 / cur_r)\n",
    "    if (answer > -50):\n",
    "        if (abs(answer - x1) < abs(answer - x2) and abs(answer - x1) < 1e-6):\n",
    "            roots[0] += 1\n",
    "        elif (abs(answer - x2) < 1e-6):\n",
    "            roots[1] += 1\n",
    "    else:\n",
    "        undefined_roots.append(cur_r)\n",
    "print(roots) \n",
    "print(undefined_roots)"
   ]
  },
  {
   "cell_type": "code",
   "execution_count": 6,
   "metadata": {},
   "outputs": [
    {
     "name": "stdout",
     "output_type": "stream",
     "text": [
      "9999\n"
     ]
    }
   ],
   "source": [
    "count = 0\n",
    "\n",
    "for i in range(1, 10**4):\n",
    "    cur_r = random.uniform(3.01, 10.0)\n",
    "    (answer, iters) = simple_iterations(1e-8, cur_r)\n",
    "    if (answer < -50):\n",
    "        count += 1\n",
    "print(count)"
   ]
  },
  {
   "cell_type": "markdown",
   "metadata": {},
   "source": [
    "x = r * x * (1 - x)\n",
    "\n",
    "phi(x) = r * x * (1 - x)\n",
    "\n",
    "phi'(x) = r - 2rx\n",
    "\n",
    "чтобы решение сходилось к корню, первое приближение должно лежать в окрестности корня, удовлетворяющей условию\n",
    "\n",
    "|phi'(x)| <= 1\n",
    "\n",
    "|phi'(x)| <= 1 => max(0.0, (r - 1) / (2 * r)) < x < (r + 1) / (2 * r)\n",
    "\n",
    "Если r > 1, то 0 в этой области не содержится, и сходиться к нему не будет\n",
    "\n",
    "x0 = 0\n",
    "\n",
    "x1 = 1 - 1/r\n",
    "\n",
    "Рассмотрим phi'(x0) = r\n",
    "\n",
    "Чтобы в окрестности корня выполнялось |phi'(x)| < 1, должно быть |r| < 1 => r < 1\n",
    "\n",
    "Значит, при 0 < r < 1 сходимость к x0 = 0 возможна\n",
    "\n",
    "Рассмотрим phi'(x1) = 2 - r\n",
    "\n",
    "|phi'(x)| < 1 => |2 - r| < 1 => 1 < r < 3\n",
    "\n",
    "При 1 < r < 3 сходимость к x1 = 1 - 1/r возможна\n",
    "\n",
    "Заметим, что области сходимости к x0 (0; 1) и к x1 (1; 3) не пересекаются"
   ]
  },
  {
   "cell_type": "code",
   "execution_count": 7,
   "metadata": {},
   "outputs": [],
   "source": [
    "def simple_iterations_with_dir_detection(epsilon, r):\n",
    "    (left_border, right_border) = get_window(r)\n",
    "    points = []\n",
    "    \n",
    "    dir_changed = 0\n",
    "    dir_saved = 0\n",
    "    \n",
    "    cur_x = random.uniform(left_border, right_border)\n",
    "    next_x = phi(cur_x, r) \n",
    "    points.append(cur_x)\n",
    "    points.append(next_x)\n",
    "    iterations = 2\n",
    "    \n",
    "    \n",
    "    while (abs(cur_x - next_x) > epsilon):\n",
    "        cur_x = next_x\n",
    "        next_x = phi(cur_x, r)\n",
    "        points.append(next_x)\n",
    "        iterations += 1\n",
    "        if (iterations > 1000):\n",
    "            return (-100, -100, -100)\n",
    "        \n",
    "    if (abs(next_x) > 1e-6 and abs(next_x - (1 - 1/r)) > 1e-6):\n",
    "        return (-100, -100, next_x)\n",
    "    root = next_x\n",
    "    for i in range (0, len(points) - 1):\n",
    "        cur_point = points[i]\n",
    "        next_point = points[i + 1]\n",
    "        d = (cur_point - root) * (next_point - root)\n",
    "        if d > 0:\n",
    "            dir_saved += 1\n",
    "        elif d < 0:\n",
    "            dir_changed += 1\n",
    "        \n",
    "    return (dir_saved, dir_changed, root)"
   ]
  },
  {
   "cell_type": "code",
   "execution_count": 10,
   "metadata": {},
   "outputs": [
    {
     "name": "stdout",
     "output_type": "stream",
     "text": [
      "531007 3906\n",
      "[]\n"
     ]
    }
   ],
   "source": [
    "total_dir_saves = 0\n",
    "total_dir_changes = 0\n",
    "\n",
    "errors = []\n",
    "\n",
    "for i in range(1, 10**4):\n",
    "    cur_r = random.uniform(0.01, 0.99)\n",
    "    (dir_saved, dir_changed, answer) = simple_iterations_with_dir_detection(1e-8, cur_r)\n",
    "    if (abs(answer) < 1e-6):\n",
    "        total_dir_saves += dir_saved\n",
    "        total_dir_changes += dir_changed\n",
    "    else:\n",
    "        errors.append((cur_r, answer))\n",
    "\n",
    "print(total_dir_saves, total_dir_changes)\n",
    "print(errors)"
   ]
  },
  {
   "cell_type": "code",
   "execution_count": 11,
   "metadata": {},
   "outputs": [
    {
     "name": "stdout",
     "output_type": "stream",
     "text": [
      "528034 2424\n",
      "[]\n"
     ]
    }
   ],
   "source": [
    "total_dir_saves = 0\n",
    "total_dir_changes = 0\n",
    "\n",
    "errors = []\n",
    "\n",
    "for i in range(1, 10**4):\n",
    "    cur_r = random.uniform(1.01, 1.99)\n",
    "    (dir_saved, dir_changed, answer) = simple_iterations_with_dir_detection(1e-8, cur_r)\n",
    "    if (abs(answer - (1 - 1 / cur_r)) < 1e-6):\n",
    "        total_dir_saves += dir_saved\n",
    "        total_dir_changes += dir_changed\n",
    "    else:\n",
    "                errors.append((cur_r, answer))\n",
    "\n",
    "print(total_dir_saves, total_dir_changes)\n",
    "print(errors)"
   ]
  },
  {
   "cell_type": "code",
   "execution_count": 12,
   "metadata": {},
   "outputs": [
    {
     "name": "stdout",
     "output_type": "stream",
     "text": [
      "3277 579025\n",
      "[(2.9872512493012278, -100), (2.9852844856962095, -100), (2.9850766436501432, -100), (2.988891960851868, -100), (2.9875557512148387, -100), (2.989048613781245, -100), (2.9895389544320725, -100), (2.98676368705719, -100), (2.985827464997501, -100), (2.9871913568694746, -100), (2.988751543660295, -100), (2.986412307016161, -100), (2.986116925863125, -100), (2.9871092124229124, -100), (2.9867173731728576, -100), (2.989842502943227, -100), (2.9889852911519843, -100), (2.989898352518742, -100), (2.9892131597178757, -100), (2.986999231696218, -100), (2.985499451751889, -100), (2.9893571734649313, -100), (2.9888507103712216, -100), (2.9859813182452055, -100), (2.9869917995837962, -100), (2.984991498624462, -100), (2.9885164756490727, -100), (2.9847916143631434, -100), (2.9897688795233797, -100), (2.9857631865453214, -100), (2.9879139224694686, -100), (2.989300538408587, -100), (2.9886765543350267, -100), (2.987565339181266, -100), (2.9888660241291727, -100), (2.9896100004251305, -100), (2.986005528238123, -100), (2.9847784838951057, -100), (2.9870539069332116, -100), (2.9845866547357596, -100), (2.986837138959447, -100), (2.984589347379459, -100), (2.986582224084749, -100), (2.989897490785542, -100), (2.9871388929331992, -100), (2.989153875309592, -100), (2.986071913197531, -100), (2.987364787742846, -100), (2.98639732813443, -100)]\n"
     ]
    }
   ],
   "source": [
    "total_dir_saves = 0\n",
    "total_dir_changes = 0\n",
    "\n",
    "errors = []\n",
    "\n",
    "for i in range(1, 10**4):\n",
    "    cur_r = random.uniform(2.01, 2.99)\n",
    "    (dir_saved, dir_changed, answer) = simple_iterations_with_dir_detection(1e-8, cur_r)\n",
    "    if (abs(answer - (1 - 1 / cur_r)) < 1e-6):\n",
    "        total_dir_saves += dir_saved\n",
    "        total_dir_changes += dir_changed\n",
    "    else:\n",
    "                errors.append((cur_r, answer))\n",
    "\n",
    "print(total_dir_saves, total_dir_changes)\n",
    "print(errors)"
   ]
  },
  {
   "cell_type": "markdown",
   "metadata": {},
   "source": [
    "При 0 < r < 1 сходится в точку x0 = 0.\n",
    "\n",
    "phi'(x0) = r => 0 < phi' < 1 => монотонная сходимость\n",
    "\n",
    "При 1 < r < 2 сходится в точку x1 = 1 - 1/r\n",
    "\n",
    "phi'(x1) = 2 - r => 0 < phi' < 1 => монотонная сходимость\n",
    "\n",
    "При 2 < r < 3 сходится в точку x1 = 1 - 1/r\n",
    "\n",
    "phi'(x1) = 2 - r => -1 < phi' < 0 => колебательная сходимость"
   ]
  },
  {
   "cell_type": "code",
   "execution_count": null,
   "metadata": {},
   "outputs": [],
   "source": []
  }
 ],
 "metadata": {
  "kernelspec": {
   "display_name": "Python 3",
   "language": "python",
   "name": "python3"
  },
  "language_info": {
   "codemirror_mode": {
    "name": "ipython",
    "version": 3
   },
   "file_extension": ".py",
   "mimetype": "text/x-python",
   "name": "python",
   "nbconvert_exporter": "python",
   "pygments_lexer": "ipython3",
   "version": "3.7.0"
  }
 },
 "nbformat": 4,
 "nbformat_minor": 2
}
