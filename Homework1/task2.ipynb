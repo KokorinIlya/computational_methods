{
 "cells": [
  {
   "cell_type": "code",
   "execution_count": 1,
   "metadata": {},
   "outputs": [],
   "source": [
    "import matplotlib.pyplot as plt\n",
    "import numpy as np\n",
    "import matplotlib.ticker as ticker\n",
    "import math\n",
    "import random"
   ]
  },
  {
   "cell_type": "code",
   "execution_count": 2,
   "metadata": {},
   "outputs": [],
   "source": [
    "def phi(x, r):\n",
    "    return r * x * (1 - x)\n",
    "\n",
    "def get_window(r):\n",
    "    return (max(0.0, (r - 1) / (2 * r)), (r + 1) / (2 * r))"
   ]
  },
  {
   "cell_type": "code",
   "execution_count": 3,
   "metadata": {},
   "outputs": [],
   "source": [
    "def simple_iterations(epsilon, r):\n",
    "    (left_border, right_border) = get_window(r)\n",
    "    iterations = 0\n",
    "    \n",
    "    cur_x = random.uniform(left_border, right_border)\n",
    "    next_x = phi(cur_x, r) \n",
    "    \n",
    "    while (abs(cur_x - next_x) > epsilon):\n",
    "        cur_x = next_x\n",
    "        next_x = phi(cur_x, r)\n",
    "        iterations += 1\n",
    "        if (iterations > 1000):\n",
    "            return (-100, 1000)\n",
    "        \n",
    "    return (next_x, iterations)"
   ]
  },
  {
   "cell_type": "code",
   "execution_count": 7,
   "metadata": {},
   "outputs": [
    {
     "name": "stdout",
     "output_type": "stream",
     "text": [
      "[9999, 0]\n"
     ]
    }
   ],
   "source": [
    "roots = []\n",
    "roots.append(0)\n",
    "roots.append(0)\n",
    "\n",
    "for i in range(1, 10**4):\n",
    "    cur_r = random.uniform(0.01, 0.99)\n",
    "    (answer, iters) = simple_iterations(1e-8, cur_r)\n",
    "    x1 = 0.0\n",
    "    x2 = 1 - (1 / cur_r)\n",
    "    if (answer > -50):\n",
    "        if (abs(answer - x1) < abs(answer - x2) and abs(answer - x1) < 1e-6):\n",
    "            roots[0] += 1\n",
    "        elif (abs(answer - x2) < 1e-6):\n",
    "            roots[1] += 1\n",
    "print(roots)"
   ]
  },
  {
   "cell_type": "code",
   "execution_count": 13,
   "metadata": {},
   "outputs": [
    {
     "name": "stdout",
     "output_type": "stream",
     "text": [
      "[0, 9971]\n",
      "[2.98660928791283, 2.9852267444855283, 2.986563964634926, 2.9859407243837603, 2.984741052826788, 2.9862713522733433, 2.989473907035208, 2.9863877149182976, 2.986812265624107, 2.987624380557224, 2.9873591449788517, 2.986616312791573, 2.9886856683505902, 2.98597881329001, 2.9852818936087164, 2.9881142099200773, 2.9876351051581524, 2.985030173728821, 2.987792496945506, 2.988703314965284, 2.986133445191535, 2.988597097120576, 2.986904608491538, 2.986361174793017, 2.9879626733488767, 2.986182568223801, 2.989660945121712, 2.9888679846366877]\n"
     ]
    }
   ],
   "source": [
    "roots = []\n",
    "roots.append(0)\n",
    "roots.append(0)\n",
    "\n",
    "undefined_roots = []\n",
    "\n",
    "for i in range(1, 10**4):\n",
    "    cur_r = random.uniform(1.01, 2.99)\n",
    "    (answer, iters) = simple_iterations(1e-8, cur_r)\n",
    "    x1 = 0.0\n",
    "    x2 = 1 - (1 / cur_r)\n",
    "    if (answer > -50):\n",
    "        if (abs(answer - x1) < abs(answer - x2) and abs(answer - x1) < 1e-6):\n",
    "            roots[0] += 1\n",
    "        elif (abs(answer - x2) < 1e-6):\n",
    "            roots[1] += 1\n",
    "    else:\n",
    "        undefined_roots.append(cur_r)\n",
    "print(roots) \n",
    "print(undefined_roots)"
   ]
  },
  {
   "cell_type": "code",
   "execution_count": 12,
   "metadata": {},
   "outputs": [
    {
     "name": "stdout",
     "output_type": "stream",
     "text": [
      "9999\n"
     ]
    }
   ],
   "source": [
    "count = 0\n",
    "\n",
    "for i in range(1, 10**4):\n",
    "    cur_r = random.uniform(3.01, 10.0)\n",
    "    (answer, iters) = simple_iterations(1e-8, cur_r)\n",
    "    if (answer < -50):\n",
    "        count += 1\n",
    "print(count)"
   ]
  },
  {
   "cell_type": "markdown",
   "metadata": {},
   "source": [
    "x = r * x * (1 - x)\n",
    "phi(x) = r * x * (1 - x)\n",
    "phi'(x) = r - 2rx\n",
    "чтобы решение сходилось к корню, первое приближение должно лежать в окрестности корня, удовлетворяющей условию |phi'(x)| <= 1\n",
    "|phi'(x)| <= 1 => max(0.0, (r - 1) / (2 * r)) < x < (r + 1) / (2 * r)\n",
    "\n",
    "x0 = 0\n",
    "x1 = 1 - 1/r\n",
    "\n",
    "Рассмотрим phi'(x0) = r\n",
    "Чтобы в окрестности корня выполнялось |phi'(x)| < 1, должно быть |r| < 1 => r < 1\n",
    "Значит, при 0 < r < 1 сходимость к x0 = 0 возможна\n",
    "\n",
    "Рассмотрим phi'(x1) = 2 - r\n",
    "|phi'(x)| < 1 => |2 - r| < 1 => 1 < r < 3\n",
    "При 1 < r < 3 сходимость к x1 = 1 - 1/r возможна\n",
    "\n",
    "Заметим, что области сходимости к x0 (0; 1) и к x1 (1; 3) не пересекаются"
   ]
  }
 ],
 "metadata": {
  "kernelspec": {
   "display_name": "Python 3",
   "language": "python",
   "name": "python3"
  },
  "language_info": {
   "codemirror_mode": {
    "name": "ipython",
    "version": 3
   },
   "file_extension": ".py",
   "mimetype": "text/x-python",
   "name": "python",
   "nbconvert_exporter": "python",
   "pygments_lexer": "ipython3",
   "version": "3.7.0"
  }
 },
 "nbformat": 4,
 "nbformat_minor": 2
}
