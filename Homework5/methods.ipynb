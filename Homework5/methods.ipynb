{
 "cells": [
  {
   "cell_type": "code",
   "execution_count": 41,
   "metadata": {
    "ExecuteTime": {
     "end_time": "2020-01-25T20:53:15.290382Z",
     "start_time": "2020-01-25T20:53:15.286394Z"
    }
   },
   "outputs": [],
   "source": [
    "import numpy as np\n",
    "import math\n",
    "import matplotlib.pyplot as plt\n",
    "import imageio\n",
    "from tqdm.notebook import tnrange"
   ]
  },
  {
   "cell_type": "code",
   "execution_count": 42,
   "metadata": {
    "ExecuteTime": {
     "end_time": "2020-01-25T20:53:15.647397Z",
     "start_time": "2020-01-25T20:53:15.639412Z"
    }
   },
   "outputs": [],
   "source": [
    "def solve_linear(a, b, c, d):\n",
    "    nf = len(d)\n",
    "    ac, bc, cc, dc = map(np.array, (a, b, c, d))\n",
    "    for it in range(1, nf):\n",
    "        mc = ac[it - 1] / bc[it - 1]\n",
    "        bc[it] = bc[it] - mc * cc[it - 1] \n",
    "        dc[it] = dc[it] - mc * dc[it - 1]\n",
    "    xc = bc\n",
    "    xc[-1] = dc[-1] / bc[-1]\n",
    "\n",
    "    for il in range(nf - 2, -1, -1):\n",
    "        xc[il] = (dc[il] - cc[il] * xc[il + 1]) / bc[il]\n",
    "\n",
    "    return xc"
   ]
  },
  {
   "cell_type": "code",
   "execution_count": 43,
   "metadata": {
    "ExecuteTime": {
     "end_time": "2020-01-25T20:53:16.067678Z",
     "start_time": "2020-01-25T20:53:16.063681Z"
    }
   },
   "outputs": [],
   "source": [
    "def get_dt(dx, u, chi, coeff=0.9):\n",
    "    return coeff * (dx ** 2) / (u * dx + 2 * chi)"
   ]
  },
  {
   "cell_type": "code",
   "execution_count": 75,
   "metadata": {
    "ExecuteTime": {
     "end_time": "2020-01-25T21:34:31.757316Z",
     "start_time": "2020-01-25T21:34:31.753318Z"
    }
   },
   "outputs": [],
   "source": [
    "u = 0.\n",
    "chi = 8e-12\n",
    "dx = 4e-7\n",
    "dt = 0.01\n",
    "\n",
    "s = u * dt / dx\n",
    "r = chi * dt / (dx ** 2)"
   ]
  },
  {
   "cell_type": "code",
   "execution_count": 76,
   "metadata": {
    "ExecuteTime": {
     "end_time": "2020-01-25T21:34:33.538672Z",
     "start_time": "2020-01-25T21:34:33.534673Z"
    }
   },
   "outputs": [
    {
     "name": "stdout",
     "output_type": "stream",
     "text": [
      "0.5000000000000001\n"
     ]
    }
   ],
   "source": [
    "print(r)"
   ]
  },
  {
   "cell_type": "code",
   "execution_count": 77,
   "metadata": {
    "ExecuteTime": {
     "end_time": "2020-01-25T21:34:53.135346Z",
     "start_time": "2020-01-25T21:34:53.131348Z"
    }
   },
   "outputs": [],
   "source": [
    "teta = 1\n",
    "a = 0\n",
    "b = 1e-4"
   ]
  },
  {
   "cell_type": "code",
   "execution_count": 78,
   "metadata": {
    "ExecuteTime": {
     "end_time": "2020-01-25T21:34:55.892127Z",
     "start_time": "2020-01-25T21:34:55.889138Z"
    }
   },
   "outputs": [],
   "source": [
    "K = int((b - a) / dx) + 1"
   ]
  },
  {
   "cell_type": "code",
   "execution_count": 79,
   "metadata": {
    "ExecuteTime": {
     "end_time": "2020-01-25T21:34:56.373998Z",
     "start_time": "2020-01-25T21:34:56.371003Z"
    }
   },
   "outputs": [],
   "source": [
    "start = np.zeros(K, dtype=np.float64)\n",
    "for i in range(K // 2):\n",
    "    start[i] = 1."
   ]
  },
  {
   "cell_type": "code",
   "execution_count": 80,
   "metadata": {
    "ExecuteTime": {
     "end_time": "2020-01-25T21:35:01.241050Z",
     "start_time": "2020-01-25T21:35:01.237062Z"
    }
   },
   "outputs": [],
   "source": [
    "def left_border(t):\n",
    "    return 0\n",
    "    \n",
    "def right_border(t):\n",
    "    return 0"
   ]
  },
  {
   "cell_type": "code",
   "execution_count": 81,
   "metadata": {
    "ExecuteTime": {
     "end_time": "2020-01-25T21:35:01.715169Z",
     "start_time": "2020-01-25T21:35:01.710171Z"
    }
   },
   "outputs": [],
   "source": [
    "def solve(solver):\n",
    "    t_iterations = int(teta / dt) + 1\n",
    "\n",
    "    Ts = []\n",
    "    Ts.append(start)\n",
    "    \n",
    "    for cur_t_iter in tnrange(1, t_iterations + 1):\n",
    "        t = dt * cur_t_iter\n",
    "        cur = solver(t, Ts)\n",
    "        Ts.append(cur)\n",
    "    \n",
    "    return Ts"
   ]
  },
  {
   "cell_type": "code",
   "execution_count": 90,
   "metadata": {
    "ExecuteTime": {
     "end_time": "2020-01-25T21:39:37.311372Z",
     "start_time": "2020-01-25T21:39:37.305385Z"
    }
   },
   "outputs": [],
   "source": [
    "def evident_opposite(t, Ts):\n",
    "    cur = np.zeros(K, dtype=np.float64)\n",
    "\n",
    "    for i in range(K):\n",
    "        prev_t = Ts[-1][i - 1] if i > 0 else left_border(t)\n",
    "        next_t = Ts[-1][i + 1] if i < K - 1 else right_border(t)\n",
    "        cur_t = Ts[-1][i]\n",
    "\n",
    "        cur[i] = cur_t + r * (prev_t + next_t - 2 * cur_t)\n",
    "    \n",
    "    return cur"
   ]
  },
  {
   "cell_type": "code",
   "execution_count": 83,
   "metadata": {
    "ExecuteTime": {
     "end_time": "2020-01-25T21:35:02.423374Z",
     "start_time": "2020-01-25T21:35:02.417389Z"
    }
   },
   "outputs": [],
   "source": [
    "def evident_nonopposite(t, Ts):\n",
    "    cur = np.zeros(K, dtype=np.float64)\n",
    "\n",
    "    for i in range(K):\n",
    "        prev_t = Ts[-1][i - 1] if i > 0 else left_border(t)\n",
    "        next_t = Ts[-1][i + 1] if i < K - 1 else right_border(t)\n",
    "        cur_t = Ts[-1][i]\n",
    "\n",
    "        cur[i] = cur_t - s * (next_t - cur_t) + r * (prev_t + next_t - 2 * cur_t)\n",
    "    \n",
    "    return cur"
   ]
  },
  {
   "cell_type": "code",
   "execution_count": 84,
   "metadata": {
    "ExecuteTime": {
     "end_time": "2020-01-25T21:35:02.630321Z",
     "start_time": "2020-01-25T21:35:02.622326Z"
    }
   },
   "outputs": [],
   "source": [
    "def confusion(t, Ts):\n",
    "    assert math.isclose(chi, 0.)\n",
    "    \n",
    "    if len(Ts) == 1:\n",
    "        return evident_opposite(t, Ts)\n",
    "    \n",
    "    cur = np.zeros(K, dtype=np.float64)\n",
    "    \n",
    "    for i in range(K):\n",
    "        prev_t = Ts[-1][i - 1] if i > 0 else left_border(t)\n",
    "        next_t = Ts[-1][i + 1] if i < K - 1 else right_border(t)\n",
    "        cur_t = Ts[-2][i]\n",
    "\n",
    "        cur[i] = cur_t - s * (next_t - prev_t)\n",
    "    \n",
    "    return cur"
   ]
  },
  {
   "cell_type": "code",
   "execution_count": 85,
   "metadata": {
    "ExecuteTime": {
     "end_time": "2020-01-25T21:35:02.941841Z",
     "start_time": "2020-01-25T21:35:02.933855Z"
    }
   },
   "outputs": [],
   "source": [
    "def nonevident_opposite(t, Ts):\n",
    "    a = np.zeros(K - 1, dtype=np.float64)\n",
    "    b = np.zeros(K, dtype=np.float64)\n",
    "    c = np.zeros(K - 1, dtype=np.float64)\n",
    "    d = np.zeros(K, dtype=np.float64)\n",
    "    \n",
    "    for i in range(K):\n",
    "        b[i] = 1 + s + 2 * r\n",
    "        d[i] = Ts[-1][i]\n",
    "    d[0] += left_border(t) * (r + s)\n",
    "    d[K - 1] += right_border(t) * r\n",
    "    for i in range(K - 1):\n",
    "        a[i] = - r - s\n",
    "        c[i] = -r\n",
    "    return solve_linear(a, b, c, d)"
   ]
  },
  {
   "cell_type": "code",
   "execution_count": 86,
   "metadata": {
    "ExecuteTime": {
     "end_time": "2020-01-25T21:35:03.311345Z",
     "start_time": "2020-01-25T21:35:03.303338Z"
    }
   },
   "outputs": [],
   "source": [
    "def nonevident_nonopposite(t, Ts):\n",
    "    a = np.zeros(K - 1, dtype=np.float64)\n",
    "    b = np.zeros(K, dtype=np.float64)\n",
    "    c = np.zeros(K - 1, dtype=np.float64)\n",
    "    d = np.zeros(K, dtype=np.float64)\n",
    "    \n",
    "    for i in range(K):\n",
    "        b[i] = 1 - s + 2 * r\n",
    "        d[i] = Ts[-1][i]\n",
    "    d[0] += left_border(t) * r\n",
    "    d[K - 1] -= right_border(t) * (s - r)\n",
    "    \n",
    "    for i in range(K - 1):\n",
    "        a[i] = -r\n",
    "        c[i] = s - r\n",
    "    \n",
    "    return solve_linear(a, b, c, d)"
   ]
  },
  {
   "cell_type": "code",
   "execution_count": 91,
   "metadata": {
    "ExecuteTime": {
     "end_time": "2020-01-25T21:39:41.057610Z",
     "start_time": "2020-01-25T21:39:40.980645Z"
    }
   },
   "outputs": [
    {
     "data": {
      "application/vnd.jupyter.widget-view+json": {
       "model_id": "bf6bff9dc677485d979c870db9ca0d10",
       "version_major": 2,
       "version_minor": 0
      },
      "text/plain": [
       "HBox(children=(FloatProgress(value=0.0, max=101.0), HTML(value='')))"
      ]
     },
     "metadata": {},
     "output_type": "display_data"
    },
    {
     "name": "stdout",
     "output_type": "stream",
     "text": [
      "\n"
     ]
    }
   ],
   "source": [
    "Ts = solve(evident_opposite)"
   ]
  },
  {
   "cell_type": "code",
   "execution_count": 92,
   "metadata": {
    "ExecuteTime": {
     "end_time": "2020-01-25T21:39:41.500697Z",
     "start_time": "2020-01-25T21:39:41.492692Z"
    }
   },
   "outputs": [
    {
     "name": "stdout",
     "output_type": "stream",
     "text": [
      "[8.89278788e-02 1.75686785e-01 2.62445691e-01 3.43007532e-01\n",
      " 4.23569374e-01 4.94763559e-01 5.65957745e-01 6.25825582e-01\n",
      " 6.85693420e-01 7.33587690e-01 7.81481961e-01 8.17923253e-01\n",
      " 8.54364546e-01 8.80726332e-01 9.07088118e-01 9.25211846e-01\n",
      " 9.43335574e-01 9.55171478e-01 9.67007382e-01 9.74345642e-01\n",
      " 9.81683902e-01 9.86000526e-01 9.90317150e-01 9.92724498e-01\n",
      " 9.95131846e-01 9.96403652e-01 9.97675459e-01 9.98311362e-01\n",
      " 9.98947265e-01 9.99247874e-01 9.99548483e-01 9.99682683e-01\n",
      " 9.99816883e-01 9.99873389e-01 9.99929894e-01 9.99952302e-01\n",
      " 9.99974709e-01 9.99983064e-01 9.99991419e-01 9.99994344e-01\n",
      " 9.99997268e-01 9.99998227e-01 9.99999186e-01 9.99999480e-01\n",
      " 9.99999773e-01 9.99999857e-01 9.99999941e-01 9.99999964e-01\n",
      " 9.99999986e-01 9.99999991e-01 9.99999997e-01 9.99999998e-01\n",
      " 9.99999999e-01 1.00000000e+00 1.00000000e+00 1.00000000e+00\n",
      " 1.00000000e+00 1.00000000e+00 1.00000000e+00 1.00000000e+00\n",
      " 1.00000000e+00 1.00000000e+00 1.00000000e+00 1.00000000e+00\n",
      " 1.00000000e+00 1.00000000e+00 1.00000000e+00 1.00000000e+00\n",
      " 1.00000000e+00 1.00000000e+00 1.00000000e+00 1.00000000e+00\n",
      " 1.00000000e+00 9.99999998e-01 9.99999998e-01 9.99999993e-01\n",
      " 9.99999993e-01 9.99999971e-01 9.99999971e-01 9.99999887e-01\n",
      " 9.99999887e-01 9.99999593e-01 9.99999593e-01 9.99998634e-01\n",
      " 9.99998634e-01 9.99995710e-01 9.99995710e-01 9.99987354e-01\n",
      " 9.99987354e-01 9.99964947e-01 9.99964947e-01 9.99908442e-01\n",
      " 9.99908442e-01 9.99774241e-01 9.99774241e-01 9.99473633e-01\n",
      " 9.99473633e-01 9.98837729e-01 9.98837729e-01 9.97565923e-01\n",
      " 9.97565923e-01 9.95158575e-01 9.95158575e-01 9.90841951e-01\n",
      " 9.90841951e-01 9.83503691e-01 9.83503691e-01 9.71667787e-01\n",
      " 9.71667787e-01 9.53544059e-01 9.53544059e-01 9.27182273e-01\n",
      " 9.27182273e-01 8.90740980e-01 8.90740980e-01 8.42846710e-01\n",
      " 8.42846710e-01 7.82978872e-01 7.82978872e-01 7.11784687e-01\n",
      " 7.11784687e-01 6.31222846e-01 6.31222846e-01 5.44463939e-01\n",
      " 5.44463939e-01 4.55536061e-01 4.55536061e-01 3.68777154e-01\n",
      " 3.68777154e-01 2.88215313e-01 2.88215313e-01 2.17021128e-01\n",
      " 2.17021128e-01 1.57153290e-01 1.57153290e-01 1.09259020e-01\n",
      " 1.09259020e-01 7.28177272e-02 7.28177272e-02 4.64559411e-02\n",
      " 4.64559411e-02 2.83322132e-02 2.83322132e-02 1.64963092e-02\n",
      " 1.64963092e-02 9.15804876e-03 9.15804876e-03 4.84142496e-03\n",
      " 4.84142496e-03 2.43407707e-03 2.43407707e-03 1.16227064e-03\n",
      " 1.16227064e-03 5.26367429e-04 5.26367429e-04 2.25758636e-04\n",
      " 2.25758636e-04 9.15582821e-05 9.15582821e-05 3.50528699e-05\n",
      " 3.50528699e-05 1.26455513e-05 1.26455513e-05 4.29027993e-06\n",
      " 4.29027993e-06 1.36593496e-06 1.36593496e-06 4.07133331e-07\n",
      " 4.07133331e-07 1.13307025e-07 1.13307025e-07 2.93566521e-08\n",
      " 2.93566521e-08 7.05733420e-09 7.05733420e-09 1.56827135e-09\n",
      " 1.56827135e-09 3.20757059e-10 3.20757059e-10 6.00824318e-11\n",
      " 6.00824318e-11 1.02475766e-11 1.02475766e-11 1.58064526e-12\n",
      " 1.58064526e-12 2.18698909e-13 2.18698909e-13 2.68754792e-14\n",
      " 2.68754792e-14 2.89755049e-15 2.89755049e-15 2.69832269e-16\n",
      " 2.69832269e-16 2.12643295e-17 2.12643295e-17 1.37889436e-18\n",
      " 1.37889436e-18 7.06420515e-20 7.06420515e-20 2.68089237e-21\n",
      " 2.68089237e-21 6.70016296e-23 6.70016296e-23 8.27180613e-25\n",
      " 8.27180613e-25 0.00000000e+00 0.00000000e+00 0.00000000e+00\n",
      " 0.00000000e+00 0.00000000e+00 0.00000000e+00 0.00000000e+00\n",
      " 0.00000000e+00 0.00000000e+00 0.00000000e+00 0.00000000e+00\n",
      " 0.00000000e+00 0.00000000e+00 0.00000000e+00 0.00000000e+00\n",
      " 0.00000000e+00 0.00000000e+00 0.00000000e+00 0.00000000e+00\n",
      " 0.00000000e+00 0.00000000e+00 0.00000000e+00 0.00000000e+00\n",
      " 0.00000000e+00 0.00000000e+00 0.00000000e+00 0.00000000e+00\n",
      " 0.00000000e+00 0.00000000e+00 0.00000000e+00 0.00000000e+00\n",
      " 0.00000000e+00 0.00000000e+00 0.00000000e+00 0.00000000e+00\n",
      " 0.00000000e+00 0.00000000e+00 0.00000000e+00 0.00000000e+00\n",
      " 0.00000000e+00 0.00000000e+00 0.00000000e+00 0.00000000e+00\n",
      " 0.00000000e+00 0.00000000e+00 0.00000000e+00]\n"
     ]
    }
   ],
   "source": [
    "print(Ts[80])"
   ]
  },
  {
   "cell_type": "code",
   "execution_count": 93,
   "metadata": {
    "ExecuteTime": {
     "end_time": "2020-01-25T21:39:42.992090Z",
     "start_time": "2020-01-25T21:39:42.177529Z"
    }
   },
   "outputs": [
    {
     "name": "stderr",
     "output_type": "stream",
     "text": [
      "c:\\users\\hanve\\appdata\\local\\programs\\python\\python37-32\\lib\\site-packages\\ipykernel_launcher.py:25: TqdmDeprecationWarning: This function will be removed in tqdm==5.0.0\n",
      "Please use `tqdm.notebook.tqdm` instead of `tqdm.tqdm_notebook`\n"
     ]
    },
    {
     "data": {
      "application/vnd.jupyter.widget-view+json": {
       "model_id": "6a68b4169a444d8e997f7f9ff8987dc2",
       "version_major": 2,
       "version_minor": 0
      },
      "text/plain": [
       "HBox(children=(FloatProgress(value=0.0, max=102.0), HTML(value='')))"
      ]
     },
     "metadata": {},
     "output_type": "display_data"
    },
    {
     "name": "stdout",
     "output_type": "stream",
     "text": [
      "\n"
     ]
    }
   ],
   "source": [
    "xs = [\n",
    "    a + i * dx\n",
    "    for i in range(K)\n",
    "]\n",
    "\n",
    "y_min = np.min(np.array(Ts))\n",
    "y_max = np.max(np.array(Ts))\n",
    "\n",
    "def plot_img(cur_index):\n",
    "    fig, ax = plt.subplots(figsize=(10,5))\n",
    "    ax.plot(xs, Ts[cur_index])\n",
    "\n",
    "    ax.set_ylim(y_min - 0.1, y_max + 0.1)\n",
    "\n",
    "    fig.canvas.draw()\n",
    "    image = np.frombuffer(fig.canvas.tostring_rgb(), dtype='uint8')\n",
    "    image = image.reshape(fig.canvas.get_width_height()[::-1] + (3,))\n",
    "    \n",
    "    plt.close(fig)\n",
    "\n",
    "    return image\n",
    "\n",
    "frames = [\n",
    "    plot_img(i)\n",
    "    for i in tqdm_notebook(range(len(Ts)))\n",
    "    if i % 10 == 0\n",
    "]\n",
    "imageio.mimsave('./T.gif', frames, fps=24)"
   ]
  },
  {
   "cell_type": "code",
   "execution_count": null,
   "metadata": {},
   "outputs": [],
   "source": []
  }
 ],
 "metadata": {
  "kernelspec": {
   "display_name": "Python 3",
   "language": "python",
   "name": "python3"
  },
  "language_info": {
   "codemirror_mode": {
    "name": "ipython",
    "version": 3
   },
   "file_extension": ".py",
   "mimetype": "text/x-python",
   "name": "python",
   "nbconvert_exporter": "python",
   "pygments_lexer": "ipython3",
   "version": "3.7.2"
  }
 },
 "nbformat": 4,
 "nbformat_minor": 2
}
