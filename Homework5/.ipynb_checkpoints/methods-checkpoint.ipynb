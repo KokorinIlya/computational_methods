{
 "cells": [
  {
   "cell_type": "code",
   "execution_count": 1,
   "metadata": {},
   "outputs": [],
   "source": [
    "import numpy as np\n",
    "import math\n",
    "import matplotlib.pyplot as plt\n",
    "import imageio\n",
    "from tqdm import tqdm_notebook"
   ]
  },
  {
   "cell_type": "code",
   "execution_count": 2,
   "metadata": {},
   "outputs": [],
   "source": [
    "def solve_linear(a, b, c, d):\n",
    "    nf = len(d)\n",
    "    ac, bc, cc, dc = map(np.array, (a, b, c, d))\n",
    "    for it in range(1, nf):\n",
    "        mc = ac[it - 1] / bc[it - 1]\n",
    "        bc[it] = bc[it] - mc * cc[it - 1] \n",
    "        dc[it] = dc[it] - mc * dc[it - 1]\n",
    "    xc = bc\n",
    "    xc[-1] = dc[-1] / bc[-1]\n",
    "\n",
    "    for il in range(nf - 2, -1, -1):\n",
    "        xc[il] = (dc[il] - cc[il] * xc[il + 1]) / bc[il]\n",
    "\n",
    "    return xc"
   ]
  },
  {
   "cell_type": "code",
   "execution_count": 3,
   "metadata": {},
   "outputs": [],
   "source": [
    "def get_dt(dx, u, chi, coeff=0.9):\n",
    "    return coeff * (dx ** 2) / (u * dx + 2 * chi)"
   ]
  },
  {
   "cell_type": "code",
   "execution_count": 4,
   "metadata": {},
   "outputs": [],
   "source": [
    "u = 0.\n",
    "chi = 1 / 2\n",
    "dx = 0.1\n",
    "dt = 0.01\n",
    "\n",
    "s = u * dt / dx\n",
    "r = chi * dt / (dx ** 2)"
   ]
  },
  {
   "cell_type": "code",
   "execution_count": 5,
   "metadata": {},
   "outputs": [],
   "source": [
    "teta = 20\n",
    "a = 0\n",
    "b = 10"
   ]
  },
  {
   "cell_type": "code",
   "execution_count": 6,
   "metadata": {},
   "outputs": [],
   "source": [
    "K = int((b - a) / dx) + 1"
   ]
  },
  {
   "cell_type": "code",
   "execution_count": 7,
   "metadata": {},
   "outputs": [],
   "source": [
    "start = np.zeros(K, dtype=np.float64)\n",
    "for i in range(K // 2):\n",
    "    start[i] = 1."
   ]
  },
  {
   "cell_type": "code",
   "execution_count": 8,
   "metadata": {},
   "outputs": [],
   "source": [
    "def left_border(t):\n",
    "    return 0\n",
    "    \n",
    "def right_border(t):\n",
    "    return 0"
   ]
  },
  {
   "cell_type": "code",
   "execution_count": 9,
   "metadata": {},
   "outputs": [],
   "source": [
    "def solve(solver):\n",
    "    t_iterations = int(teta / dt) + 1\n",
    "\n",
    "    Ts = []\n",
    "    Ts.append(start)\n",
    "    \n",
    "    for cur_t_iter in tqdm_notebook(range(1, t_iterations + 1)):\n",
    "        t = dt * cur_t_iter\n",
    "        cur = solver(t, Ts)\n",
    "        Ts.append(cur)\n",
    "    \n",
    "    return Ts"
   ]
  },
  {
   "cell_type": "code",
   "execution_count": 10,
   "metadata": {},
   "outputs": [],
   "source": [
    "def evident_opposite(t, Ts):\n",
    "    cur = np.zeros(K, dtype=np.float64)\n",
    "\n",
    "    for i in range(K):\n",
    "        prev_t = Ts[-1][i - 1] if i > 0 else left_border(t)\n",
    "        next_t = Ts[-1][i + 1] if i < K - 1 else right_border(t)\n",
    "        cur_t = Ts[-1][i]\n",
    "\n",
    "        cur[i] = cur_t - s * (cur_t - prev_t) + r * (prev_t + next_t - 2 * cur_t)\n",
    "    \n",
    "    return cur"
   ]
  },
  {
   "cell_type": "code",
   "execution_count": 11,
   "metadata": {},
   "outputs": [],
   "source": [
    "def evident_nonopposite(t, Ts):\n",
    "    cur = np.zeros(K, dtype=np.float64)\n",
    "\n",
    "    for i in range(K):\n",
    "        prev_t = Ts[-1][i - 1] if i > 0 else left_border(t)\n",
    "        next_t = Ts[-1][i + 1] if i < K - 1 else right_border(t)\n",
    "        cur_t = Ts[-1][i]\n",
    "\n",
    "        cur[i] = cur_t - s * (next_t - cur_t) + r * (prev_t + next_t - 2 * cur_t)\n",
    "    \n",
    "    return cur"
   ]
  },
  {
   "cell_type": "code",
   "execution_count": 12,
   "metadata": {},
   "outputs": [],
   "source": [
    "def confusion(t, Ts):\n",
    "    assert math.isclose(chi, 0.)\n",
    "    \n",
    "    if len(Ts) == 1:\n",
    "        return evident_opposite(t, Ts)\n",
    "    \n",
    "    cur = np.zeros(K, dtype=np.float64)\n",
    "    \n",
    "    for i in range(K):\n",
    "        prev_t = Ts[-1][i - 1] if i > 0 else left_border(t)\n",
    "        next_t = Ts[-1][i + 1] if i < K - 1 else right_border(t)\n",
    "        cur_t = Ts[-2][i]\n",
    "\n",
    "        cur[i] = cur_t - s * (next_t - prev_t)\n",
    "    \n",
    "    return cur"
   ]
  },
  {
   "cell_type": "code",
   "execution_count": 13,
   "metadata": {},
   "outputs": [],
   "source": [
    "def nonevident_opposite(t, Ts):\n",
    "    a = np.zeros(K - 1, dtype=np.float64)\n",
    "    b = np.zeros(K, dtype=np.float64)\n",
    "    c = np.zeros(K - 1, dtype=np.float64)\n",
    "    d = np.zeros(K, dtype=np.float64)\n",
    "    \n",
    "    for i in range(K):\n",
    "        b[i] = 1 + s + 2 * r\n",
    "        d[i] = Ts[-1][i]\n",
    "    d[0] += left_border(t) * (r + s)\n",
    "    d[K - 1] += right_border(t) * r\n",
    "    for i in range(K - 1):\n",
    "        a[i] = - r - s\n",
    "        c[i] = -r\n",
    "    return solve_linear(a, b, c, d)"
   ]
  },
  {
   "cell_type": "code",
   "execution_count": 14,
   "metadata": {},
   "outputs": [],
   "source": [
    "def nonevident_nonopposite(t, Ts):\n",
    "    a = np.zeros(K - 1, dtype=np.float64)\n",
    "    b = np.zeros(K, dtype=np.float64)\n",
    "    c = np.zeros(K - 1, dtype=np.float64)\n",
    "    d = np.zeros(K, dtype=np.float64)\n",
    "    \n",
    "    for i in range(K):\n",
    "        b[i] = 1 - s + 2 * r\n",
    "        d[i] = Ts[-1][i]\n",
    "    d[0] += left_border(t) * r\n",
    "    d[K - 1] -= right_border(t) * (s - r)\n",
    "    \n",
    "    for i in range(K - 1):\n",
    "        a[i] = -r\n",
    "        c[i] = s - r\n",
    "    \n",
    "    return solve_linear(a, b, c, d)"
   ]
  },
  {
   "cell_type": "code",
   "execution_count": 15,
   "metadata": {},
   "outputs": [
    {
     "data": {
      "application/vnd.jupyter.widget-view+json": {
       "model_id": "f8a70a19b8e043b8b2bd2710bd985e10",
       "version_major": 2,
       "version_minor": 0
      },
      "text/plain": [
       "HBox(children=(IntProgress(value=0, max=2001), HTML(value='')))"
      ]
     },
     "metadata": {},
     "output_type": "display_data"
    },
    {
     "name": "stdout",
     "output_type": "stream",
     "text": [
      "\n"
     ]
    }
   ],
   "source": [
    "Ts = solve(evident_nonopposite)"
   ]
  },
  {
   "cell_type": "code",
   "execution_count": 16,
   "metadata": {},
   "outputs": [
    {
     "data": {
      "application/vnd.jupyter.widget-view+json": {
       "model_id": "669be4b984f149398fdd8974db01061e",
       "version_major": 2,
       "version_minor": 0
      },
      "text/plain": [
       "HBox(children=(IntProgress(value=0, max=2002), HTML(value='')))"
      ]
     },
     "metadata": {},
     "output_type": "display_data"
    },
    {
     "name": "stdout",
     "output_type": "stream",
     "text": [
      "\n"
     ]
    }
   ],
   "source": [
    "xs = [\n",
    "    a + i * dx\n",
    "    for i in range(K)\n",
    "]\n",
    "\n",
    "y_min = np.min(np.array(Ts))\n",
    "y_max = np.max(np.array(Ts))\n",
    "\n",
    "def plot_img(cur_index):\n",
    "    fig, ax = plt.subplots(figsize=(10,5))\n",
    "    ax.plot(xs, Ts[cur_index])\n",
    "\n",
    "    ax.set_ylim(y_min - 0.1, y_max + 0.1)\n",
    "\n",
    "    fig.canvas.draw()\n",
    "    image = np.frombuffer(fig.canvas.tostring_rgb(), dtype='uint8')\n",
    "    image = image.reshape(fig.canvas.get_width_height()[::-1] + (3,))\n",
    "    \n",
    "    plt.close(fig)\n",
    "\n",
    "    return image\n",
    "\n",
    "frames = [\n",
    "    plot_img(i)\n",
    "    for i in tqdm_notebook(range(len(Ts)))\n",
    "    if i % 10 == 0\n",
    "]\n",
    "imageio.mimsave('./T.gif', frames, fps=24)"
   ]
  },
  {
   "cell_type": "code",
   "execution_count": null,
   "metadata": {},
   "outputs": [],
   "source": []
  }
 ],
 "metadata": {
  "kernelspec": {
   "display_name": "Python 3",
   "language": "python",
   "name": "python3"
  },
  "language_info": {
   "codemirror_mode": {
    "name": "ipython",
    "version": 3
   },
   "file_extension": ".py",
   "mimetype": "text/x-python",
   "name": "python",
   "nbconvert_exporter": "python",
   "pygments_lexer": "ipython3",
   "version": "3.7.2"
  }
 },
 "nbformat": 4,
 "nbformat_minor": 2
}
