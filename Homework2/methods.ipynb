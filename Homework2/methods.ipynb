{
  "cells": [
    {
      "cell_type": "code",
      "execution_count": 4,
      "metadata": {
        "pycharm": {
          "is_executing": false
        }
      },
      "outputs": [],
      "source": "import math\nimport numpy as np"
    },
    {
      "cell_type": "markdown",
      "metadata": {
        "pycharm": {}
      },
      "source": "# Method interfaces"
    },
    {
      "cell_type": "code",
      "execution_count": 5,
      "metadata": {
        "pycharm": {
          "is_executing": false
        }
      },
      "outputs": [],
      "source": "class IterativeMethod:\n    def compute(self, A: [[float]], b: [float], tolerance: float, max_iteration_count: int) -\u003e ([float], int, bool):\n        raise AssertionError(\"Not implemented yet\")"
    },
    {
      "cell_type": "code",
      "execution_count": 6,
      "outputs": [],
      "source": "class ForwardMethod:\n    def compute(self, A: [[float]], b: [float]) -\u003e [float]:\n        raise AssertionError(\"Not implemented yet\")",
      "metadata": {
        "pycharm": {
          "metadata": false,
          "name": "#%%\n",
          "is_executing": false
        }
      }
    },
    {
      "cell_type": "code",
      "execution_count": 36,
      "outputs": [
        {
          "data": {
            "text/plain": "\u003cFigure size 432x288 with 1 Axes\u003e",
            "image/png": "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\u003d\n"
          },
          "metadata": {
            "needs_background": "light"
          },
          "output_type": "display_data"
        }
      ],
      "source": "import time\nimport matplotlib.pyplot as plt\n\nclass IterativeMethodResult:\n    def __init__(self, method: IterativeMethod, cond: float, x: [float], iterations: int , ok: bool, ex_time: int):\n        self.cond \u003d math.log10(cond)\n        self.method \u003d method\n        self.x \u003d x\n        self.iterations \u003d iterations\n        self.ok \u003d ok\n        self.ex_time \u003d ex_time \n    def __str__(self):\n        return \"cond:{}; time:{}; iterations:{}\".format(self.cond, self.ex_time, self.iterations)\n    \n\nclass MethodsTest:\n    @staticmethod\n    def _rand_matrix(size: int) -\u003e [[float]]:\n        A \u003d np.array(np.random.rand(size, size), dtype\u003dnp.float64)\n        A \u003d np.tril(A) + np.tril(A, -1).T\n        return A.T * A\n    \n    @staticmethod\n    def _triangle_matrix(size: int) -\u003e [[float]]:\n        A \u003d np.array(np.random.rand(size, size), dtype\u003dnp.float64)\n        return np.tril(A).T\n    \n    @staticmethod\n    def _diag_matrix(size: int) -\u003e [[float]]:\n        A \u003d np.array(np.random.rand(size, size), dtype\u003dnp.float64)\n        return np.tril(A).T\n    \n    @staticmethod\n    def _hilbert_matrix(size: int) -\u003e [[float]]:\n        ans \u003d np.zeros((size, size), dtype\u003dnp.float64)\n        for i in range(size):\n            for j in range(size):\n                ans[i, j] \u003d 1.0 / (i + j + 1)\n        return ans\n    \n    @staticmethod\n    def _n_rand_matrix(n: int, size: int) -\u003e [[[float]]]:\n        a \u003d []\n        for i in range(n):\n            a.append(MethodsTest._rand_matrix(size))\n        a.sort(key\u003dlambda x: np.linalg.cond(x))\n        return a\n    \n    @staticmethod\n    def _n_rand_b(n: int, size: int) -\u003e [[float]]:\n        b \u003d []\n        for i in range(n):\n            b.append(np.random.rand(size))\n        return b\n    \n    @staticmethod\n    def test_iterative_method(method: IterativeMethod, size: int) -\u003e [IterativeMethodResult]: \n        max_iteration_count \u003d 100_000\n        tolerance \u003d 1e-7\n        matrix_count \u003d 1000\n        results \u003d []\n        matrix_array \u003d MethodsTest._n_rand_matrix(matrix_count, size)\n        b_array \u003d MethodsTest._n_rand_b(matrix_count, size)\n        for i in range(len(matrix_array)):\n            start \u003d time.time()\n            x, iterations, ok \u003d method.compute(matrix_array[i], b_array[i], tolerance, max_iteration_count)\n            end \u003d time.time() - start\n            results.append(IterativeMethodResult(method, np.linalg.cond(matrix_array[i]), x, iterations, ok, end))\n        return results\n    \n    @staticmethod\n    def draw_iterative_method_time(results: [IterativeMethodResult]):\n        results \u003d list(filter(lambda x: x.ok, results))\n        times \u003d list(map(lambda x: x.iterations,results))\n        cond \u003d list(map(lambda x: x.cond, results))\n        plt.scatter(cond, times, s \u003d 1)\n\n# method_data \u003d MethodsTest.test_iterative_method(GradientMethod(), 25)\n# print(\u0027\\n\u0027.join(list(map(str, temp))))\n# MethodsTest.draw_iterative_method_time(temp)\n",
      "metadata": {
        "pycharm": {
          "metadata": false,
          "name": "#%%\n",
          "is_executing": false
        }
      }
    },
    {
      "cell_type": "markdown",
      "source": "# Methods",
      "metadata": {
        "pycharm": {
          "metadata": false,
          "name": "#%% md\n"
        }
      }
    },
    {
      "cell_type": "code",
      "execution_count": 32,
      "outputs": [
        {
          "name": "stdout",
          "text": [
            "[1.1020202  0.99090909 1.01111111]\n"
          ],
          "output_type": "stream"
        }
      ],
      "source": "class GaussMethod(ForwardMethod):\n    @staticmethod\n    def _find_max_row(A: [[float]], ind: int) -\u003e int:\n        cur_max \u003d A[ind, ind]\n        cur_ind \u003d ind\n        for i in range(ind, len(A)):\n            cur_val \u003d A[i, ind]\n            if cur_max \u003c cur_val:\n                cur_max \u003d cur_val\n                cur_ind \u003d i\n        return cur_ind\n    \n    @staticmethod\n    def normalize_line(A: [[float]], ind: int):\n        a \u003d A[ind, ind]\n        for j in range(ind, len(A)):\n            A[ind, j] \u003d A[ind, j] / a\n            \n    @staticmethod\n    def go_down(A: [[float]], b: [float], ind: int):\n        for i in range(ind + 1, len(A)):\n            main_val \u003d A[i, ind]\n            b[i] -\u003d main_val * b[ind]\n            for j in range(ind, len(A)):\n                A[i, j] -\u003d main_val * A[ind, j]\n            \n    \n    def compute(self, A: [[float]], b: [float]) -\u003e [float]:\n        # make matrix diagonal\n        for i in range(len(A)):\n            # find row with max value in \u0027i\u0027 column -- main row\n            j \u003d GaussMethod._find_max_row(A, i)\n            # swap main row and current\n            A[[i, j]] \u003d A[[j, i]]\n            \n            b[i] /\u003d A[i, i]\n            GaussMethod.normalize_line(A, i)\n            GaussMethod.go_down(A, b, i)\n        # get solution\n        ans \u003d np.zeros(len(A))\n        for i in reversed(range(len(A))):\n            ans[i] \u003d b[i]\n            for j in reversed(range(i + 1, len(A))):\n                ans[i] -\u003d A[i][j] * ans[j]\n        return ans",
      "metadata": {
        "pycharm": {
          "metadata": false,
          "name": "#%%\n",
          "is_executing": false
        }
      }
    },
    {
      "cell_type": "code",
      "execution_count": 20,
      "outputs": [],
      "source": "class GradientMethod(IterativeMethod):\n    def compute (self, A, b, tol \u003d 1e-7, max_iter \u003d 100000):\n        iters \u003d 0\n        (n, m) \u003d np.shape(A)\n        x \u003d np.random.rand(m)\n        r \u003d b - np.dot(A, x)\n        z \u003d r\n        while iters \u003c max_iter and np.linalg.norm(np.dot(A, x) - b) \u003e tol:\n            prodAz \u003d np.dot(A, z)\n            rNormSquared \u003d np.linalg.norm(r) ** 2 # just for performance\n            \n            a \u003d rNormSquared / np.dot(prodAz, z)\n            x +\u003d a * z\n            r -\u003d a * prodAz\n            beta \u003d np.linalg.norm(r) ** 2 / rNormSquared\n            z \u003d r + beta * z\n            iters +\u003d 1\n        return tuple([x, iters, iters !\u003d max_iter])",
      "metadata": {
        "pycharm": {
          "metadata": false,
          "name": "#%%\n",
          "is_executing": false
        }
      }
    },
    {
      "cell_type": "code",
      "execution_count": 2,
      "metadata": {
        "pycharm": {}
      },
      "outputs": [],
      "source": "# same lenght\ndef deltaVectorsNorm(x, y):\n    res \u003d 0.0\n    for i in range (0, len(x)):\n        res +\u003d (y[i] - x[i]) ** 2\n    return math.sqrt(res)"
    },
    {
      "cell_type": "code",
      "execution_count": 3,
      "metadata": {
        "pycharm": {}
      },
      "outputs": [],
      "source": [
        "# Ax \u003d b\n",
        "# epsiolon - accuracy parameter\n",
        "# method -\n",
        "#   0 - Jacobi\n",
        "#   1 - Seidel (determinant(B) should be less 1)\n",
        "#   2 - Seidel with relaxation\n",
        "# wRelax - relaxation parameter\n",
        "def templateJakobiAndSeidel(A, b, epsilon, method, wRelax):\n",
        "    iterations \u003d 0\n",
        "    maxIterations \u003d 100\n",
        "    B \u003d []\n",
        "    d \u003d []\n",
        "    xn \u003d []\n",
        "    x \u003d []\n",
        "    \n",
        "    for i in range (0, len(A)):\n",
        "        d.append(b[i] / A[i][i])\n",
        "        xn.append(d[i])\n",
        "        x.append(d[i] + 1000)\n",
        "        B.append([])\n",
        "        for j in range (0, len(A[i])):\n",
        "            B[i].append(-A[i][j] / A[i][i])\n",
        "        B[i][i] \u003d 0.0\n",
        "    \n",
        "    # detB \u003d determinant(B)\n",
        "    # eps \u003d (1 - detB) * epsilon / detB\n",
        "    eps \u003d epsilon\n",
        "    \n",
        "    while ((deltaVectorsNorm(x, xn) \u003e eps) and iterations \u003c maxIterations):\n",
        "        x \u003d xn.copy()\n",
        "        for i in range (0, len(B)):\n",
        "            xn[i] \u003d 0.0\n",
        "            for j in range (0, len(B[i])):\n",
        "                xn[i] +\u003d B[i][j] * (xn[j] if (j \u003c i and method \u003e 0) else x[j])\n",
        "            xn[i] +\u003d d[i]\n",
        "            if (method \u003d\u003d 2):\n",
        "                xn[i] \u003d wRelax * xn[i] + (1 - wRelax) * x[i]\n",
        "        iterations \u003d iterations + 1\n",
        "            \n",
        "    \n",
        "    return (xn, iterations)"
      ]
    },
    {
      "cell_type": "code",
      "execution_count": 4,
      "metadata": {
        "pycharm": {}
      },
      "outputs": [],
      "source": [
        "def jakobi(A, b, epsilon):\n",
        "    return templateJakobiAndSeidel(A, b, epsilon, 0, 0) "
      ]
    },
    {
      "cell_type": "code",
      "execution_count": 5,
      "metadata": {
        "pycharm": {}
      },
      "outputs": [],
      "source": [
        "def seidel(A, b, epsilon):\n",
        "    return templateJakobiAndSeidel(A, b, epsilon, 1, 0) "
      ]
    },
    {
      "cell_type": "code",
      "execution_count": 6,
      "metadata": {
        "pycharm": {}
      },
      "outputs": [],
      "source": "def seidelRelax(A, b, epsilon, wRelax):\n    return templateJakobiAndSeidel(A, b, epsilon, 2, wRelax) "
    },
    {
      "cell_type": "code",
      "execution_count": null,
      "outputs": [],
      "source": "",
      "metadata": {
        "pycharm": {
          "metadata": false,
          "name": "#%%\n"
        }
      }
    },
    {
      "cell_type": "code",
      "execution_count": 7,
      "metadata": {
        "pycharm": {}
      },
      "outputs": [
        {
          "name": "stdout",
          "output_type": "stream",
          "text": [
            "Jakobi\n",
            "[1.1020202000000001, 0.9909091, 1.0111111]\n",
            "6\n"
          ]
        }
      ],
      "source": "def test_jakobi():\n    A \u003d [[10,1,-1],[1,10,-1],[-1,1,10]]\n    b \u003d [11,10,10]\n    print (\"Jakobi\")\n    (ans, it) \u003d jakobi(A, b, 0.000001)\n    print (ans)\n    print (it)\n\ntest_jakobi()"
    },
    {
      "cell_type": "code",
      "execution_count": 8,
      "metadata": {
        "pycharm": {}
      },
      "outputs": [
        {
          "name": "stdout",
          "output_type": "stream",
          "text": [
            "Seidel\n",
            "[1.1020201985951001, 0.99090909050459, 1.011111110809051]\n",
            "5\n"
          ]
        }
      ],
      "source": [
        "def test_seidel():\n",
        "    A \u003d [[10,1,-1],[1,10,-1],[-1,1,10]]\n",
        "    b \u003d [11,10,10]\n",
        "    print (\"Seidel\")\n",
        "    (ans, it) \u003d seidel(A, b, 0.000001)\n",
        "    print (ans)\n",
        "    print (it)\n",
        "\n",
        "test_seidel()"
      ]
    },
    {
      "cell_type": "code",
      "execution_count": 9,
      "metadata": {
        "pycharm": {}
      },
      "outputs": [
        {
          "name": "stdout",
          "output_type": "stream",
          "text": [
            "Seidel with relaxation\n",
            "[1.1020120682451873, 0.9909105605032578, 1.0111016830698611]\n",
            "94\n"
          ]
        }
      ],
      "source": [
        "def test_seidel_relax():\n",
        "    A \u003d [[10,1,-1],[1,10,-1],[-1,1,10]]\n",
        "    b \u003d [11,10,10]\n",
        "    print (\"Seidel with relaxation\")\n",
        "    (ans, it) \u003d seidelRelax(A, b, 0.000001, 0.08)\n",
        "    print (ans)\n",
        "    print (it)\n",
        "\n",
        "test_seidel_relax()"
      ]
    }
  ],
  "metadata": {
    "kernelspec": {
      "display_name": "Python 3",
      "language": "python",
      "name": "python3"
    },
    "language_info": {
      "codemirror_mode": {
        "name": "ipython",
        "version": 3
      },
      "file_extension": ".py",
      "mimetype": "text/x-python",
      "name": "python",
      "nbconvert_exporter": "python",
      "pygments_lexer": "ipython3",
      "version": "3.7.1"
    }
  },
  "nbformat": 4,
  "nbformat_minor": 2
}