{
  "cells": [
    {
      "cell_type": "code",
      "execution_count": 4,
      "metadata": {
        "pycharm": {
          "is_executing": false
        }
      },
      "outputs": [],
      "source": "import math\nimport numpy as np"
    },
    {
      "cell_type": "markdown",
      "metadata": {
        "pycharm": {}
      },
      "source": "# Method interfaces"
    },
    {
      "cell_type": "code",
      "execution_count": 23,
      "metadata": {
        "pycharm": {}
      },
      "outputs": [],
      "source": "class IterativeMethod:\n    def compute(self, A: [[float]], b: [float], tolerance: float, max_iteration_count: int) -\u003e ([float], int, bool):\n        raise AssertionError(\"Not implemented yet\")"
    },
    {
      "cell_type": "code",
      "execution_count": 2,
      "outputs": [],
      "source": "class ForwardMethod:\n    def compute(self, A: [[float]], b: [float]) -\u003e [float]:\n        raise AssertionError(\"Not implemented yet\")",
      "metadata": {
        "pycharm": {
          "metadata": false,
          "name": "#%%\n",
          "is_executing": false
        }
      }
    },
    {
      "cell_type": "markdown",
      "source": "# Methods",
      "metadata": {
        "pycharm": {
          "metadata": false,
          "name": "#%% md\n"
        }
      }
    },
    {
      "cell_type": "code",
      "execution_count": 32,
      "outputs": [
        {
          "name": "stdout",
          "text": [
            "[1.1020202  0.99090909 1.01111111]\n"
          ],
          "output_type": "stream"
        }
      ],
      "source": "class GaussMethod(ForwardMethod):\n    @staticmethod\n    def _find_max_row(A: [[float]], ind: int) -\u003e int:\n        cur_max \u003d A[ind, ind]\n        cur_ind \u003d ind\n        for i in range(ind, len(A)):\n            cur_val \u003d A[i, ind]\n            if cur_max \u003c cur_val:\n                cur_max \u003d cur_val\n                cur_ind \u003d i\n        return cur_ind\n    \n    @staticmethod\n    def normalize_line(A: [[float]], ind: int):\n        a \u003d A[ind, ind]\n        for j in range(ind, len(A)):\n            A[ind, j] \u003d A[ind, j] / a\n            \n    @staticmethod\n    def go_down(A: [[float]], b: [float], ind: int):\n        for i in range(ind + 1, len(A)):\n            main_val \u003d A[i, ind]\n            b[i] -\u003d main_val * b[ind]\n            for j in range(ind, len(A)):\n                A[i, j] -\u003d main_val * A[ind, j]\n            \n    \n    def compute(self, A: [[float]], b: [float]) -\u003e [float]:\n        # make matrix diagonal\n        for i in range(len(A)):\n            # find row with max value in \u0027i\u0027 column -- main row\n            j \u003d GaussMethod._find_max_row(A, i)\n            # swap main row and current\n            A[[i, j]] \u003d A[[j, i]]\n            \n            b[i] /\u003d A[i, i]\n            GaussMethod.normalize_line(A, i)\n            GaussMethod.go_down(A, b, i)\n        # get solution\n        ans \u003d np.zeros(len(A))\n        for i in reversed(range(len(A))):\n            ans[i] \u003d b[i]\n            for j in reversed(range(i + 1, len(A))):\n                ans[i] -\u003d A[i][j] * ans[j]\n        print(ans)\n        \n\ndef test():\n    A \u003d np.array([[10,1,-1],[1,10,-1],[-1,1,10]], dtype\u003dnp.float64)\n    b \u003d np.array([11,10,10], dtype\u003dnp.float64)\n    gauss \u003d GaussMethod()\n    gauss.compute(A, b)\n    \ntest()    ",
      "metadata": {
        "pycharm": {
          "metadata": false,
          "name": "#%%\n",
          "is_executing": false
        }
      }
    },
    {
      "cell_type": "code",
      "execution_count": 2,
      "metadata": {
        "pycharm": {}
      },
      "outputs": [],
      "source": "# same lenght\ndef deltaVectorsNorm(x, y):\n    res \u003d 0.0\n    for i in range (0, len(x)):\n        res +\u003d (y[i] - x[i]) ** 2\n    return math.sqrt(res)"
    },
    {
      "cell_type": "code",
      "execution_count": 3,
      "metadata": {
        "pycharm": {}
      },
      "outputs": [],
      "source": [
        "# Ax \u003d b\n",
        "# epsiolon - accuracy parameter\n",
        "# method -\n",
        "#   0 - Jacobi\n",
        "#   1 - Seidel (determinant(B) should be less 1)\n",
        "#   2 - Seidel with relaxation\n",
        "# wRelax - relaxation parameter\n",
        "def templateJakobiAndSeidel(A, b, epsilon, method, wRelax):\n",
        "    iterations \u003d 0\n",
        "    maxIterations \u003d 100\n",
        "    B \u003d []\n",
        "    d \u003d []\n",
        "    xn \u003d []\n",
        "    x \u003d []\n",
        "    \n",
        "    for i in range (0, len(A)):\n",
        "        d.append(b[i] / A[i][i])\n",
        "        xn.append(d[i])\n",
        "        x.append(d[i] + 1000)\n",
        "        B.append([])\n",
        "        for j in range (0, len(A[i])):\n",
        "            B[i].append(-A[i][j] / A[i][i])\n",
        "        B[i][i] \u003d 0.0\n",
        "    \n",
        "    # detB \u003d determinant(B)\n",
        "    # eps \u003d (1 - detB) * epsilon / detB\n",
        "    eps \u003d epsilon\n",
        "    \n",
        "    while ((deltaVectorsNorm(x, xn) \u003e eps) and iterations \u003c maxIterations):\n",
        "        x \u003d xn.copy()\n",
        "        for i in range (0, len(B)):\n",
        "            xn[i] \u003d 0.0\n",
        "            for j in range (0, len(B[i])):\n",
        "                xn[i] +\u003d B[i][j] * (xn[j] if (j \u003c i and method \u003e 0) else x[j])\n",
        "            xn[i] +\u003d d[i]\n",
        "            if (method \u003d\u003d 2):\n",
        "                xn[i] \u003d wRelax * xn[i] + (1 - wRelax) * x[i]\n",
        "        iterations \u003d iterations + 1\n",
        "            \n",
        "    \n",
        "    return (xn, iterations)"
      ]
    },
    {
      "cell_type": "code",
      "execution_count": 4,
      "metadata": {
        "pycharm": {}
      },
      "outputs": [],
      "source": [
        "def jakobi(A, b, epsilon):\n",
        "    return templateJakobiAndSeidel(A, b, epsilon, 0, 0) "
      ]
    },
    {
      "cell_type": "code",
      "execution_count": 5,
      "metadata": {
        "pycharm": {}
      },
      "outputs": [],
      "source": [
        "def seidel(A, b, epsilon):\n",
        "    return templateJakobiAndSeidel(A, b, epsilon, 1, 0) "
      ]
    },
    {
      "cell_type": "code",
      "execution_count": 6,
      "metadata": {
        "pycharm": {}
      },
      "outputs": [],
      "source": [
        "def seidelRelax(A, b, epsilon, wRelax):\n",
        "    return templateJakobiAndSeidel(A, b, epsilon, 2, wRelax) "
      ]
    },
    {
      "cell_type": "code",
      "execution_count": 7,
      "metadata": {
        "pycharm": {}
      },
      "outputs": [
        {
          "name": "stdout",
          "output_type": "stream",
          "text": [
            "Jakobi\n",
            "[1.1020202000000001, 0.9909091, 1.0111111]\n",
            "6\n"
          ]
        }
      ],
      "source": [
        "def test_jakobi():\n",
        "    A \u003d [[10,1,-1],[1,10,-1],[-1,1,10]]\n",
        "    b \u003d [11,10,10]\n",
        "    print (\"Jakobi\")\n",
        "    (ans, it) \u003d jakobi(A, b, 0.000001)\n",
        "    print (ans)\n",
        "    print (it)\n",
        "\n",
        "test_jakobi()"
      ]
    },
    {
      "cell_type": "code",
      "execution_count": 8,
      "metadata": {
        "pycharm": {}
      },
      "outputs": [
        {
          "name": "stdout",
          "output_type": "stream",
          "text": [
            "Seidel\n",
            "[1.1020201985951001, 0.99090909050459, 1.011111110809051]\n",
            "5\n"
          ]
        }
      ],
      "source": [
        "def test_seidel():\n",
        "    A \u003d [[10,1,-1],[1,10,-1],[-1,1,10]]\n",
        "    b \u003d [11,10,10]\n",
        "    print (\"Seidel\")\n",
        "    (ans, it) \u003d seidel(A, b, 0.000001)\n",
        "    print (ans)\n",
        "    print (it)\n",
        "\n",
        "test_seidel()"
      ]
    },
    {
      "cell_type": "code",
      "execution_count": 9,
      "metadata": {
        "pycharm": {}
      },
      "outputs": [
        {
          "name": "stdout",
          "output_type": "stream",
          "text": [
            "Seidel with relaxation\n",
            "[1.1020120682451873, 0.9909105605032578, 1.0111016830698611]\n",
            "94\n"
          ]
        }
      ],
      "source": [
        "def test_seidel_relax():\n",
        "    A \u003d [[10,1,-1],[1,10,-1],[-1,1,10]]\n",
        "    b \u003d [11,10,10]\n",
        "    print (\"Seidel with relaxation\")\n",
        "    (ans, it) \u003d seidelRelax(A, b, 0.000001, 0.08)\n",
        "    print (ans)\n",
        "    print (it)\n",
        "\n",
        "test_seidel_relax()"
      ]
    }
  ],
  "metadata": {
    "kernelspec": {
      "display_name": "Python 3",
      "language": "python",
      "name": "python3"
    },
    "language_info": {
      "codemirror_mode": {
        "name": "ipython",
        "version": 3
      },
      "file_extension": ".py",
      "mimetype": "text/x-python",
      "name": "python",
      "nbconvert_exporter": "python",
      "pygments_lexer": "ipython3",
      "version": "3.7.1"
    }
  },
  "nbformat": 4,
  "nbformat_minor": 2
}