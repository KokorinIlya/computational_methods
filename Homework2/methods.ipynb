{
 "cells": [
  {
   "cell_type": "code",
   "execution_count": 1,
   "metadata": {},
   "outputs": [],
   "source": [
    "import math"
   ]
  },
  {
   "cell_type": "code",
   "execution_count": 2,
   "metadata": {},
   "outputs": [],
   "source": [
    "# same lenght\n",
    "def deltaVectorsNorm(x, y):\n",
    "    res = 0.0\n",
    "    for i in range (0, len(x)):\n",
    "        res += (y[i] - x[i]) ** 2\n",
    "    return math.sqrt(res)"
   ]
  },
  {
   "cell_type": "code",
   "execution_count": 3,
   "metadata": {},
   "outputs": [],
   "source": [
    "# Ax = b\n",
    "# epsiolon - accuracy parameter\n",
    "# method -\n",
    "#   0 - Jacobi\n",
    "#   1 - Seidel (determinant(B) should be less 1)\n",
    "#   2 - Seidel with relaxation\n",
    "# wRelax - relaxation parameter\n",
    "def templateJakobiAndSeidel(A, b, epsilon, method, wRelax):\n",
    "    iterations = 0\n",
    "    maxIterations = 100\n",
    "    B = []\n",
    "    d = []\n",
    "    xn = []\n",
    "    x = []\n",
    "    \n",
    "    for i in range (0, len(A)):\n",
    "        d.append(b[i] / A[i][i])\n",
    "        xn.append(d[i])\n",
    "        x.append(d[i] + 1000)\n",
    "        B.append([])\n",
    "        for j in range (0, len(A[i])):\n",
    "            B[i].append(-A[i][j] / A[i][i])\n",
    "        B[i][i] = 0.0\n",
    "    \n",
    "    # detB = determinant(B)\n",
    "    # eps = (1 - detB) * epsilon / detB\n",
    "    eps = epsilon\n",
    "    \n",
    "    while ((deltaVectorsNorm(x, xn) > eps) and iterations < maxIterations):\n",
    "        x = xn.copy()\n",
    "        for i in range (0, len(B)):\n",
    "            xn[i] = 0.0\n",
    "            for j in range (0, len(B[i])):\n",
    "                xn[i] += B[i][j] * (xn[j] if (j < i and method > 0) else x[j])\n",
    "            xn[i] += d[i]\n",
    "            if (method == 2):\n",
    "                xn[i] = wRelax * xn[i] + (1 - wRelax) * x[i]\n",
    "        iterations = iterations + 1\n",
    "            \n",
    "    \n",
    "    return (xn, iterations)"
   ]
  },
  {
   "cell_type": "code",
   "execution_count": 4,
   "metadata": {},
   "outputs": [],
   "source": [
    "def jakobi(A, b, epsilon):\n",
    "    return templateJakobiAndSeidel(A, b, epsilon, 0, 0) "
   ]
  },
  {
   "cell_type": "code",
   "execution_count": 5,
   "metadata": {},
   "outputs": [],
   "source": [
    "def seidel(A, b, epsilon):\n",
    "    return templateJakobiAndSeidel(A, b, epsilon, 1, 0) "
   ]
  },
  {
   "cell_type": "code",
   "execution_count": 6,
   "metadata": {},
   "outputs": [],
   "source": [
    "def seidelRelax(A, b, epsilon, wRelax):\n",
    "    return templateJakobiAndSeidel(A, b, epsilon, 2, wRelax) "
   ]
  },
  {
   "cell_type": "code",
   "execution_count": 7,
   "metadata": {},
   "outputs": [
    {
     "name": "stdout",
     "output_type": "stream",
     "text": [
      "Jakobi\n",
      "[1.1020202000000001, 0.9909091, 1.0111111]\n",
      "6\n"
     ]
    }
   ],
   "source": [
    "def test_jakobi():\n",
    "    A = [[10,1,-1],[1,10,-1],[-1,1,10]]\n",
    "    b = [11,10,10]\n",
    "    print (\"Jakobi\")\n",
    "    (ans, it) = jakobi(A, b, 0.000001)\n",
    "    print (ans)\n",
    "    print (it)\n",
    "\n",
    "test_jakobi()"
   ]
  },
  {
   "cell_type": "code",
   "execution_count": 8,
   "metadata": {},
   "outputs": [
    {
     "name": "stdout",
     "output_type": "stream",
     "text": [
      "Seidel\n",
      "[1.1020201985951001, 0.99090909050459, 1.011111110809051]\n",
      "5\n"
     ]
    }
   ],
   "source": [
    "def test_seidel():\n",
    "    A = [[10,1,-1],[1,10,-1],[-1,1,10]]\n",
    "    b = [11,10,10]\n",
    "    print (\"Seidel\")\n",
    "    (ans, it) = seidel(A, b, 0.000001)\n",
    "    print (ans)\n",
    "    print (it)\n",
    "\n",
    "test_seidel()"
   ]
  },
  {
   "cell_type": "code",
   "execution_count": 9,
   "metadata": {},
   "outputs": [
    {
     "name": "stdout",
     "output_type": "stream",
     "text": [
      "Seidel with relaxation\n",
      "[1.1020120682451873, 0.9909105605032578, 1.0111016830698611]\n",
      "94\n"
     ]
    }
   ],
   "source": [
    "def test_seidel_relax():\n",
    "    A = [[10,1,-1],[1,10,-1],[-1,1,10]]\n",
    "    b = [11,10,10]\n",
    "    print (\"Seidel with relaxation\")\n",
    "    (ans, it) = seidelRelax(A, b, 0.000001, 0.08)\n",
    "    print (ans)\n",
    "    print (it)\n",
    "\n",
    "test_seidel_relax()"
   ]
  }
 ],
 "metadata": {
  "kernelspec": {
   "display_name": "Python 3",
   "language": "python",
   "name": "python3"
  },
  "language_info": {
   "codemirror_mode": {
    "name": "ipython",
    "version": 3
   },
   "file_extension": ".py",
   "mimetype": "text/x-python",
   "name": "python",
   "nbconvert_exporter": "python",
   "pygments_lexer": "ipython3",
   "version": "3.7.1"
  }
 },
 "nbformat": 4,
 "nbformat_minor": 2
}
