{
  "cells": [
    {
      "cell_type": "code",
      "execution_count": 1,
      "metadata": {
        "pycharm": {
          "is_executing": false
        }
      },
      "outputs": [],
      "source": [
        "import math\n",
        "import numpy as np"
      ]
    },
    {
      "cell_type": "markdown",
      "metadata": {
        "pycharm": {}
      },
      "source": [
        "# Method interfaces"
      ]
    },
    {
      "cell_type": "code",
      "execution_count": 1,
      "metadata": {
        "pycharm": {
          "is_executing": false
        }
      },
      "outputs": [],
      "source": "class IterativeMethod:\n    def compute(self, A: [[float]], b: [float], tolerance: float, max_iteration_count: int) -\u003e ([float], int, bool):\n        raise AssertionError(\"Not implemented yet\")\n    def __repr__(self):\n        raise AssertionError(\"Not implemented yet\")"
    },
    {
      "cell_type": "code",
      "execution_count": 3,
      "metadata": {
        "pycharm": {
          "is_executing": false,
          "metadata": false,
          "name": "#%%\n"
        }
      },
      "outputs": [],
      "source": "class ForwardMethod:\n    def compute(self, A: [[float]], b: [float]) -\u003e [float]:\n        raise AssertionError(\"Not implemented yet\")"
    },
    {
      "cell_type": "code",
      "execution_count": 4,
      "metadata": {
        "pycharm": {
          "is_executing": false,
          "metadata": false,
          "name": "#%%\n"
        }
      },
      "outputs": [],
      "source": "import time\nimport matplotlib.pyplot as plt\n\nclass IterativeMethodResult:\n    def __init__(self, method: IterativeMethod, cond: float, x: [float], iterations: int , ok: bool, ex_time: int):\n        self.cond \u003d math.log10(cond)\n        self.method \u003d method\n        self.x \u003d x\n        self.iterations \u003d iterations\n        self.ok \u003d ok\n        self.ex_time \u003d ex_time \n        \n    def __repr__(self):\n        return self.__str__()\n    \n    def __str__(self):\n        return \"cond:{}; time:{}; iterations:{}\".format(self.cond, self.ex_time, self.iterations)\n    \n    \nclass ForwardMethodResult:\n    def __init__(self, method: ForwardMethod, x: [float], error: float, time: int):\n        self.method \u003d method\n        self.x \u003d x\n        self.error \u003d error\n        self.time \u003d time\n        \n    def __repr__(self):\n        return self.__str__()\n    \n    def __str__(self):\n        return \"error:{}\".format(self.error)\n\nclass MethodsTest:\n    def __init__(self, matrix_count \u003d 10, size \u003d 25):\n        self.matrix_array \u003d MethodsTest._n_rand_matrix(matrix_count, size)\n        self.b_array \u003d MethodsTest._n_rand_b(matrix_count, size)\n        self.matrix_count \u003d matrix_count\n        \n        self.hilbetr \u003d MethodsTest._hilbert_matrix(size)\n        self.hilbetr_b \u003d np.random.rand(size)\n        \n        self.diag \u003d MethodsTest._diag_matrix(size)\n        self.diag_b \u003d np.random.rand(size)\n        \n        self.size \u003d size\n    \n    @staticmethod\n    def _rand_matrix(size: int) -\u003e [[float]]:\n        A \u003d np.array(np.random.rand(size, size), dtype\u003dnp.float64)\n        A \u003d np.tril(A) + np.tril(A, -1).T\n        return A.T * A\n    \n    @staticmethod\n    def _triangle_matrix(size: int) -\u003e [[float]]:\n        A \u003d np.array(np.random.rand(size, size), dtype\u003dnp.float64)\n        return np.tril(A).T\n    \n    @staticmethod\n    def _diag_matrix(size: int) -\u003e [[float]]:\n        A \u003d np.array(np.random.rand(size, size), dtype\u003dnp.float64)\n        return np.diag(np.diag(A))\n    \n    @staticmethod\n    def _hilbert_matrix(size: int) -\u003e [[float]]:\n        ans \u003d np.zeros((size, size), dtype\u003dnp.float64)\n        for i in range(size):\n            for j in range(size):\n                ans[i, j] \u003d 1.0 / (i + j + 1)\n        return ans\n    \n    @staticmethod\n    def _n_rand_matrix(n: int, size: int) -\u003e [[[float]]]:\n        a \u003d []\n        for i in range(n):\n            a.append(MethodsTest._rand_matrix(size))\n        a.sort(key\u003dlambda x: np.linalg.cond(x))\n        return a\n    \n    @staticmethod\n    def _n_rand_b(n: int, size: int) -\u003e [[float]]:\n        b \u003d []\n        for i in range(n):\n            b.append(np.random.rand(size))\n        return b\n    \n    def test_iterative_method(self, method: IterativeMethod, max_iteration_count \u003d 100_000, tolerance \u003d 1e-7) -\u003e [IterativeMethodResult]: \n        results \u003d []\n        for i in range(len(self.matrix_array)):\n            start \u003d time.time()\n            x, iterations, ok \u003d method.compute(self.matrix_array[i], self.b_array[i], tolerance, max_iteration_count)\n            end \u003d time.time() - start\n            results.append(IterativeMethodResult(method, np.linalg.cond(self.matrix_array[i]), x, iterations, ok, end))\n        return results\n    \n    def test_iterative_method_hilbert(self, method, max_iteration_count \u003d 100_000, tolerance \u003d 1e-7) -\u003e [IterativeMethodResult]:\n        results \u003d []\n        start \u003d time.time()\n        x, iterations, ok \u003d method.compute(self.hilbetr, self.hilbetr_b, tolerance, max_iteration_count)\n        end \u003d time.time() - start\n        results.append(IterativeMethodResult(method, np.linalg.cond(self.hilbetr), x, iterations, ok, end))\n        return results\n    \n    def test_iterative_method_diag(self, method, max_iteration_count \u003d 100_000, tolerance \u003d 1e-7) -\u003e [IterativeMethodResult]:\n        results \u003d []\n        start \u003d time.time()\n        x, iterations, ok \u003d method.compute(self.diag, self.diag_b, tolerance, max_iteration_count)\n        end \u003d time.time() - start\n        results.append(IterativeMethodResult(method, np.linalg.cond(self.hilbetr), x, iterations, ok, end))\n        return results\n    \n    \n    \n    @staticmethod\n    def draw_iterative_method_time(results: [IterativeMethodResult]):\n        results \u003d list(filter(lambda x: x.ok, results))\n        times \u003d list(map(lambda x: x.iterations,results))\n        cond \u003d list(map(lambda x: x.cond, results))\n        plt.scatter(cond, times, s \u003d 1)\n    \n    \n    \n    def test_forward_method(self, method: ForwardMethod) -\u003e [ForwardMethod]:\n        results \u003d []\n        for i in range(len(self.matrix_array)):\n            start \u003d time.time()\n            x \u003d method.compute(self.matrix_array[i], self.b_array[i])\n            end \u003d time.time() - start\n            results.append(ForwardMethodResult(method, x, np.linalg.norm(np.dot(self.matrix_array[i], x) - self.b_array[i]), end))\n        return results\n    \n    def test_forward_method_hilbert(self, method) -\u003e [ForwardMethodResult]:\n        results \u003d []\n        start \u003d time.time()\n        x, iterations, ok \u003d method.compute(self.hilbetr, self.hilbetr_b)\n        end \u003d time.time() - start\n        results.append(ForwardMethodResult(method, x, np.linalg.norm(np.dot(self.hilbetr, x) - self.hilbetr_b), end))\n        return results\n    \n    def test_forward_method_diag(self, method) -\u003e [ForwardMethodResult]:\n        results \u003d []\n        start \u003d time.time()\n        x, iterations, ok \u003d method.compute(self.diag, self.diag_b)\n        end \u003d time.time() - start\n        results.append(ForwardMethodResult(method, x, np.linalg.norm(np.dot(self.hilbetr, x) - self.hilbetr_b), end))\n        return results\n        \n\nmethod_data \u003d MethodsTest().test_forward_method(GaussMethod())\nprint(method_data)\n# print(\u0027\\n\u0027.join(list(map(str, temp))))\n"
    },
    {
      "cell_type": "markdown",
      "metadata": {
        "pycharm": {
          "metadata": false,
          "name": "#%% md\n"
        }
      },
      "source": [
        "# Methods"
      ]
    },
    {
      "cell_type": "code",
      "execution_count": 5,
      "metadata": {
        "pycharm": {
          "is_executing": false,
          "metadata": false,
          "name": "#%%\n"
        }
      },
      "outputs": [],
      "source": "class GaussMethod(ForwardMethod):\n    @staticmethod\n    def _find_max_row(A: [[float]], ind: int) -\u003e int:\n        cur_max \u003d A[ind, ind]\n        cur_ind \u003d ind\n        for i in range(ind, len(A)):\n            cur_val \u003d A[i, ind]\n            if cur_max \u003c cur_val:\n                cur_max \u003d cur_val\n                cur_ind \u003d i\n        return cur_ind\n    \n    @staticmethod\n    def normalize_line(A: [[float]], ind: int):\n        a \u003d A[ind, ind]\n        for j in range(ind, len(A)):\n            A[ind, j] \u003d A[ind, j] / a\n            \n    @staticmethod\n    def go_down(A: [[float]], b: [float], ind: int):\n        for i in range(ind + 1, len(A)):\n            main_val \u003d A[i, ind]\n            b[i] -\u003d main_val * b[ind]\n            for j in range(ind, len(A)):\n                A[i, j] -\u003d main_val * A[ind, j]\n            \n    \n    def compute(self, A: [[float]], b: [float]) -\u003e [float]:\n        # make matrix diagonal\n        for i in range(len(A)):\n            # find row with max value in \u0027i\u0027 column -- main row\n            j \u003d GaussMethod._find_max_row(A, i)\n            # swap main row and current\n            A[[i, j]] \u003d A[[j, i]]\n            \n            b[i] /\u003d A[i, i]\n            GaussMethod.normalize_line(A, i)\n            GaussMethod.go_down(A, b, i)\n        # get solution\n        ans \u003d np.zeros(len(A))\n        for i in reversed(range(len(A))):\n            ans[i] \u003d b[i]\n            for j in reversed(range(i + 1, len(A))):\n                ans[i] -\u003d A[i][j] * ans[j]\n        return ans\n    def __repr__(self):\n        return \"Gauss\""
    },
    {
      "cell_type": "code",
      "execution_count": 6,
      "metadata": {
        "pycharm": {
          "is_executing": false,
          "metadata": false,
          "name": "#%%\n"
        }
      },
      "outputs": [],
      "source": "class GradientMethod(IterativeMethod):\n    def compute (self, A, b, tol \u003d 1e-7, max_iter \u003d 100000):\n        iters \u003d 0\n        (n, m) \u003d np.shape(A)\n        x \u003d np.random.rand(m)\n        r \u003d b - np.dot(A, x)\n        z \u003d r\n        while iters \u003c max_iter and np.linalg.norm(np.dot(A, x) - b) \u003e tol:\n            prodAz \u003d np.dot(A, z)\n            rNormSquared \u003d np.linalg.norm(r) ** 2 # just for performance\n            \n            a \u003d rNormSquared / np.dot(prodAz, z)\n            x +\u003d a * z\n            r -\u003d a * prodAz\n            beta \u003d np.linalg.norm(r) ** 2 / rNormSquared\n            z \u003d r + beta * z\n            iters +\u003d 1\n        return tuple([x, iters, iters !\u003d max_iter])\n    def __repr__(self):\n        return \"Gradient\""
    },
    {
      "cell_type": "code",
      "execution_count": 7,
      "metadata": {
        "pycharm": {}
      },
      "outputs": [],
      "source": [
        "# same lenght\n",
        "def deltaVectorsNorm(x, y):\n",
        "    res \u003d 0.0\n",
        "    for i in range (0, len(x)):\n",
        "        res +\u003d (y[i] - x[i]) ** 2\n",
        "    return math.sqrt(res)"
      ]
    },
    {
      "cell_type": "code",
      "execution_count": 14,
      "metadata": {
        "pycharm": {}
      },
      "outputs": [],
      "source": [
        "# Ax \u003d b\n",
        "# epsiolon - accuracy parameter\n",
        "# method -\n",
        "#   0 - Jacobi\n",
        "#   1 - Seidel (determinant(B) should be less 1)\n",
        "#   2 - Seidel with relaxation\n",
        "# wRelax - relaxation parameter\n",
        "\n",
        "def templateJakobiAndSeidel(A, b, epsilon, maxIterations, method, wRelax):\n",
        "    iterations \u003d 0\n",
        "    B \u003d []\n",
        "    d \u003d []\n",
        "    xn \u003d []\n",
        "    x \u003d []\n",
        "    \n",
        "    for i in range (0, len(A)):\n",
        "        d.append(b[i] / A[i][i])\n",
        "        xn.append(d[i])\n",
        "        x.append(d[i] + 1000)\n",
        "        B.append([])\n",
        "        for j in range (0, len(A[i])):\n",
        "            B[i].append(-A[i][j] / A[i][i])\n",
        "        B[i][i] \u003d 0.0\n",
        "    \n",
        "    # detB \u003d determinant(B)\n",
        "    # eps \u003d (1 - detB) * epsilon / detB\n",
        "    eps \u003d epsilon\n",
        "    \n",
        "    while ((deltaVectorsNorm(x, xn) \u003e eps) and iterations \u003c maxIterations):\n",
        "        x \u003d xn.copy()\n",
        "        for i in range (0, len(B)):\n",
        "            xn[i] \u003d 0.0\n",
        "            for j in range (0, len(B[i])):\n",
        "                xn[i] +\u003d B[i][j] * (xn[j] if (j \u003c i and method \u003e 0) else x[j])\n",
        "            xn[i] +\u003d d[i]\n",
        "            if (method \u003d\u003d 2):\n",
        "                xn[i] \u003d wRelax * xn[i] + (1 - wRelax) * x[i]\n",
        "        iterations \u003d iterations + 1\n",
        "            \n",
        "    \n",
        "    return (xn, iterations, True)"
      ]
    },
    {
      "cell_type": "code",
      "execution_count": 15,
      "metadata": {
        "pycharm": {}
      },
      "outputs": [],
      "source": "class JacobiMethod(IterativeMethod):\n    def compute (self, A, b, tol \u003d 1e-7, max_iter \u003d 100000):\n        return templateJakobiAndSeidel(A, b, tol, max_iter, 0, 0.5)\n    def __repr__(self):\n        return \"Jacobi\""
    },
    {
      "cell_type": "code",
      "execution_count": 16,
      "metadata": {
        "pycharm": {}
      },
      "outputs": [],
      "source": "class SeidelMethod(IterativeMethod):\n    def compute (self, A, b, tol \u003d 1e-7, max_iter \u003d 100000):\n        return templateJakobiAndSeidel(A, b, tol, max_iter, 1, 0.5)\n    def __repr__(self):\n        return \"SeidelMethod\""
    },
    {
      "cell_type": "code",
      "execution_count": 17,
      "metadata": {
        "pycharm": {}
      },
      "outputs": [],
      "source": "class SeidelRelaxMethod(IterativeMethod):\n    def compute (self, A, b, tol \u003d 1e-7, max_iter \u003d 100000):\n        return templateJakobiAndSeidel(A, b, tol, max_iter, 2, 0.5)\n    def __repr__(self):\n        return \"SeidelRelax\""
    },
    {
      "cell_type": "code",
      "execution_count": 18,
      "metadata": {
        "pycharm": {}
      },
      "outputs": [
        {
          "name": "stdout",
          "output_type": "stream",
          "text": [
            "[1.1020202000000001, 0.9909090899999999, 1.01111111]\n",
            "7\n"
          ]
        }
      ],
      "source": [
        "def test_jakobi():\n",
        "    A \u003d [[10,1,-1],[1,10,-1],[-1,1,10]]\n",
        "    b \u003d [11,10,10]\n",
        "    (ans, it, p) \u003d JacobiMethod().compute(A, b)\n",
        "    print (ans)\n",
        "    print (it)\n",
        "\n",
        "test_jakobi()"
      ]
    },
    {
      "cell_type": "code",
      "execution_count": 19,
      "metadata": {
        "pycharm": {}
      },
      "outputs": [
        {
          "name": "stdout",
          "output_type": "stream",
          "text": [
            "[1.1020201985951001, 0.99090909050459, 1.011111110809051]\n",
            "5\n"
          ]
        }
      ],
      "source": [
        "def test_seidel():\n",
        "    A \u003d [[10,1,-1],[1,10,-1],[-1,1,10]]\n",
        "    b \u003d [11,10,10]\n",
        "    (ans, it, p) \u003d SeidelMethod().compute(A, b)\n",
        "    print (ans)\n",
        "    print (it)\n",
        "\n",
        "test_seidel()"
      ]
    },
    {
      "cell_type": "code",
      "execution_count": 20,
      "metadata": {
        "pycharm": {}
      },
      "outputs": [
        {
          "name": "stdout",
          "output_type": "stream",
          "text": [
            "[1.1020201207879958, 0.990909077693639, 1.0111110477086132]\n",
            "19\n"
          ]
        }
      ],
      "source": [
        "def test_seidel_relax():\n",
        "    A \u003d [[10,1,-1],[1,10,-1],[-1,1,10]]\n",
        "    b \u003d [11,10,10]\n",
        "    (ans, it, p) \u003d SeidelRelaxMethod().compute(A, b)\n",
        "    print (ans)\n",
        "    print (it)\n",
        "\n",
        "test_seidel_relax()"
      ]
    },
    {
      "cell_type": "code",
      "execution_count": null,
      "metadata": {
        "pycharm": {}
      },
      "outputs": [],
      "source": []
    }
  ],
  "metadata": {
    "kernelspec": {
      "display_name": "Python 3",
      "language": "python",
      "name": "python3"
    },
    "language_info": {
      "codemirror_mode": {
        "name": "ipython",
        "version": 3
      },
      "file_extension": ".py",
      "mimetype": "text/x-python",
      "name": "python",
      "nbconvert_exporter": "python",
      "pygments_lexer": "ipython3",
      "version": "3.7.1"
    }
  },
  "nbformat": 4,
  "nbformat_minor": 2
}