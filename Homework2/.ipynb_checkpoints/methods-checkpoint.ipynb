{
 "cells": [
  {
   "cell_type": "code",
   "execution_count": 4,
   "metadata": {
    "pycharm": {
     "is_executing": false
    }
   },
   "outputs": [],
   "source": [
    "import math\n",
    "import numpy as np"
   ]
  },
  {
   "cell_type": "markdown",
   "metadata": {
    "pycharm": {}
   },
   "source": [
    "# Method interfaces"
   ]
  },
  {
   "cell_type": "code",
   "execution_count": 23,
   "metadata": {
    "pycharm": {}
   },
   "outputs": [],
   "source": [
    "class IterativeMethod:\n",
    "    def compute(self, A: [[float]], b: [float], tolerance: float, max_iteration_count: int) -> ([float], int, bool):\n",
    "        raise AssertionError(\"Not implemented yet\")"
   ]
  },
  {
   "cell_type": "code",
   "execution_count": 2,
   "metadata": {
    "pycharm": {
     "is_executing": false,
     "metadata": false,
     "name": "#%%\n"
    }
   },
   "outputs": [],
   "source": [
    "class ForwardMethod:\n",
    "    def compute(self, A: [[float]], b: [float]) -> [float]:\n",
    "        raise AssertionError(\"Not implemented yet\")"
   ]
  },
  {
   "cell_type": "markdown",
   "metadata": {
    "pycharm": {
     "metadata": false,
     "name": "#%% md\n"
    }
   },
   "source": [
    "# Methods"
   ]
  },
  {
   "cell_type": "code",
   "execution_count": 32,
   "metadata": {
    "pycharm": {
     "is_executing": false,
     "metadata": false,
     "name": "#%%\n"
    }
   },
   "outputs": [
    {
     "name": "stdout",
     "output_type": "stream",
     "text": [
      "[1.1020202  0.99090909 1.01111111]\n"
     ]
    }
   ],
   "source": [
    "class GaussMethod(ForwardMethod):\n",
    "    @staticmethod\n",
    "    def _find_max_row(A: [[float]], ind: int) -> int:\n",
    "        cur_max = A[ind, ind]\n",
    "        cur_ind = ind\n",
    "        for i in range(ind, len(A)):\n",
    "            cur_val = A[i, ind]\n",
    "            if cur_max < cur_val:\n",
    "                cur_max = cur_val\n",
    "                cur_ind = i\n",
    "        return cur_ind\n",
    "    \n",
    "    @staticmethod\n",
    "    def normalize_line(A: [[float]], ind: int):\n",
    "        a = A[ind, ind]\n",
    "        for j in range(ind, len(A)):\n",
    "            A[ind, j] = A[ind, j] / a\n",
    "            \n",
    "    @staticmethod\n",
    "    def go_down(A: [[float]], b: [float], ind: int):\n",
    "        for i in range(ind + 1, len(A)):\n",
    "            main_val = A[i, ind]\n",
    "            b[i] -= main_val * b[ind]\n",
    "            for j in range(ind, len(A)):\n",
    "                A[i, j] -= main_val * A[ind, j]\n",
    "            \n",
    "    \n",
    "    def compute(self, A: [[float]], b: [float]) -> [float]:\n",
    "        # make matrix diagonal\n",
    "        for i in range(len(A)):\n",
    "            # find row with max value in 'i' column -- main row\n",
    "            j = GaussMethod._find_max_row(A, i)\n",
    "            # swap main row and current\n",
    "            A[[i, j]] = A[[j, i]]\n",
    "            \n",
    "            b[i] /= A[i, i]\n",
    "            GaussMethod.normalize_line(A, i)\n",
    "            GaussMethod.go_down(A, b, i)\n",
    "        # get solution\n",
    "        ans = np.zeros(len(A))\n",
    "        for i in reversed(range(len(A))):\n",
    "            ans[i] = b[i]\n",
    "            for j in reversed(range(i + 1, len(A))):\n",
    "                ans[i] -= A[i][j] * ans[j]\n",
    "        return ans"
   ]
  },
  {
   "cell_type": "code",
   "execution_count": 2,
   "metadata": {
    "pycharm": {}
   },
   "outputs": [],
   "source": [
    "# same lenght\n",
    "def deltaVectorsNorm(x, y):\n",
    "    res = 0.0\n",
    "    for i in range (0, len(x)):\n",
    "        res += (y[i] - x[i]) ** 2\n",
    "    return math.sqrt(res)"
   ]
  },
  {
   "cell_type": "code",
   "execution_count": 3,
   "metadata": {
    "pycharm": {}
   },
   "outputs": [],
   "source": [
    "# Ax = b\n",
    "# epsiolon - accuracy parameter\n",
    "# method -\n",
    "#   0 - Jacobi\n",
    "#   1 - Seidel (determinant(B) should be less 1)\n",
    "#   2 - Seidel with relaxation\n",
    "# wRelax - relaxation parameter\n",
    "def templateJakobiAndSeidel(A, b, epsilon, method, wRelax):\n",
    "    iterations = 0\n",
    "    maxIterations = 100\n",
    "    B = []\n",
    "    d = []\n",
    "    xn = []\n",
    "    x = []\n",
    "    \n",
    "    for i in range (0, len(A)):\n",
    "        d.append(b[i] / A[i][i])\n",
    "        xn.append(d[i])\n",
    "        x.append(d[i] + 1000)\n",
    "        B.append([])\n",
    "        for j in range (0, len(A[i])):\n",
    "            B[i].append(-A[i][j] / A[i][i])\n",
    "        B[i][i] = 0.0\n",
    "    \n",
    "    # detB = determinant(B)\n",
    "    # eps = (1 - detB) * epsilon / detB\n",
    "    eps = epsilon\n",
    "    \n",
    "    while ((deltaVectorsNorm(x, xn) > eps) and iterations < maxIterations):\n",
    "        x = xn.copy()\n",
    "        for i in range (0, len(B)):\n",
    "            xn[i] = 0.0\n",
    "            for j in range (0, len(B[i])):\n",
    "                xn[i] += B[i][j] * (xn[j] if (j < i and method > 0) else x[j])\n",
    "            xn[i] += d[i]\n",
    "            if (method == 2):\n",
    "                xn[i] = wRelax * xn[i] + (1 - wRelax) * x[i]\n",
    "        iterations = iterations + 1\n",
    "            \n",
    "    \n",
    "    return (xn, iterations)"
   ]
  },
  {
   "cell_type": "code",
   "execution_count": 4,
   "metadata": {
    "pycharm": {}
   },
   "outputs": [],
   "source": [
    "def jakobi(A, b, epsilon):\n",
    "    return templateJakobiAndSeidel(A, b, epsilon, 0, 0) "
   ]
  },
  {
   "cell_type": "code",
   "execution_count": 5,
   "metadata": {
    "pycharm": {}
   },
   "outputs": [],
   "source": [
    "def seidel(A, b, epsilon):\n",
    "    return templateJakobiAndSeidel(A, b, epsilon, 1, 0) "
   ]
  },
  {
   "cell_type": "code",
   "execution_count": 6,
   "metadata": {
    "pycharm": {}
   },
   "outputs": [],
   "source": [
    "def seidelRelax(A, b, epsilon, wRelax):\n",
    "    return templateJakobiAndSeidel(A, b, epsilon, 2, wRelax) "
   ]
  },
  {
   "cell_type": "code",
   "execution_count": 1,
   "metadata": {},
   "outputs": [],
   "source": [
    "def conjGradMethod (A, b, tol = 1e-7, max_iter = 100000):\n",
    "    iters = 0\n",
    "    (n, m) = np.shape(A)\n",
    "    x = np.random.rand(m)\n",
    "    r = b - np.dot(A, x)\n",
    "    z = r\n",
    "    while iters < max_iter and np.linalg.norm(np.dot(A, x) - b) > tol:\n",
    "        prodAz = np.dot(A, z)\n",
    "        rNormSquared = np.linalg.norm(r) ** 2 # just for performance\n",
    "        \n",
    "        a = rNormSquared / np.dot(prodAz, z)\n",
    "        x += a * z\n",
    "        r -= a * prodAz\n",
    "        beta = np.linalg.norm(r) ** 2 / rNormSquared\n",
    "        z = r + beta * z\n",
    "        iters += 1\n",
    "    return (x, iters)"
   ]
  },
  {
   "cell_type": "code",
   "execution_count": 7,
   "metadata": {
    "pycharm": {}
   },
   "outputs": [
    {
     "name": "stdout",
     "output_type": "stream",
     "text": [
      "Jakobi\n",
      "[1.1020202000000001, 0.9909091, 1.0111111]\n",
      "6\n"
     ]
    }
   ],
   "source": [
    "def test_jakobi():\n",
    "    A = [[10,1,-1],[1,10,-1],[-1,1,10]]\n",
    "    b = [11,10,10]\n",
    "    print (\"Jakobi\")\n",
    "    (ans, it) = jakobi(A, b, 0.000001)\n",
    "    print (ans)\n",
    "    print (it)\n",
    "\n",
    "test_jakobi()"
   ]
  },
  {
   "cell_type": "code",
   "execution_count": 8,
   "metadata": {
    "pycharm": {}
   },
   "outputs": [
    {
     "name": "stdout",
     "output_type": "stream",
     "text": [
      "Seidel\n",
      "[1.1020201985951001, 0.99090909050459, 1.011111110809051]\n",
      "5\n"
     ]
    }
   ],
   "source": [
    "def test_seidel():\n",
    "    A = [[10,1,-1],[1,10,-1],[-1,1,10]]\n",
    "    b = [11,10,10]\n",
    "    print (\"Seidel\")\n",
    "    (ans, it) = seidel(A, b, 0.000001)\n",
    "    print (ans)\n",
    "    print (it)\n",
    "\n",
    "test_seidel()"
   ]
  },
  {
   "cell_type": "code",
   "execution_count": 9,
   "metadata": {
    "pycharm": {}
   },
   "outputs": [
    {
     "name": "stdout",
     "output_type": "stream",
     "text": [
      "Seidel with relaxation\n",
      "[1.1020120682451873, 0.9909105605032578, 1.0111016830698611]\n",
      "94\n"
     ]
    }
   ],
   "source": [
    "def test_seidel_relax():\n",
    "    A = [[10,1,-1],[1,10,-1],[-1,1,10]]\n",
    "    b = [11,10,10]\n",
    "    print (\"Seidel with relaxation\")\n",
    "    (ans, it) = seidelRelax(A, b, 0.000001, 0.08)\n",
    "    print (ans)\n",
    "    print (it)\n",
    "\n",
    "test_seidel_relax()"
   ]
  }
 ],
 "metadata": {
  "kernelspec": {
   "display_name": "Python 3",
   "language": "python",
   "name": "python3"
  },
  "language_info": {
   "codemirror_mode": {
    "name": "ipython",
    "version": 3
   },
   "file_extension": ".py",
   "mimetype": "text/x-python",
   "name": "python",
   "nbconvert_exporter": "python",
   "pygments_lexer": "ipython3",
   "version": "3.7.0"
  }
 },
 "nbformat": 4,
 "nbformat_minor": 2
}
